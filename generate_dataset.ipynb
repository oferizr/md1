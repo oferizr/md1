{
 "cells": [
  {
   "cell_type": "code",
   "execution_count": 3,
   "metadata": {},
   "outputs": [],
   "source": [
    "import numpy as np\n",
    "import matplotlib\n",
    "import matplotlib.pyplot as plt\n",
    "import random\n",
    "import math\n",
    "from matplotlib import animation, rc\n",
    "from IPython.display import HTML"
   ]
  },
  {
   "cell_type": "code",
   "execution_count": 4,
   "metadata": {},
   "outputs": [],
   "source": [
    "def imshow_list(l, scale=1.0):\n",
    "  if scale == 1.0:\n",
    "    fig = plt.figure()\n",
    "  else:\n",
    "    fig = plt.figure(figsize=(scale*7,scale*4))\n",
    "  for i, im in enumerate(l):\n",
    "    try:\n",
    "      im = im.cpu().detach().squeeze().squeeze().squeeze()\n",
    "    except:\n",
    "      pass\n",
    "    im = im.squeeze()\n",
    "    plt.subplot(1,len(l),i+1)\n",
    "    #plt.tight_layout()\n",
    "    plt.imshow(im, cmap='gray', interpolation='none')\n",
    "    plt.xticks([])\n",
    "    plt.yticks([])\n",
    "\n",
    "  plt.show()"
   ]
  },
  {
   "cell_type": "code",
   "execution_count": 5,
   "metadata": {},
   "outputs": [
    {
     "data": {
      "image/png": "[encoded data removed]",
      "text/plain": [
       "<Figure size 432x288 with 1 Axes>"
      ]
     },
     "metadata": {},
     "output_type": "display_data"
    }
   ],
   "source": [
    "scaling_factor = 8\n",
    "ball_dim = scaling_factor*10\n",
    "canvas_dim = scaling_factor*32\n",
    "small_canvas_dim = int(canvas_dim/scaling_factor)\n",
    "radius = ball_dim/2\n",
    "ball = np.zeros((ball_dim, ball_dim))\n",
    "\n",
    "for i in range(ball_dim):\n",
    "  for j in range(ball_dim):\n",
    "    if (i+0.5-radius)**2 + (j+0.5-radius)**2 <= radius**2:\n",
    "      ball[i,j] = 1.0\n",
    "\n",
    "ball_canv = np.expand_dims(ball,0)\n",
    "imshow_list(ball_canv)"
   ]
  },
  {
   "cell_type": "code",
   "execution_count": 6,
   "metadata": {},
   "outputs": [],
   "source": [
    "def draw_ball(canvas, position):\n",
    "  canvas[\n",
    "    0,\n",
    "    int(position[0]+0.5-radius):int(position[0]+0.5+radius),\n",
    "    int(position[1]+0.5-radius):int(position[1]+0.5+radius)\n",
    "  ] += ball\n",
    "  canvas = canvas.clip(0, 1)\n",
    "  return canvas"
   ]
  },
  {
   "cell_type": "code",
   "execution_count": 7,
   "metadata": {},
   "outputs": [],
   "source": [
    "def random_positions(n, canvas_dim):\n",
    "  positions = []\n",
    "  i = 0\n",
    "  while i < n:\n",
    "    (x,y) = (radius+(canvas_dim-ball_dim)*random.random(), radius+(canvas_dim-ball_dim)*random.random())\n",
    "    collision = False\n",
    "    for (prev_x, prev_y) in positions:\n",
    "      if (x-prev_x)**2 + (y-prev_y)**2 <= ball_dim**2:\n",
    "        collision = True\n",
    "        break\n",
    "\n",
    "    if not collision:\n",
    "      positions.append((x,y))\n",
    "      i += 1\n",
    "      \n",
    "  return positions"
   ]
  },
  {
   "cell_type": "code",
   "execution_count": 8,
   "metadata": {},
   "outputs": [],
   "source": [
    "def draw_canvas(positions):\n",
    "  canvas = np.zeros((canvas_dim, canvas_dim))\n",
    "  canvas = np.expand_dims(canvas,0)\n",
    "  for pos in positions:\n",
    "    canvas = draw_ball(canvas, pos)\n",
    "    \n",
    "  old_canvas = canvas\n",
    "  canvas = np.zeros((small_canvas_dim, small_canvas_dim))\n",
    "  canvas = np.expand_dims(canvas,0)\n",
    "  for i in range(small_canvas_dim):\n",
    "    for j in range(small_canvas_dim):\n",
    "      canvas[0,i,j] = old_canvas[0,scaling_factor*i:scaling_factor*(i+1), scaling_factor*j:scaling_factor*(j+1)].mean()\n",
    "    \n",
    "  return canvas"
   ]
  },
  {
   "cell_type": "code",
   "execution_count": 9,
   "metadata": {},
   "outputs": [],
   "source": [
    "def argmin(l):\n",
    "  m = min(l)\n",
    "  argm = -1\n",
    "  for i in range(len(l)):\n",
    "    if l[i] <= m:\n",
    "      argm = i\n",
    "      \n",
    "  return m, argm"
   ]
  },
  {
   "cell_type": "code",
   "execution_count": 10,
   "metadata": {},
   "outputs": [],
   "source": [
    "def events_times(positions, velocities):\n",
    "  times = []\n",
    "  for i in range(n):\n",
    "    if velocities[i][0] < 0:\n",
    "      times.append(-(positions[i][0]-radius)/velocities[i][0])\n",
    "    else:\n",
    "      times.append((canvas_dim-positions[i][0]-radius)/velocities[i][0])\n",
    "    if velocities[i][1] < 0:\n",
    "      times.append(-(positions[i][1]-radius)/velocities[i][1])\n",
    "    else:\n",
    "      times.append((canvas_dim-positions[i][1]-radius)/velocities[i][1])\n",
    "    for j in range(i):\n",
    "      c1 = positions[i][0]-positions[j][0]\n",
    "      c2 = positions[i][1]-positions[j][1]\n",
    "      c3 = velocities[i][0]-velocities[j][0]\n",
    "      c4 = velocities[i][1]-velocities[j][1]\n",
    "      A = c3**2 + c4**2\n",
    "      B = 2*(c1*c3+c2*c4)\n",
    "      C = c1**2+c2**2-ball_dim**2\n",
    "      discriminant = B**2-4*A*C\n",
    "      if discriminant >= 0 and min((-B+math.sqrt(discriminant))/(2*A), (-B-math.sqrt(discriminant))/(2*A)) >= 0:\n",
    "        times.append(min((-B+math.sqrt(discriminant))/(2*A), (-B-math.sqrt(discriminant))/(2*A)))\n",
    "      else:\n",
    "        times.append(float('inf'))\n",
    "    \n",
    "  return times\n",
    "\n",
    "\n",
    "def do_event(positions, velocities, index):\n",
    "  for i in range(n):\n",
    "    if index == 0:\n",
    "      velocities[i] = (-velocities[i][0], velocities[i][1])\n",
    "      return velocities\n",
    "    index -= 1\n",
    "    if index == 0:\n",
    "      velocities[i] = (velocities[i][0], -velocities[i][1])\n",
    "      return velocities\n",
    "      \n",
    "    index -= 1\n",
    "    for j in range(i):\n",
    "      if index == 0:\n",
    "        c = ((velocities[i][0]-velocities[j][0])*(positions[i][0]-positions[j][0]) + \\\n",
    "            (velocities[i][1]-velocities[j][1])*(positions[i][1]-positions[j][1])) / \\\n",
    "            ((positions[i][0]-positions[j][0])**2 + (positions[i][1]-positions[j][1])**2)\n",
    "        \n",
    "        velocities[i] = (\n",
    "          velocities[i][0]-c*(positions[i][0]-positions[j][0]),\n",
    "          velocities[i][1]-c*(positions[i][1]-positions[j][1])\n",
    "        )\n",
    "        velocities[j] = (\n",
    "          velocities[j][0]-c*(positions[j][0]-positions[i][0]),\n",
    "          velocities[j][1]-c*(positions[j][1]-positions[i][1])\n",
    "        )\n",
    "        return velocities\n",
    "        \n",
    "      index -= 1\n",
    "    \n",
    "  return velocities"
   ]
  },
  {
   "cell_type": "code",
   "execution_count": 11,
   "metadata": {},
   "outputs": [],
   "source": [
    "def simple_step(positions, velocities, t):\n",
    "  new_positions = []\n",
    "  for i in range(len(positions)):\n",
    "    new_positions.append((positions[i][0]+velocities[i][0]*t, positions[i][1]+velocities[i][1]*t))\n",
    "    \n",
    "  return new_positions\n",
    "\n",
    "\n",
    "def step(positions, velocities, t):\n",
    "  times = events_times(positions, velocities)\n",
    "  min_t, index = argmin(times)\n",
    "  if min_t >= t:\n",
    "    return simple_step(positions, velocities, t), velocities\n",
    "  else:\n",
    "    positions = simple_step(positions, velocities, min_t)\n",
    "    velocities = do_event(positions, velocities, index)\n",
    "    return step(positions, velocities, t-min_t)"
   ]
  },
  {
   "cell_type": "code",
   "execution_count": 12,
   "metadata": {},
   "outputs": [],
   "source": [
    "def random_init(n, velocity_min, velocity_max):\n",
    "  positions = random_positions(n, canvas_dim)\n",
    "  velocities = []\n",
    "  for i in range(n):\n",
    "    magnitude = velocity_min+(velocity_max-velocity_min)*random.random()\n",
    "    angle = 2*math.pi*random.random()\n",
    "    velocities.append((magnitude*math.cos(angle), magnitude*math.sin(angle)))\n",
    "\n",
    "  return positions, velocities"
   ]
  },
  {
   "cell_type": "markdown",
   "metadata": {},
   "source": [
    "#### \n",
    "#### Generate an example animation of 50 frames:"
   ]
  },
  {
   "cell_type": "code",
   "execution_count": 31,
   "metadata": {
    "scrolled": true,
    "tags": []
   },
   "outputs": [
    {
     "data": {
      "image/png": "[encoded data removed]",
      "text/plain": [
       "<Figure size 432x288 with 1 Axes>"
      ]
     },
     "metadata": {},
     "output_type": "display_data"
    },
    {
     "data": {
      "image/png": "[encoded data removed]",
      "text/plain": [
       "<Figure size 432x288 with 1 Axes>"
      ]
     },
     "metadata": {},
     "output_type": "display_data"
    },
    {
     "data": {
      "image/png": "[encoded data removed]",
      "text/plain": [
       "<Figure size 432x288 with 1 Axes>"
      ]
     },
     "metadata": {},
     "output_type": "display_data"
    },
    {
     "data": {
      "image/png": "[encoded data removed]",
      "text/plain": [
       "<Figure size 432x288 with 1 Axes>"
      ]
     },
     "metadata": {},
     "output_type": "display_data"
    },
    {
     "data": {
      "image/png": "[encoded data removed]",
      "text/plain": [
       "<Figure size 432x288 with 1 Axes>"
      ]
     },
     "metadata": {},
     "output_type": "display_data"
    },
    {
     "data": {
      "image/png": "[encoded data removed]",
      "text/plain": [
       "<Figure size 432x288 with 1 Axes>"
      ]
     },
     "metadata": {},
     "output_type": "display_data"
    },
    {
     "data": {
      "image/png": "[encoded data removed]",
      "text/plain": [
       "<Figure size 432x288 with 1 Axes>"
      ]
     },
     "metadata": {},
     "output_type": "display_data"
    },
    {
     "data": {
      "image/png": "[encoded data removed]",
      "text/plain": [
       "<Figure size 432x288 with 1 Axes>"
      ]
     },
     "metadata": {},
     "output_type": "display_data"
    },
    {
     "data": {
      "image/png": "[encoded data removed]",
      "text/plain": [
       "<Figure size 432x288 with 1 Axes>"
      ]
     },
     "metadata": {},
     "output_type": "display_data"
    },
    {
     "data": {
      "image/png": "[encoded data removed]",
      "text/plain": [
       "<Figure size 432x288 with 1 Axes>"
      ]
     },
     "metadata": {},
     "output_type": "display_data"
    },
    {
     "data": {
      "image/png": "[encoded data removed]",
      "text/plain": [
       "<Figure size 432x288 with 1 Axes>"
      ]
     },
     "metadata": {},
     "output_type": "display_data"
    },
    {
     "data": {
      "image/png": "[encoded data removed]",
      "text/plain": [
       "<Figure size 432x288 with 1 Axes>"
      ]
     },
     "metadata": {},
     "output_type": "display_data"
    },
    {
     "data": {
      "image/png": "[encoded data removed]",
      "text/plain": [
       "<Figure size 432x288 with 1 Axes>"
      ]
     },
     "metadata": {},
     "output_type": "display_data"
    },
    {
     "data": {
      "image/png": "[encoded data removed]",
      "text/plain": [
       "<Figure size 432x288 with 1 Axes>"
      ]
     },
     "metadata": {},
     "output_type": "display_data"
    },
    {
     "data": {
      "image/png": "[encoded data removed]",
      "text/plain": [
       "<Figure size 432x288 with 1 Axes>"
      ]
     },
     "metadata": {},
     "output_type": "display_data"
    },
    {
     "data": {
      "image/png": "[encoded data removed]",
      "text/plain": [
       "<Figure size 432x288 with 1 Axes>"
      ]
     },
     "metadata": {},
     "output_type": "display_data"
    },
    {
     "data": {
      "image/png": "[encoded data removed]",
      "text/plain": [
       "<Figure size 432x288 with 1 Axes>"
      ]
     },
     "metadata": {},
     "output_type": "display_data"
    },
    {
     "data": {
      "image/png": "[encoded data removed]",
      "text/plain": [
       "<Figure size 432x288 with 1 Axes>"
      ]
     },
     "metadata": {},
     "output_type": "display_data"
    },
    {
     "data": {
      "image/png": "[encoded data removed]",
      "text/plain": [
       "<Figure size 432x288 with 1 Axes>"
      ]
     },
     "metadata": {},
     "output_type": "display_data"
    },
    {
     "data": {
      "image/png": "[encoded data removed]",
      "text/plain": [
       "<Figure size 432x288 with 1 Axes>"
      ]
     },
     "metadata": {},
     "output_type": "display_data"
    },
    {
     "data": {
      "image/png": "[encoded data removed]",
      "text/plain": [
       "<Figure size 432x288 with 1 Axes>"
      ]
     },
     "metadata": {},
     "output_type": "display_data"
    },
    {
     "data": {
      "image/png": "[encoded data removed]",
      "text/plain": [
       "<Figure size 432x288 with 1 Axes>"
      ]
     },
     "metadata": {},
     "output_type": "display_data"
    },
    {
     "data": {
      "image/png": "[encoded data removed]",
      "text/plain": [
       "<Figure size 432x288 with 1 Axes>"
      ]
     },
     "metadata": {},
     "output_type": "display_data"
    },
    {
     "data": {
      "image/png": "[encoded data removed]",
      "text/plain": [
       "<Figure size 432x288 with 1 Axes>"
      ]
     },
     "metadata": {},
     "output_type": "display_data"
    },
    {
     "data": {
      "image/png": "[encoded data removed]",
      "text/plain": [
       "<Figure size 432x288 with 1 Axes>"
      ]
     },
     "metadata": {},
     "output_type": "display_data"
    },
    {
     "data": {
      "image/png": "[encoded data removed]",
      "text/plain": [
       "<Figure size 432x288 with 1 Axes>"
      ]
     },
     "metadata": {},
     "output_type": "display_data"
    },
    {
     "data": {
      "image/png": "[encoded data removed]",
      "text/plain": [
       "<Figure size 432x288 with 1 Axes>"
      ]
     },
     "metadata": {},
     "output_type": "display_data"
    },
    {
     "data": {
      "image/png": "[encoded data removed]",
      "text/plain": [
       "<Figure size 432x288 with 1 Axes>"
      ]
     },
     "metadata": {},
     "output_type": "display_data"
    },
    {
     "data": {
      "image/png": "[encoded data removed]",
      "text/plain": [
       "<Figure size 432x288 with 1 Axes>"
      ]
     },
     "metadata": {},
     "output_type": "display_data"
    },
    {
     "data": {
      "image/png": "[encoded data removed]",
      "text/plain": [
       "<Figure size 432x288 with 1 Axes>"
      ]
     },
     "metadata": {},
     "output_type": "display_data"
    },
    {
     "data": {
      "image/png": "[encoded data removed]",
      "text/plain": [
       "<Figure size 432x288 with 1 Axes>"
      ]
     },
     "metadata": {},
     "output_type": "display_data"
    },
    {
     "data": {
      "image/png": "[encoded data removed]",
      "text/plain": [
       "<Figure size 432x288 with 1 Axes>"
      ]
     },
     "metadata": {},
     "output_type": "display_data"
    },
    {
     "data": {
      "image/png": "[encoded data removed]",
      "text/plain": [
       "<Figure size 432x288 with 1 Axes>"
      ]
     },
     "metadata": {},
     "output_type": "display_data"
    },
    {
     "data": {
      "image/png": "[encoded data removed]",
      "text/plain": [
       "<Figure size 432x288 with 1 Axes>"
      ]
     },
     "metadata": {},
     "output_type": "display_data"
    },
    {
     "data": {
      "image/png": "[encoded data removed]",
      "text/plain": [
       "<Figure size 432x288 with 1 Axes>"
      ]
     },
     "metadata": {},
     "output_type": "display_data"
    },
    {
     "data": {
      "image/png": "[encoded data removed]",
      "text/plain": [
       "<Figure size 432x288 with 1 Axes>"
      ]
     },
     "metadata": {},
     "output_type": "display_data"
    },
    {
     "data": {
      "image/png": "[encoded data removed]",
      "text/plain": [
       "<Figure size 432x288 with 1 Axes>"
      ]
     },
     "metadata": {},
     "output_type": "display_data"
    },
    {
     "data": {
      "image/png": "[encoded data removed]",
      "text/plain": [
       "<Figure size 432x288 with 1 Axes>"
      ]
     },
     "metadata": {},
     "output_type": "display_data"
    },
    {
     "data": {
      "image/png": "[encoded data removed]",
      "text/plain": [
       "<Figure size 432x288 with 1 Axes>"
      ]
     },
     "metadata": {},
     "output_type": "display_data"
    },
    {
     "data": {
      "image/png": "[encoded data removed]",
      "text/plain": [
       "<Figure size 432x288 with 1 Axes>"
      ]
     },
     "metadata": {},
     "output_type": "display_data"
    },
    {
     "data": {
      "image/png": "[encoded data removed]",
      "text/plain": [
       "<Figure size 432x288 with 1 Axes>"
      ]
     },
     "metadata": {},
     "output_type": "display_data"
    },
    {
     "data": {
      "image/png": "[encoded data removed]",
      "text/plain": [
       "<Figure size 432x288 with 1 Axes>"
      ]
     },
     "metadata": {},
     "output_type": "display_data"
    },
    {
     "data": {
      "image/png": "[encoded data removed]",
      "text/plain": [
       "<Figure size 432x288 with 1 Axes>"
      ]
     },
     "metadata": {},
     "output_type": "display_data"
    },
    {
     "data": {
      "image/png": "[encoded data removed]",
      "text/plain": [
       "<Figure size 432x288 with 1 Axes>"
      ]
     },
     "metadata": {},
     "output_type": "display_data"
    },
    {
     "data": {
      "image/png": "[encoded data removed]",
      "text/plain": [
       "<Figure size 432x288 with 1 Axes>"
      ]
     },
     "metadata": {},
     "output_type": "display_data"
    },
    {
     "data": {
      "image/png": "[encoded data removed]",
      "text/plain": [
       "<Figure size 432x288 with 1 Axes>"
      ]
     },
     "metadata": {},
     "output_type": "display_data"
    },
    {
     "data": {
      "image/png": "[encoded data removed]",
      "text/plain": [
       "<Figure size 432x288 with 1 Axes>"
      ]
     },
     "metadata": {},
     "output_type": "display_data"
    },
    {
     "data": {
      "image/png": "[encoded data removed]",
      "text/plain": [
       "<Figure size 432x288 with 1 Axes>"
      ]
     },
     "metadata": {},
     "output_type": "display_data"
    },
    {
     "data": {
      "image/png": "[encoded data removed]",
      "text/plain": [
       "<Figure size 432x288 with 1 Axes>"
      ]
     },
     "metadata": {},
     "output_type": "display_data"
    },
    {
     "data": {
      "image/png": "[encoded data removed]",
      "text/plain": [
       "<Figure size 432x288 with 1 Axes>"
      ]
     },
     "metadata": {},
     "output_type": "display_data"
    }
   ],
   "source": [
    "n = 3\n",
    "velocity_min = 20\n",
    "velocity_max = 30\n",
    "positions, velocities = random_init(n, velocity_min, velocity_max)\n",
    "no_frames = 50\n",
    "canvases = []\n",
    "for i in range(no_frames):\n",
    "  canvas = draw_canvas(positions)\n",
    "  canvases.append(canvas)\n",
    "  imshow_list([canvas])\n",
    "  positions, velocities = step(positions, velocities, 1.)"
   ]
  },
  {
   "cell_type": "code",
   "execution_count": null,
   "metadata": {},
   "outputs": [],
   "source": [
    "fig, ax = plt.subplots();\n",
    "plt.xticks([]);\n",
    "plt.yticks([]);"
   ]
  },
  {
   "cell_type": "code",
   "execution_count": 33,
   "metadata": {},
   "outputs": [
    {
     "data": {
      "text/html": [
       "<video width=\"432\" height=\"288\" controls autoplay loop>\n",
       "  <source type=\"video/mp4\" src=\"data:video/mp4;base64,AAAAIGZ0eXBNNFYgAAACAE00ViBpc29taXNvMmF2YzEAAAAIZnJlZQAAtbttZGF0AAACrwYF//+r\n",
       "3EXpvebZSLeWLNgg2SPu73gyNjQgLSBjb3JlIDE2MSByMzAzME0gOGJkNmQyOCAtIEguMjY0L01Q\n",
       "RUctNCBBVkMgY29kZWMgLSBDb3B5bGVmdCAyMDAzLTIwMjAgLSBodHRwOi8vd3d3LnZpZGVvbGFu\n",
       "Lm9yZy94MjY0Lmh0bWwgLSBvcHRpb25zOiBjYWJhYz0xIHJlZj0zIGRlYmxvY2s9MTowOjAgYW5h\n",
       "bHlzZT0weDM6MHgxMTMgbWU9aGV4IHN1Ym1lPTcgcHN5PTEgcHN5X3JkPTEuMDA6MC4wMCBtaXhl\n",
       "ZF9yZWY9MSBtZV9yYW5nZT0xNiBjaHJvbWFfbWU9MSB0cmVsbGlzPTEgOHg4ZGN0PTEgY3FtPTAg\n",
       "ZGVhZHpvbmU9MjEsMTEgZmFzdF9wc2tpcD0xIGNocm9tYV9xcF9vZmZzZXQ9LTIgdGhyZWFkcz0z\n",
       "IGxvb2thaGVhZF90aHJlYWRzPTEgc2xpY2VkX3RocmVhZHM9MCBucj0wIGRlY2ltYXRlPTEgaW50\n",
       "ZXJsYWNlZD0wIGJsdXJheV9jb21wYXQ9MCBjb25zdHJhaW5lZF9pbnRyYT0wIGJmcmFtZXM9MyBi\n",
       "X3B5cmFtaWQ9MiBiX2FkYXB0PTEgYl9iaWFzPTAgZGlyZWN0PTEgd2VpZ2h0Yj0xIG9wZW5fZ29w\n",
       "PTAgd2VpZ2h0cD0yIGtleWludD0yNTAga2V5aW50X21pbj0xMCBzY2VuZWN1dD00MCBpbnRyYV9y\n",
       "ZWZyZXNoPTAgcmNfbG9va2FoZWFkPTQwIHJjPWNyZiBtYnRyZWU9MSBjcmY9MjMuMCBxY29tcD0w\n",
       "LjYwIHFwbWluPTAgcXBtYXg9NjkgcXBzdGVwPTQgaXBfcmF0aW89MS40MCBhcT0xOjEuMDAAgAAA\n",
       "BTpliIQAEf/+94gfMstp+TrXchHnrS6tH1DuRnFepL3+IAAAAwAWnJlD+2HHTlrDQABCibOAP4ov\n",
       "/iAGVX0wcWh2dByniuWjBLxeKVVK4bukn3nlV3xh9c6/UA2iHa3+VPGCOkGr0XZB/GeEtwrlnIRe\n",
       "hTELz1k2p4au3eZgdFsYtUj0cCRg9uheGiQk39fayYcwAO79os3W+gODMH5QZIw85BJisKCOjPXV\n",
       "klH7jEUdgebHawn8+IPgGU7BIGZOTop+OgDwRSAsKPG8Om/NMENwfXykP/uEJ3u52+cBO2VUdI9Q\n",
       "/gRHN3B2ZPepnh7d4/Oy6xUAKtrVoEykY2zi/rqKXbKa017rJj4AbJmbjEzNsgjfSe8oY4iI89mt\n",
       "MJosmltqwPbuIPrklO/+Auv7VLCouQRF2xzKznmI8pWQxR3UIXunO8pQczeZkHLozT/FfEH0H6Wg\n",
       "J5SzB9ajzHjfMGnnBkT3lBGlFZ7iGlVJpRZYTpvfquXnJpOti9v1PTpdzgqHc5A/8kK0jMaHIOtp\n",
       "OoRnI/VKLkT6/eQynO1QoacH1Nsh7W/T/bvuYuP8lMthL45SP7pwR9Uk1bEZ94lSq/WQIv8K3ePg\n",
       "9wh6IkBP5xtVho9bKjZL4REWpHIPA9GXeSaihc6u6+elUp0w3sH8XTFKpJwEKoQM3/nbTaS0W3Eh\n",
       "B/QZUCAtIHS3wWBHHgL81WEnrfQpBU1cmzfNHWiMeMrvJtH11E/ECF68lhG3LUDi1noQ2nvEpowg\n",
       "z636uvvlONbNagwC8vR+U3l/x//d8cSet3SZkuB+oV6GzBErlDGBFrXU+YvK5bmHo9xPM6gTxL2T\n",
       "uuaYNdMLxxv72eSdzQF223GIV11fKSVSyQ5sTZyD86EcQtwvNVUXjJCtFBgePP97wrSMhWZSj+1h\n",
       "7JLRfaHilVLHb028uDkHWYNWGmGQA2lEIyyb2uLe+EpPESFDUIVIR+XABTJvLcMe5gLHygR+GJYD\n",
       "Byb0syipBksl7HruVFRkHhh8VEd2ubXuPQZ+Z4y/FhYO0lMDguwU/V2yZ1kd/A+8K7+iAJOyTkoW\n",
       "t7N3kj1wAcXgoQ03X4WV2E0O0JD63NO9vFEvTGMowXFjkapNq5nMrHm9DXL/b7Ts+7GD2cqU8+pk\n",
       "NSGNLre4yhC+M0vEgKB1NnIJOEMHV6TmL7wVnx5plRLG1lMY4SxaYy7zAswup1tG1p+VIdNVNzXN\n",
       "iJ19QKczaiTBTOUMI7nPFlLKejsezhmqtFjcDgcS5nIjKgkGsGOq4rhGnSIBVVNULqp+o2JflRZU\n",
       "mGf5+tEqxzR4PchkLCCQ7c4YqTqS2HrlanmVgd89QteGtlw35FFIOuyFZlSL/5RuVcmjN153DDhV\n",
       "bVbl+z4siMuoO+q2XTiTdHVsKh2L5eay8o9sG+uSPMaZcLvLhl0VhlTqWA4iz44xVHz9WN1bPc5N\n",
       "hAmr5WGS4yFECYaa2CEjRk2y1aXHbCqIAe2Y43AK/n552v8soDSQRZHLfzBQo3p8LNvUnkPUUXUx\n",
       "2ow9SLPZuPVzVAmENZRRT8a2YtIaff7CVDT/x5Ko969opoGnX2yEs5+8CyO70CniOhsanfM2qBew\n",
       "yw0NRhNSp3CzKi/mgQ3n8hnC3kHPs7R5vdIDl2er0OiWVLdTS65cz1j3gB488CxzMgp+tHgYG/5p\n",
       "yYUgYd/r1LMt5WPgAA/HVL5xb2qHzI8ASVdpSL7NxlW8+t+rFdzEw0+0fr8Dn93V947f7b8JJqTE\n",
       "AyvKIo1h7ifrQa7e4zgnEFSlGH9Am4pWpMgARMEAAATRQZokbEEf/rUqgBlCkWqHAG5TIFQAkwIt\n",
       "z+6sJXge2Sr1vf8QQr++9xkCAjPh9VKoO3iS/wPLIJ6jQuqU48xZv5sb2Ph+Tr/P32kDddEd9wCZ\n",
       "W8k9HBFl4sNbPjEiJdgv2pnXeAEJpAXn8P+vW1gu2tzZ1UScSFb2v/Ggljbevjdpgl8I1jKQ+aWU\n",
       "dO9R7tIlnwORg2Fi+87IsAV6XJ49uuiHmcMUoYEpQvhgSX0X6WzUDe/bN2+r7fKywA4MnASBT/py\n",
       "CXw+TCizqiZ3JJad1LSZtJwyqNjLhG/GxuEbPl3YCrQkSPWb0nvGC/3l7cH597sZ2vqLeSuY50Mm\n",
       "N0bkN7Y+GEUgW9eFPJZgxB/O+bBbUePau/33vNTbgHUcFAnoM1WWNX/MHxjaaVwhwqb5/W/l85nb\n",
       "qdeXNpygPiG8BpNPj7h8ugkDYq4aXKEbrlbFhxIbMiiGrqUv/+l63SyRF3f+JhD89/bIrbsFJ4Zh\n",
       "u2yEnp/ePllwELETStpEePZXzzEMyxV6VF973RGV5GIHEI0tgNmMpXKZRIjOE4x1mYt2OqBb+9JZ\n",
       "34Dj/czB/nMQVWyotJsnsk1kHbJ785DAHd1jmG0ztrQ29gn+u6ZY3+TA4KsdPIZN/lbzSpFKHDSo\n",
       "0TJgu+czbW+JP1jy8zZXS+A/EayDKEL3HtHQuObGf6ct5VR793UhZkBtM/a+Y86UjAiCj8Sxl/EG\n",
       "u80MBoqzPxBtaAliCw5CwHYKsEcvoQbQk6koAkMTastATue5hcrPBCR+sUJ6Il3+60XGJbsfSsFW\n",
       "BssSZbgqsMzguyhXPI1WOrnBi0O390CdGIm0/p5RHFtQunJ6rieMQMq/pIK9hg673mrKEEbLGQ/Y\n",
       "cWPxVRSdxaN3YYXoczQc9L+DnjqpC5xHOpXXolQij8JCCBFfXz3HulehJmNs4tuOxt9aH342p1+g\n",
       "nTNe07RsVhqWMigqgZvpyc+LQ/MjZcLqukmLeWW6yR+rWghGr+ksi+ppYXDxpdIJ9O0l4zNnPm0v\n",
       "0h+SrK01bFA9OEQt5zF6ZmwZxV0Sd0bzglLcaHWu4hRE+P5bdmCPjt/SYLWyecSvl+gVfUdK8eia\n",
       "+cQzJ5U+R/2HD1evSkYnoES4CsPNjCKvlqFgiJ5beWXeE+dy8ZYmuGD0ULLJAJjwAUddGq/5T30I\n",
       "nQT52zA5kUUfSvraE2GsvYTllgkykisJKPj2Dw6VzeCgqA2j0hrKrgi245gyVBBlH2vA5bH/8KHk\n",
       "KEJy8KBIFGIHVKIrXqGEBQ7swptGOWtiA5ateDcpXLDYDpUnKBLAdF9/tLQrrOqC9q9DCqZer9EF\n",
       "DhW3MB/LNYCHKkHCiPBL9yNvFQtLgoedE7UpgjsUowVlUfartZMHRABrp2rjqEtg6gWmHnsEKB1G\n",
       "krF/8MF1zzAxL/iqFkAaft3JaJbUNhyote0110PMzzqx/zwlUAnX/16Di4zCilRsnR9akRR1cTxz\n",
       "c1Q/jVcr1n2xFrE4mTJrdO2JXy/HwfczK0ucgSxodl8kdher3PZPhShvGUBS+8KQPVOpHRbihe1x\n",
       "4NQb3makCh4GA7/+2+dEHGpeP0aZHq3OnfN+Ovzw3qo/sDEQOCZC2f4sv37euQGJLj8/q/g5n0rQ\n",
       "PjS7Wdx8ileDOkEfAAAELkGeQniHfwDPouQM7ZzgS9MYV6pvkQhIANBDMd5KXD2Xf5nfNkRas6sv\n",
       "+SKeyH79tItfb0qAQ/NRAoZLtV3XqxBVHrY5wqbkEjaHrnLIEhZTcSs6zT1tSDn7/0absLssf2os\n",
       "j57hpw0e37af2x0Ojx5sfRlFckxP6QtXPFfgDJb6nU69CvJpMYEbuinj2TOOvzQmgKoCszftDQCS\n",
       "A98Wxq5vC5E/5pydT/xQIkFxUhAu8FYimXlrdagSxSMCZh4jOXFT0CR3+BXvc2gw7Hzi5OIKw9cr\n",
       "MLsauwBa1Dg5TQpHCJdR3QoSTORcverU2JILjIO1xDCh+tMdZ0HewoQUGZ3EyANhpN6pEqxtcXbH\n",
       "X4XyhKYN7Is3pAf7sjxelLXzqKXwQGsLdMkDsxfjGCV+V8xiIjjVg/na03e6J0TgcFEsFwgY+Wkq\n",
       "xrv+BEVlpvKFv0AXxkqY0dH6Z5VgQZ3QlIut7v41kwRr03ym7YaoM1Crrhcy8FbGi7R60mlD9iKo\n",
       "eG7PuRIm1QEOjznMXTqWDHfRIiI0raUr0HHFPNcA1dO153QaTCIMFCkyGpzOkdXSlupW/3PZGJs1\n",
       "rIXIwKljnVGmyHkykk+ruRS/MW82zy4tBedNj7f/DlmGgzybPt/b08q27aYpDvfbv1aN5RxTy67V\n",
       "vKxRvYBLRwr3uHNTrX3FZzN22arXJ88wTlEGs3F4gwB7/UZ4cgZzKGFQfu7XyZFyLFOye7Hoy8xh\n",
       "jTnw0h0kw0riG9lr8nCw9+HgS311FDvZPv+W4E5mJUnlrkzeSuoFtTAtsk56UDYcqwmksN32U3XF\n",
       "djZnAYD7jbBrsSWkUZLHF1tHXZYant/TjgiNLFyQcq7x57li0BPB5QYXc1NIVsJ/RHEuC8jq5yuc\n",
       "BYUKMIwqJMyqZUOOECPfzyA0en3Ctld5C/fV012Khu4c8wACroWExQSQkSgmD/2L69POw0aMHZUX\n",
       "2VGnVV40EcgZ1NAUnK+TNrxfmnXkVzlRL9mnngnFqdxGBKUIfGzGAiztAERerMrEWq63Zp8JcReJ\n",
       "PbeHybfAJdst8mUuoxW3s+lmPOjA5i8cs3B8RvoyYw0PkQjZy3Ng3peRFSjXkvNVFt9uwRCvn7x7\n",
       "P4cLg6wJsK5UP3QrXpO4l1ROySkz4pzjBJzebBaKxUw8tcZ/j5+Ufd8K78LR8CgoR8ARcwkTO13d\n",
       "105hFgzvpULJ/wtgfY1GzhDwNN12cbnsxzt9xwEDdLPKdB+NwgcdqdhpMAyaZ4xAI6zJYJy6POXj\n",
       "tdoZfWizk10n8v3K5V7EfAAvc7RcoXwcZzXKQpwRbB5GAcO4MBcJnKic7jbhTav/RXrdt526czs6\n",
       "KdAbHKvJdCeb9reisx5XXoxIrTfTeTNykYeHrEn/iB4v/muSFlGJQxcbZeC0cpvx+bxUHZPResXJ\n",
       "IJuFAAACgwGeYXRDfwDvCW8TxIVfaBQWQoIBRfXpQbez6Js0PY/gAHWnAaSX/KK6NjRWP0w2usik\n",
       "A5GTNP/h/5DxsNU/h/p+bYBvyfaKngFOAie2QWrtupWgA+i/60TS2xe50x3ycqh+2I/s8cLPHpVs\n",
       "/67K+ICJjNKYdffz1es4qXo1RMaNgK1YgeqCgc1am6OdtUTeSWtEmtd37wGFrG0Wb0VZjg4PcPIX\n",
       "N+pBRx7gbvgZfuF1VS8De+zKXJiaQFYZ8gdy439SUw30rdrAZUzP2/gVrvrjZrSKTNoN1UCV1O99\n",
       "HKe36L5ajZYSSX1fe8z5Jajmmw/bN273B/s/2C03X9LY04dZyRfZ6sInNhpam5zCYnFc2XQt62jO\n",
       "jN/ohDyOPAzkFO329QfI+VeG+rHILkcXeOj8/uww8rMzQ728fOmBQDDPTfDYrZZsyiB9QWML/MAg\n",
       "byjwZ69cHsT4jAAmcZPPQsRe3XrFkDANRX0Ae/QpU3/YXDGt5O/kTWplek0I3nirEUmKvNv/LD7q\n",
       "pA/1n6GpAAP7v5f+TE1JfBR9yzd4crJbEDmU0G8a+xem0cKXgri0Uhs/FMzwZ/rKAGUBpgJCaBIj\n",
       "LieOGfCv8kiInlMHPAGWwueWl2JiNtT9bka+qlRasG7ejGL0vQoRoO74exK169rn4OQCd++u6ktD\n",
       "66//jtiqrd/IjI7x1dSFQ08o5fk5VX4B0s3ILVpbjf2yOSgkArCXeFC8wH898M1y34+KnOh0D6FS\n",
       "Wzy+iVA65oVb6dSMTwP5E5LMbM6POqKRgDLqFl0hg7JflyKAA0qJe0f0I8Tln0YSipXpOm628Tor\n",
       "RVFdavLjZJ/xXpeMqHjg5tMEJgupkxsAAAK2AZ5jakN/AO7PEA/K5WlF5m5fo1Q/uNPnAC6rUOSR\n",
       "mzhT4Vvfftvkh1D37JgxPFdjBQZm2MMb/grGKY477Uc3bcPm17w8nQmx2k7TC5DNwJ9jes4I+xCC\n",
       "hr1o+RMQFgmYgSUY3me9lWsFXj7T3s59VPXATLEXR88tZGyApXvXC8Ko5QqECWO2CR7czqfRygmc\n",
       "5sjosazhJtE5yvjcmr4+n16xEmu6sogXzNg5ko9PknSdimOaVEF7D2IBfxhve6q85zU60xY82beu\n",
       "i3x1ZRty5S9LechtBxQZMErDMxwMHLQyrw+kJOCC+Ge14tuU+7Y2HrkUnC6i85L8dRT+dTN1hMr9\n",
       "5i9Im2C8VzEpRpilaZ4jqCMzt4gZ67WjbIqM+EH5nBuqm7SrdgNx1JqvaWKmP6eP6PETH776++zK\n",
       "MVO4y5OiPQBRf6vuDbiIKikl0u5jX8qp9yOw+80CW+jxgeidPvZh1mMwd6+qdYAObvoagJp0MPE/\n",
       "II1vsZzSAJCPrU6xL/sYS+9NpzcLL50QJTZzmQozwJXx89cosxnYpuj8Z0Ukuerve3mArIHCR5lb\n",
       "J+WnAz5Fb41caVSRGbqycFtxa22/GfEQqhucBkv4ofTggyM+BNJBJ2uC3BGNJfNufi+ULs42JxrI\n",
       "8mPOqlex0LQJiEI/cMISLor3tH0i+YpWtDnCIFwDquvCUgLnNB0Jx3ujY+ZmYzsDeAEuQGCl45ay\n",
       "hz1c9RTi/p+lGHZNGgwsDQZ9DWQzbDPky8svOW4rezeE6iowu3kq38cibTp6QbeD0aDFHUyPUrHl\n",
       "8/MSP7+bh9s+b4kQfivtm5h4t7R4/XteTgVX5OcnXMQ1BdWOvzoWSE16uzACLXNGlqTmj4SSWQm6\n",
       "RdW7J/e8drohYjBWe1kXDszCQVtrRu6O17anru2q/5oUGCt9HwAAA/ZBmmhJqEFomUwII//+tSqA\n",
       "Fj+fw1i6/MW0tGn7BxiWUAUrG0gx6Lj1VAR8Rygmxow8SaslhkLQX1qz7k5p11q4PUl/Il//4R5Q\n",
       "PDUwsh0xK0dIP1CIIMnLVa9ZzJzvkqawL2zu/I4bLM+WJr1WwEivnHqKiCfCzqCxqg1dPxR3+hZu\n",
       "+h8qhgeWC9ZV9vpdiV90BiH+yLU+5AHjsAJ6bL3Zsh/Z0LdSvoj2XhtHJRSUqimJIgUMZRehjZd6\n",
       "FZ0nRUFJXxFMqp6wmjBgpbDXFZhEV1XTWucr+ALI/9DVib8chJjqa+Lhbb2+FJo3CAHViRL8Y04r\n",
       "bpFZKBwn8hj7C+QJ4L+ZqNOpRPbmkEN0ftzYhc4D1Pj0UQB0U3crPlb/iMs2fsyhKV0v0vwOAJRs\n",
       "qkPMRSC8laCR3Ar5lvlML/DoSQtO/D4kc854KKbH4EWPFRdS8yjNmk1B29yFGiYcUGUVGFZkdapq\n",
       "Mvkeczv3p5/9NDmlVKTFcig+lCD+P2pGuJw/NRspz0q7QDkdmDqwRO9U54E/kswJp2LXhL7wkInx\n",
       "haoZmAE+xakEibbpjMFjcmESoPcHOayDJ1iYaYUAmcbjsI5utK6rpRDXUGeYBNo5z6yYmua3V+Q/\n",
       "LBoI/l8kanNWDQnKbWIVKYMDVUzB6jMsoFbWkYJLGbN/qK1RIGuCv2hElzQQqt6NNmQCDTx07wHY\n",
       "2/68K3bOKeEqRcZfkHVeR/yhVj+vjTz0h8KkEIRApCrfAKbEKAEoaNigdYCxHxvTgvq63eyCVgT3\n",
       "ggPubn1zWxBc3Boc2pj5XLGhtP67Osa31e6Ug6Olv3nmkPH1B5jb+AVuvEakq6l5nTmx+8QYyR2R\n",
       "pdbqxhltq47d6SA6/DYYrBeLAxGyuXA9SaZoPOdHVXV5bfAY1wH1U8yQpob/DGrLwWdti5JGr2F7\n",
       "K/MynHkb7qqC7Em2nLvTcNB/VbR4pVOb6xH6WDeCIE/XCMI16+p0ipjPPvVnExVwhcXo7ijyb+1H\n",
       "tdMW3mPw27AJ0SzqMeKVMM3JFwOiZB9bCuH/Oy3XvHPqmVuodIaZ6Bac2YoC062AXPxMP56mtyDB\n",
       "W6ipgrheUIUioRIUmXEnW7PRylRGquSAwK1keburrvR/JqE+p636evlR2w9jId3AQEjzHGtNSwZC\n",
       "LQoRPKh3OmGPKsdikhAoTu+6c/IPbdZ1Wc869E08LE9qEZeZRYj1RPCcxh3bI+KL4xdl2fv1Ovb3\n",
       "55wrOIoC+Nqe/qIH5COWxclZ5nyoKLsBBQyoN6WXho1Azr15ck6OSD6X8D4wgnALxAhxJY/Po8aM\n",
       "+iQfHj6Jszcv+NWxrDrbVYGK6mRLnbcYg/JGMRkAAAOkQZ6GRREsO/8Az6QNBVeDv1P9qQBHXj1I\n",
       "K1cPYBg3+5NqcKhVb/olDLOR0KdU1iDFRgnV7zF7+LIgHgF+eP2CcEtbmmQ7airNQAP2KbyCbyck\n",
       "FyeQetTLvvtzLmPe7/DXEHbenvcL5qfyHEgw3UxkPoTpsj09dLfRMC5aYuJSd9TQEqakS8+Sv/JN\n",
       "gBrCDcn2nLbQfMGQaDpqJ57Q1ddYpl9TfPNefGAu3QVyVIS+G7WiSXJT9AzCnCcZhZD7m/UR9N5u\n",
       "cyqJZNFb5pNo0dsFZ1fM0kpj3CQnOJL3GHrwObSUMjHa0aet5VLvhf3BLbEDjcfemiEXc7wkNPzN\n",
       "R6OPduCCvlKnfkVuqVSStRKAm1tjnLInNOoEL3h623a3s4kiYOiTZrPUXndaTpmviYbViV2UhhZV\n",
       "9M177Rrzeq1FZSLnY5eOxV2Ad/tVD/QVbeSkdRmyk1W8s0+rvTGkLIYrRRCMTDc8Lg4AFpeeayYh\n",
       "s8zuom6AezX2/H/rZavqQ2zXWD1yQPKaFPGvS8gWfXMAMKfx2oYXH1b9x9ehTLxyPAMldy20Yi9+\n",
       "bCriOkn0c/R/s9M3nJ4KI+NZLtkpBjFF2g4r4Ou4Kxd2JhXP2J8X2kSw3r2z/Y9nHOn0ZJuR1+WZ\n",
       "742Rm2RieXEaW38kDnvi/q2SJSvW+JejH4iB678ELDTIiURrWYzpXeQPYcDterlnzLHNj7wOYXrZ\n",
       "OoqLH4xPbxifvR5QagPvGn8RTv46bJm3L3NEXltN6wg6QE81BUz7jxFZDGQ/gsLjxSC0YSZMRbD7\n",
       "1kGr1guxiFql3zdKgsI4R3pZLx6w8r62vdPdBMEhHPxvjWaMpdWY85F/77v/c51XNCdtNHB0VfrR\n",
       "AZw0oE+megLIENSsWcpdJtB8U8mjhea//CBqPSmh3bo24qIoek9nl+Uw7gsBEg6XxH//Rlly72q8\n",
       "MrPaeOL2rd4LWhKCWhTcKXLnFRtM3xyVpuwh+eq9GpNHTP53exljfcqfVXVr5R/Tp+H6MncO+7Za\n",
       "qIEbjLVAdH1IQyqw7livOap4iaLyNYvJoLswEJT1e/WDAKKg8nICdszEClr4xVc+0OnyM5ETroZD\n",
       "QvLZFXUQ2eEvd3hozPUEgVEb1qykVonliALCr4Pa6a+bTxQSaNSZxZObPR7UHfrU3qcZK9r7s5ti\n",
       "q/VlW7QR4I3EW4mexLGUz27V54qUEilMavy0zyTb3QEpzOWYay//igm6gxDkmEM/fKclEDEAAAKv\n",
       "AZ6ldEN/AHZ02lVhPtC6Ju9K0E3op6d5/7cf6ADvX76/0Br4Eq5D4n86NbkQrwNqW2HM4I9gTUm0\n",
       "ArDuMtbG5Tt3GX50mAn/71p6tj9YpazJGKRMiCoRzrwXz0bR62Qp4vfT4gH31ymznYU2hb9xyHN1\n",
       "oa7rRcnP0IFu648cSxt+ECKKGX51Qay2etqiyS+d+nbBfbb3LtJZg2R+m6GAZWJ+ZyfTlGL9GGJd\n",
       "HjV7QL+WCQAFdlw1WXNMIKOSCrdrewf7EWpY4O/Nve7nGY5Fddoco9d3EKYdMR1du8UvWKTyUtsB\n",
       "KVCMhskUbQU6K7XeL7fYk2dDi+2rFatij/qWAukrQY+8uBmKRkOmzQd5qqgnoSy23kAl8rsfz8mR\n",
       "w43JPnjaXa1KI1IPP8FZqtPGDpu71wJtF14jrp3UMdU8tKXCilOSa4D2rIu/dfQmQr9F6YZDcraD\n",
       "rLrxB+9zXDSk8eyaiEZ9MWO/Fx4DXW5lgYQGcYrkXGOrBjLAIO1EDhZ2IZeAtVJPiE9f+AVFtzzB\n",
       "SPoyBNbFE+v706U/r0TxAP03uQpWWapAH9gGWTIq3ZByNwb2cIUSaWe+ToAra0Du6Qp628opYJb1\n",
       "G092zOtaDnRfzmD6ERC0mPl/gogNVzdp2qdb8nqyK5/L80FonMI5/Jnwktu44OYCltBFgk1qmNQ+\n",
       "erGlYRdjADQ3rR/ApNzWXTSUTQcE+nWgZg0iMemMRrON3Bb03dcD0d/SafcWGd/QqAZ2Q7sJtxBw\n",
       "Ozryd1L/r37ko9uDdLelr00Km8ioQ6oI6AvpxJ3oS+czRbrUF9ujqbGMk9jVcm3YvrR9Cs1H4gtZ\n",
       "gTL/Xgcfq8bzJ9H0t/vvIY7xx5LF9dKnzfvXNIicrGTZ/08MdbZFGGkjiMZkL+5j02nV2kVTB4p4\n",
       "yaCBAAAC2QGep2pDfwA4pRHR5s2toy0aybJBmyvZAAnWr7ILirrLS2eqG7ADQiA/b87FU9jF1Waq\n",
       "hBGvnRr7nKp3kNR3QzRH9mSSGcVF5oL8GrdxA6IRcSM9SgYRm4tjJnUb5jPNgMP2qRkhftzccGmp\n",
       "cDOzOXCK+A/qj+FXYDkgYKzZ4iC9Y/Yb8hyOloGjgC77bmEACvHdLBozYqbOywAyU1OgAVQ4eViI\n",
       "2gYhpj1oJFh8NKUmOm285MY5Pecqq3RGb5ig3FfxxVT/4UbmCGhLsLFm6cT6AS0T+TNGXYR+PX3C\n",
       "YrA7/ZFVv5aTCOSxWAF/zvPDmPNw/VzaAWMYvGVueuzayWOw2f/froUz/Yx9DtglMx+wTeDHUEGC\n",
       "3I0j/cjd6b+gHdTpTmPEa+yoMMmskLTTZbH5MaI+LKa5swjRXB3bOK8TlIsPu9kgTrqhei4ildBh\n",
       "zWps7EIa6+iLi/XQ55w77dKd2fft4tLYH0K+SYdY9FgwPslfnBQGymfKjlPO2QTYGqGrhNp5qvDG\n",
       "nOIF30fexHDTMxJ/EGwc7x6zhzuuQnL+locl1TyGEw3eiubkF+1/dJ4nbnGPZXT++CBXKVVjy1Rf\n",
       "2QlZ0A6yu7mQG34PlLWOToXs0UQ4miF3jomoVQChNpn8N3cU/VFF0+8pMGY6D/QTzx8HNhCS5Hjp\n",
       "8wjxNxxIFZrVvUf1uu2vW2zXrheXissiS2OUGxhCEApcZX6zNJLr4Z/qQ9VIAWRCQA1IClznmhYb\n",
       "Tu5ZzmcjviYchJiq8Qz2H0/3nBz/iXqvhvXyl3qDEuqdr3olZGa2Z3g2BgG3RiLDvvIDwM5InPCD\n",
       "iYiqQFdVebzoHjaPJw84OsRvzIP+1wSO9Xs+PEpsQ27GXMJcB/h0alBjjO5JvWpRt3bVdLDZu8I4\n",
       "8LIns8UhAB/uV/vAa6aaRJMAx0xek2t41vFYeKk/Om/m+TDpGzIRooNJbAhvm7GSBNEKtAAAA3dB\n",
       "mqxJqEFsmUwII//+tSqABbtiI6MZWoARssH6rSARTiRUgtkUcC9NooeSiQwtdqKF0tB/kh65TRQj\n",
       "iW1olsieL+q8KVT13a+dTr+F1yufkbkuzboQRT/9QbzLlzNiXupcPmD3nf0fHy1NXEz4czWxp1yU\n",
       "zi8tfP/DQvQi9W+J+i9QSFlW5jz/bOc8S5gMXKDWLeL6Y2ZUl7Papwaaacg4GSRAyoDGIeMI2MkX\n",
       "czyXfKf6wCnXzXiCxH1rHWrkV1zitEgfuzuP8Do92mkXFlzELlik/6OqO9dYBkYukpZE0ru/59oq\n",
       "8TSg0xhQknANvZI6ygm1FU7jWJGq2T5BBCUlY7+4Q4fA7j4eeMGQYtGBpHLuxen+elsW5+Vue7Yz\n",
       "SEe5P50tz8d4r3M2ypApBZVArX1I8tvVWxzMLZNqGkvMdMfyry04M6VPC6d5/MyF3FCSpKuWoRMc\n",
       "xw764jzCBv/+QkezDAI1n/aqNTxTpheYmiiqWrkT4hBLYZpiKOYb5PGl5rq+7nLyRuwKI/OOWbH6\n",
       "OIr5G17TfzCmEpntruoi7GHZO/AKULDKeAou6wfkhC9eXCB90aRJwEGGoOrwW8vPRpVs8Mm7Y128\n",
       "U3FVjF8ztHxuZ820G710AuRqQzMpknBTrDEbvU1jtP6B9SKFJ/upRH3YkyPaPnjnmIxKdMVsGJH9\n",
       "wTlGBjKI9a1EwgX2Q7hl2f1Sqz4n7b+o40pB7ZlA+xq58eZJw+2l5mnNb1uvNiEQ2c6AMXY/jSYo\n",
       "S69PLXttHKW/Z9nZ5iLIYPZ8CD4NxrT5aviSW6b4FudRzBO7iItjeeS9jXEp7ll/xdxviRPby3Xx\n",
       "x6BY5lYEHKKIG/xJjrN5YqbaQ/8Wm8G3F0CoRbhwv5LTDJzWFqVRkTKpxzWniFuROetr497t/ZMY\n",
       "WyxC6d+XLM/x+lJ+m3gG0RWfD1VLLMXEVSE9ufX6JokYPbRa9PhPaM199+i5poo6SlyQDqeZ5keu\n",
       "MKsUeVhVmAiTILkrK3YbVDnID0+hdTZDy/Qxkdi/1Nd9qbRa5oaBwHJLTLxgNqQqPQHPjoShnBmO\n",
       "tyDsjkL5IehlDfDvSl+je5rekyymYsPucTa4HTz54gwH5yHmed8j5EeS4sg+8aGpmEg++bt49JhQ\n",
       "KLcbSyMAC58JEXNZ2s0e9yCOAOCZ+NgJ+csHgqdeVAAAA49BnspFFSw7/wDPpA0FVswYy/REE1Zf\n",
       "swFj6/GRwAt6WAbzMqac8tjgn0Azndy8lYj6nCJ5IOLPuYZtCPmByUX/m3QqR7HD0QYqYIFDd4A+\n",
       "1U9I32kpl3Slor4yBt4sRWT0GYrc1veQ2xb3synB0ZhT0flI8MT2cCy1XtvzeiT7sRoerdyZF/wT\n",
       "j5F0qDWewUkaHF0g2rNW8jjiL2E1vaBfgBIqAI6lTKagcwayy6hiV1DScsq18P/O8udiLboEuxpc\n",
       "Va+ukCEU+f91f8DKeDl2c1qWDnHubleXEgrihWvAOuPmzEOpxMKQmoyQmX9m0kJ/fOSbdlSNP/47\n",
       "P49lfq3C+A5Z7SabCRR0cLmj8FLaQMinnnjWoH1aBL4hf8EAHd68HVOyCK/ZAhwDmBqq7NfLKWN1\n",
       "G2cWf1qhcAJnVqqgX5yVol1edoZoC0I9WPDD9Pw7cEFHg9ZiKz4HONTQE7tT+/KGuzJHjn16ICAt\n",
       "quzJvQxPYIFCZNLp+8iA6IfQOnwSv02+fU/IIT82d8defN3oOuvY33hzqcyhtXiH9Xv5ZvZIMriD\n",
       "YGWL2RaeT0Y4I3ComHSKbeiTsxikdma8SRZSY/OKDu8G7zLhqiq/6byvi4vN8D97r0PPdfmkupYL\n",
       "jRGWV/N4aqg+88KYSbz+MLLb/0YIOe9MNcs+8vtUknTl8hVR6JoV252FJhS8qFqeh/DlA+nmSS0f\n",
       "gcd/ODUH7dwDU0vXroHiZN9h5VLdaa3uSJTOxORqJ3ywYVvMk+4bl+SD/tvz36C0q+b1Nko9aKE3\n",
       "LWPGCMLfOM7Viseitzrq1KR3CUAwjOpWeE5FGkGy5jdxLPcUSfqjO+z+Fv1CDcp4MSlJ2db0xk+j\n",
       "JkbUpe3CuC/fp9u/DWdTU0ew9WpshXk3Fwwmzga1qWpk1kClty3OZw4j3C1zbIJAplKrOGldFkbs\n",
       "vlUlaSoxclgkkq8jNgAO16xzUXOMrP9xzQ+45zT1X5bPfoJJOEaRkEMUC6ON+DLPSTHJg9OrSnwx\n",
       "vujaLWgIe8U6/+6KMrm2fFsVuHMAHkWO980vOo4yH/e2THGnFKKnioMHoVsQ1KE0GM0oAAFhidyG\n",
       "IsheeCTRogQ2ZyxVP/de6whIZRQ3wTCs1mc8gSzsc++eQ5/YBAzx/BAckj/G+pzL3gmXgMKJ2DFB\n",
       "kgXqCvV9NqFuSq89GMkip0wmTBfrLAIdVWNZEp4J999jZwAAA3oBnul0Q38AfEA1ABaRlBC/da3/\n",
       "i8ea3WbMd7+I/GWIAblp5vRJxc/5PxA5lZ2qe38upikRCVym24pTShE5gfPhnB26xLxPZWli07Vq\n",
       "BBNVuluQkjIXVxG3/mhylZFbprgpm3ahIdbar5ZKOtjXr/GBsAIvLcx/nLTfbf1WB3mZrAqT+vo1\n",
       "/HejwtiYCZZZqYXojokkKw1lmyhFel0kY0G51CtNQPt7oEmpqwO7sQ/fmFDKEdLyWTjx70Ks9pc6\n",
       "7ZHXE6x1juv++XbqvoICcIdEF36/+tsMYzr/B7aS5PuaWIMU3e3Ur/Mz3dEC/juSNyvqaTaDHBRq\n",
       "JV2ekoSWTGAxH8L0DLyxI5YTI+oKfOEKpBWnNVhjVyx4j/aqQBM+qRy45chh0/KapRswYPducoyK\n",
       "6/9/CwK8ehELiR4Qb2n/5Xl2qml5Tq3GZqL4jYjmfucQSZ6dO6PPwGYbzRFgnUhlyowHcCFJdN9J\n",
       "nZJERK0jKq0zTcvNW+/mKed+F7/XL/qYX7LwN5lWLvxracPB39ySqxbxkIaUpShFp4YnvNQYFGxD\n",
       "o8o/U/UEmCqXZ465+LZoOVIJX4OQ+tmpchrtnDUvuNpaZF32exalyXYqDLC2xhFVtRHSCuDZr9R5\n",
       "rfA+c+wARJF7hNObDfFaWRGszJ3wyYG7bOSW3Vg5Q4S21maZscElL29bWmb1NKsLj9iMZPxrIEDj\n",
       "iQ17USVqtxqwcsNgQspQC+MfA7XGr70TqihDpWXnzoWhm3703o4AroTJSirr/4YFaG5QbUp4VSdb\n",
       "YILUTdl/XHyMZZAL7ak5AR31Wio4KlLcO0xSnmBe19O3Caz3nhvS8epUTi7ws+K7WGKomHTyY2Ip\n",
       "MchIxCobPrp45xt7e1LhAuNJHqjHGO8KYte3RjWJiv6jhU4w7b5MpLGz64/0UExLyiDguFyOtPOX\n",
       "YYShW1jbYrPtq/sqgaOm18rpHevSPu7rEkO+4WRnF5MZol1BfF/yh4E67q3upLt1ZVZHHEl1c+r1\n",
       "gQKd/Hr5eHzsokZ5aMyc3bixvb0Z8JBSX7+1BhCb6FR8GWUZdrAd2uTozlYF434Klr08xzIf2MIe\n",
       "i1ZoLs1aXDPQd03XSmse1OOXv/SA4uwt5/c9h2YgP1BYWRzdZ25yax5YLl/DeDzggWr6nbMEFRGP\n",
       "rI01oMzq+F+1hNZHRUssfwAAAxEBnutqQ38AQWMlIw2GDkWqg7rihPBLbCgAJ1sVHfyvWjTvWuUz\n",
       "Du/tAdA5HCYrveCNGSI3wtvy1ObNroFnaYIeRQBejVjxBFiIRQRbyDlRFu1BoCN5vJHGrweqp/Aj\n",
       "FHYb0BNYr43CvqBnxD0zEydlFnz/aS/Tyx9fTXvdDTH6dfOG8Pwz4JoWaXXU3EC8ziFT7izpfAYl\n",
       "cLrNWNoEQGRb1hi144EzpWaBNsgH55R6flyeTKEpMRHOv44uMilgJKBtN5n4rGMw4BQiHpCotSCz\n",
       "rtMIBS0W3lz4HC9HELWM6B4UMEThgdPhVgrc9ciSQB00bAV9+crKxLIQ1bYUFmSoKA6+ngA36rub\n",
       "N6sDJmA7DI1PpLThfHPbPgd65jyzJOBt2jz4zasfSm4TMmXTN1ogtkElB4Qg1yRePKYgpArYDoqr\n",
       "Q3kkJTz0GJ9ugAj7ZU15ERcAKh1/3yZkhA9r3gqEoreyC3Ud8Crs3zrbm/+rjbzsCNZ4HLiEv4HA\n",
       "3tAmIVMKTRag6QLsgsWZ/0zxCNyBusJ5Rvt0CC49Zjvmch5siZi3ilpQSDuyZAwVo1cfWGU/uQTf\n",
       "/vnv4AvG7R9C800vNQzkIg90QmmltnbUS+OVEQIxBto1ywdQc24Nk/7StJw/bD0vRYKIWfib1MxQ\n",
       "DSaBlwoBmux5UY1cxyPHcsSVNcIudidZUielxFlKI6bxC/JJgrx5KIg+ECEVa372Qh6+ZQ7wCXfA\n",
       "uu3csq/10KEvHb8tG3dwb5LgdrPUOinxY3vYQNv4uqLV30LRGklr1IRJMyPe7PCT3jNu8E+Z9afl\n",
       "ipNxUjS9KLkGiUmYRo2jcMYuj/5UL98G/CfBRH+5UwuG5XrNsi6KCb+UVy34Gu6TrHkW6Y9IMYdO\n",
       "PL4Y13kRS9wvVtd8wMTLFXodge5nlF1L4OMdfWkCwjf83KdqWelhEz2GMFrOwadnLf/R0FXCxvva\n",
       "nd3y8AsrAU5UES/FEgN/bck6EOzx09/kmFmOIuG/IG8/ukmJkyojmhSlT7KPxjCg+Wpgoo4/s2Lw\n",
       "ptuI3BajlAAABEBBmu9JqEFsmUwII//+tSqAF4FqFM0ABy5WPc2dSOO63ZoZnc/+L2c4gbXosDHd\n",
       "y86Q17E3fzxtLGcE/lrxt2JE2OjNxRI71k8rpfqWRFT4hYxltK108jbgwx4MfpjD/Fz17AjsSm0z\n",
       "Pc36krZShMtyf6kZN1rJO90EjeMfE/YxuE/R5NChR/j8MNP8mwbFe+fosw9SriwbmVRfqORf6YSw\n",
       "pU8wSjDT5ATSMtNueq0uBgf4ZOM8C6znQXlLOsIv7JoMz2+khwClc8aWNhsJz/UbKTucO2DiYBu3\n",
       "DFI35FLFLE768mcRZL8WuTYIAd+Ssrt/rmiAqCVzJ1itP5lFPptNsNXVC9DtyAk4i9RXCY8+Ogku\n",
       "rHwHnUMmZeK5hgbBXMJ0rfhJehKDWKD+GkA27mhaUvb/tdz4THO5/OkT91kI8/uUGOtBo2IMbFEJ\n",
       "lOdBb1LpdG8XbkrTcjsND3/p9rynsACYPIlcB93LPPOjZZ26sGdXYSWHNP8Joq4QLR6Gl6ArtCzd\n",
       "DzN9uzVVuuHs/fSXzoN68j+6+1SOcqSxgk/kBiPigzsr59iEolBs57KDkZPfZT2xUFEgznkusxvw\n",
       "+1PS5DJfns6HAcgdMPAstBNVyTuDPItYqFJZy5hXNJXjEPaTaFsmB4EZmEdqY6sHPyJhwiCSBeNW\n",
       "P4Fh3Ae5oxCwTbMKRQviDpVhZQ11FyfulinFbvAt3wyjBdASUUAFUxDar4uXjm9Or7cm+HGXxoEc\n",
       "yTM4zuxp0+gG/xD/g4KbXtUpSxDcPQJBjy1UKjZa90zfv1r7jHBmXap8WvPKkhyOgbsWLWsHem9e\n",
       "/oWaKEdRpc6I5CuXscMIEgQFAjNgbdvfWNU0VyvJ3OliOU2BpTuevzHra0nZ7VAMh/HEz0AvU3uq\n",
       "IKak7mnSaqm6Bc2RpNzXq23KCGpD/O11OSEcjFNMFKvtyqfzJJiKf01J+GBM17HE8zXw0PQVAimR\n",
       "uGa3gtpcpCRxehcO61aM0pDNWB6M3cBU1PAAD95/LE1SgWCOb7HXjEfCaVienlUdoRWtVV0dSPdH\n",
       "zB3a/GenkTpwuDHqWLzuV6xpZQhY4NbjOSoVh7m8b0ZJ5g4zXTzQbsGPZpT9Jx8v03G+JL1rjk8/\n",
       "rru01y3WOuK28sAgTUY1wj2ltrb5pgwlBPfAi9ZaZ0IvYJJRy5hLUNwD2qw5bDZVa405bPDDJ4Vy\n",
       "40HnR2ZBIaK1CVa4vZzVWMTCho153anefXWkRuEJXJ9BAq1RJ9B38PJP3JB2jyqpVQW+gcubzTY1\n",
       "tOwDErp0tRLrNMOm7sMf2GxOOay1ziS7GMXPTG69P0B0AQPY2kYfG+IwUwLXglNvnSg8Fp8vJzMZ\n",
       "q8SWke1QEOeNilow3MlDF+h5TIvJHZnxk50h6RFuhZKBhGATxyzF/dkmVt/v946i4mEiBZNqRMtE\n",
       "MafC8artfimPMGFv8oDDVQAAAvlBnw1FFSw3/wEn8bAqWvAfChqsRo7auh5e7J/s4AEOJ8J3T0jy\n",
       "Ct2qjWlH2bP91qMoi/zUEEfqPT5YRCYlWSCxe6xbKAac0FfVKnIm2wwiH6cx3o3bbHKpOxWULEw1\n",
       "m9rjeNKZrEaTagNV7cUISQbNMGwJQf6DN+gzSMfxDi00n24mWUmSwQCjzDwpf59gcxRQUMdbAcdE\n",
       "wJyTSBpT6Dpq9TDqXUhP+Nh2wqkXILGfLe2Dod3H3qDTton4IOARgAUEhibLsw3x/yR0SJebGkoj\n",
       "DeukScNALn1Agb6H32J8rwmHBG+/DnSXw3dqYa96001f6Np8p9wziXC622Jzvn/BH5hB+PbsCwnB\n",
       "cnuhiO6Fvob2sTAg3a/GUZkRXTB1XzAP1MHaKtrphhm1SqK4ttvDNAMRAofpkZUpm8xt7LwojR/W\n",
       "Ub5Iv7uYIRSVnMI5sOtEjL0pyoouXF3sVl/PuGey2u7KNkiiBFT6I/OyPZwv13V6SHnbiaMgQNp4\n",
       "vWWrW01Hj+cWf5e0sCUlJcPaSfSTvjpQAkI+kCp5Y1ZLVZOBCH9MxmKMMPrpV+hRzaYNBlrP/b6j\n",
       "zFkNzUZcuyr1iji7tNZM3IapMyv3ndLlezuBxlvTUm4iwGfyP2nvHLV2LlT5FDYGIZKHuPTuC/px\n",
       "jvZhJQIEO7dJK5dP6lMDsMq1JZr7tNxtmv99m4TU0LMEd7iPQ347WMfXelBaeRU0/OEc8qsAYE31\n",
       "RjSYz4BiUKl3rJvpQjPgZ4U7SJS2c6+0UWOYU/nSn+fCfa2CXCj+9K61IduR2TgO1DjRCjT12vzl\n",
       "Ydf88QTamfHfkliZv8DiRtm3E93G6t4A2gTI3KSMVumD/OZllfiwj+iMTVtPVDGXrUnEdyWPBpnV\n",
       "woR3O9ZsORukeGIQYOaeJnVHaIQtysC5KgWTX8lDT1d9wD55BXJhJcXU7RxK71uLx2GC7hPyru9I\n",
       "4PF3REZtSD4f0VPG02kM/jcamiMUnDWdBTprF0BVxinLbe7+YDHU4QAAAyIBny5qQ38AeRuAMYpA\n",
       "Bwh3Qvi829pa/f0mtbqdAg1g5Av8uY2m79B0NgnxHrvDTY5+62dDtF3Z7vKCRwu3QYUgWVP+2OtT\n",
       "dUSlkztluy+NITmIM+q0ioHwycXzf7nMZe2F7C9vRODcy2XssEEHhZAkZYAtC/HqUQz65pOoXlzB\n",
       "yC6sW3r2jXIbVMhguMJsn8MjCB0kRSjpaR0quNTWjkTaIvdftVHDXNg9owrTqyPaWROoG/0K8bBT\n",
       "4NorBvb3bY97dbv6YbIeFhhsQvu+/XRwvMP9bMtLi02ayTbsUSSSoemPNFwOSDIyBjpoAwyQVDe4\n",
       "eXoFD5wIuCOihF44frIjseTxgvCER+SNPCXKCv9Gd8a49pmudrK887js4sPs+K0P70GBLl0vzIfY\n",
       "hu59FRlGghQsVyC4NS/vY/zcw3wW+RUp8VMjXYTGOlqdZw1lnlYpEfSRlm4+2pK1rvhcal+cIZgv\n",
       "PSvvhSrnJco90QPQNiMxNYnYvyWYmeIhI/qnlJS4alFoMN/9nzyMAnuywqT4lPib/Dpzsa5dj3v9\n",
       "JzpMnWMsjXUqWoOfRpXKBmpzRKra0lzew1LXndQ31mszfSTTJvQ/VpBYS7XyJk+SVvm1/GPxcJ+U\n",
       "4VwBuu1mji6mQUoy8smxDxe1DEQDpLfGLErB3bsxI3pWu8pt4T/PPPoIJSk5T3Yj6KfGlSxhSFci\n",
       "c9lpc5PVNsz6qgaiE9VN0KSrP0X6lzodh3yo8pnfuPUD3ozHMgk2DTTcXJiJFfV95OLsZgAATq42\n",
       "c9X+pMZY+2brrBSaIuqxXD4VofnOYPP1j2zmTyMWA/gWKR51vMQ037kiaQzh/zGbtCJgB/d5dbRZ\n",
       "Yp+53epzIlDJjd7u02Eon/o2t3/apHuYmOk5NZwJ2lB7DgzdtQma3H7tTkwSyDz3/Zjtpje7gAiX\n",
       "wv9UWnVXyMyj95gxpnqpwyDbJOeOgshCqCW/rTvcerEBy1+esK6sxVWKcnZT7nN1hhNKf6Nd+Ifu\n",
       "JRnSoV54VPBQUuTjg0Dx3R8hyL4OkWXltYzg9tahob0wjdF1ReU8FQbqsYwV0dRBAAAElEGbM0mo\n",
       "QWyZTAgj//61KoAWw/QHHRiNvs3OvaMIUyXWm1K/0Z5yIAHCWWuaDiQ4wyjOnlqBtZV+Lgj26V10\n",
       "K+FGcHBkHNwC9pa3qEw+iLTVibOr+C7+4INUrICIWgU3E/meB2YDxFLW/3v1wAu+Tphp1vo3MFHC\n",
       "hKKwTCtcmP2w/jTbwvKl1MXzknHHxrZKgeH3gc/1suiAlGJoELHxHaJTuZIAfgelIXCz2wI3vdb/\n",
       "el/dBSy2V4jc1wpkc5J0v9QNqMERB6w2TrRgcJYlA5nLoK9m/bqISPZ+tyAAEFi+cyWx89dokmSY\n",
       "LcjMJczzjqSN+RV7x5MWX4WKSP87dqSDg1CjhP8CENo6pDRQvCNRRXWnIASK3Zgfu42aY5oc1z7I\n",
       "+nSmCvrDvlFPpCVt9iV1E8HZI8CAzGeCJ0jiiJyKAPirQVeA/dafyUsGl+jgi1kYhoSwg2KA92PS\n",
       "yhtvzjIrORaF09bLL1spfWlwp60yaeUhAxEsm6zL4G/dXZMcXa8sP4MMf33DP9Yxy4li7+0fvJeU\n",
       "eWyHg70AMxGU+VOUypRYYR+CVBKvkF+n7j+uhg8MxX1JNR2QZpVKAoodtm9nFy2+RdchYdfPa6dn\n",
       "ZkwASk0hviVvYUXnaQIWlf5xFVo+hmwoPgynTQC+ENa+yY4zW7uEnvLCCM0ToMVTHdymgxahRMnp\n",
       "0QcteiVkrXa48MJ9Sod+pJo+ySQDOkxT6w9cIUh7S2Fe14yiQXp5GGGFHdL36HaQybq0LNiPydXX\n",
       "5ygDR9cZ87VkefjNz12e2oEcqr4uJwnpKwKObFslPUXSKVavvPGbpxzJl6GsSlJ0RtUhE4I1chJs\n",
       "NlfdASOjp5Rn57N6NO0Gzsu5ghNKLOqIIkqkzLBke1sCS8yIacrTI5yg6fKMIpTdlIx2JZ3knCev\n",
       "hfC85nbEhyPJrTHPXdzknpQmkrGawVyDBk8elrxt4JNUuo+5N2B1keCeYZTz0pWyb2ioIW/KIatI\n",
       "jFvh5lDwETSz0OJ8tji56tC/732m4Tq4xCfSjvpmdO/iS8QrhrG9GkmV+wJloYK8yqR/cpH2jDo9\n",
       "HF/RByIKEuePuxA/zDueXK6ih/bRIQNFM8UQtNdI4wmIhk+/iHP0UfccSnI2r3cS0zTbxyOPt5RU\n",
       "ZbR1+pMLQSuuWLmnwV49u3nRRGnEed59C5boPzG7o7c+CRJyQv4F3w4AStdFxz5xAL8z5zfRZDf2\n",
       "MkRHi2WUK5/m+Yi7GnTEl3/gPEoj/NIBTbeG0Gn975qgLwS8V7/Vd8NH7vhVUxpb1KP2txtKe7BC\n",
       "uA93vAD+i5lNZKqUyCWC2J+8iK7Yr5c72Qdg0LRVkf7yrXLQZglOfzOhS8jyU8BvneRh4Cf3hN8h\n",
       "sMHoL2u5fQg3ZV12NoWgrTN6JeewySAITvG+7ITmCFDg+TJH1my69Hk/PewEyhH/AJKt+9OeePG8\n",
       "NgSGpY1tAMWYUM2rVdh6eWnjGDs1cxi5tvegoTjec3jq818x8yqCHJ15ZeyLMBSYGepcI6nf89xE\n",
       "JWV7PLMA40p/U7VodBrptMnS0JS9bpAWNPJ7AAADqkGfUUUVLDv/AM+kDQVXS8V2TOVk7jXoKN6x\n",
       "+jE3f46+QwuMZy6nhVpmABC+oAD/62cRk5lYFP9Gaze0BjoUEDQWU7YCBTPs9jfRc3rR4LUL1XRi\n",
       "JPHUMytivdRpeoKsT/fNEC8HA2wSp0i1IRUDp/oWfq5ix/ZbMNpxmiIiKshfPEcv8xy0wPgmPsbh\n",
       "nzNakxmy7h3DV2ulH4rnSaN3A3NpBcMiGm+pFXyHGhivfsoCQYYDU9LQ/gf2dJtnqmt757kseetM\n",
       "5RAc2jVu9pnY7Jc7AXNdcgTYZ6PALde3wOvr0r6sC9Jas+N+9TZxsMW+lv2d7KuC5qMg06bitKiA\n",
       "vb2NjJRRpjkWpXvxurAby3zv+S7J5aMn3FM68vTsp42XzeUAl2ckqh5ALgJGQfa4O1ZC5Ix0bN0S\n",
       "XWbMiyUg/MPjxNvexhcRRZi2LNVoHMHhm10f5TakD1sqO02qm+GL6QjPKFibb6585+rGLUGzHHkU\n",
       "DtOgGYbQabKyDuLYBNzPVh7DJTyNjv6TUDuqRIzsABP8N3FoYEtekIqvqVrevlLFLT6kKWBSFlbe\n",
       "fp+lvV9Gl0kmXSSdnsqbxhvIXXWkS9BUjbVVc28gML8KoWuFWBwZtT86Zh/vbG/HTdNDqWRIaLNh\n",
       "N24q6P7mCtAewqzL755GdXN3BMkKS51m43jGZmbZVZKeNGKikYBsYfc72BjpMz/ufa4+QQrnkIa9\n",
       "UGWIJCeN9Tyt9tP+EQXL821vSK9pE5xWZpoBLAY3tKqhreJvkYqc2LAA2iMovJAYO6JS1CDclimU\n",
       "DfrV99/+SKUMV6UrEd51cR7lchTPx3CtMmBM2VKoujteu3RKFOm+9WQfxM5uinXPW/L/5qlafhxw\n",
       "0X4zKOX7zjG14taFqj8pagwyGPJEU0CDNGRr4pnwCu0LDWRn4HmMxNx1ux+ALfQUqJcArCxG3mMX\n",
       "exlsMAAGWY5YQ7rIQqWDC9FxEsmndtix8cvZF5clUEsLbnIM40gvL4Ohhs/j6LBgj58ISDIJtWSV\n",
       "NgyAX+T2wWpaknu9/zORZwEDXEqIiD2cqYIGK8rxtK5s9p6ChXRVeilYFJsKULzw389XIi7Yw+je\n",
       "eQG7YAweCIFm7AN0p4tiB36CEGjmAeHIsVgscaEgJHdWfERC4ED0Cm5Kw/E+MHeRxFvDFj+pmZFi\n",
       "lg2+ukPVGQ3tGDUjlRPU0Cu+f0EVQi2dm9EbF0LfnOvVKbklqKiL7MJpfhl6Q3RJ6Z/gjfXuX19w\n",
       "AAADiQGfcHRDfwB5NNpVYWKg1NKQjSAAuoE/iKvghDnqD0gUcmdjdPaEAbjEcbrD2s+RGp1HSiR8\n",
       "WE3jZSKndL5z6P9GJmTN36cNzBz/Vn0wlSy3YTmbWo/yN0JZSxVnXUOV8MFxvjdKXcWNIkML4xTN\n",
       "BTfyjrnUKMBTv2mRUosrNjU1wX8RryJ71W9IhPARCjgbjP+737vsJ/e9fmHDOmIoycrDDf+XDDuy\n",
       "Ve8izxPsq8NFUWQrd/JYBdjl8JS7NXzgGbtu6VwqqHTALuA/tGXUvRmwGRK9sp9xfSYxdyFEmcZC\n",
       "XzDiMF2aTLH5USSJ9S1x1tLxW6yBuLNmmQYBVYULC/IozRPm68i7pVjuRB+mhhAwWfCsi1ej2gsD\n",
       "zWKLmRYQky3a5oXU5s4V9ooBCzpp5bGiGkioh1ZtR0Uwzia03cEDCV9mjHQALd4RanaMxX7hezUf\n",
       "p18KIVtm4QO4c7znk1lEyrhmHAXm3YwhnPJ9rPU2sU02yVrXDdtNiKjD/wvxKZ9Gqy0QGZEpBOOc\n",
       "G4xui0bE+Z1ng3a+AW9MS2RSDc5sSYeA8hVk0g/jcx2Uu3HrvmJaqIWJnew9wrU/EiUL2zX943zb\n",
       "4f/Uuqi+8/QzDlZL09006ie9HxgkrUSd84QmtMPgu9zzzUNcx34+e1lEUqRQPG0KFzDYA89Mf+Du\n",
       "8LdLgCc3n6SdJUQMtVTxTabe1B7j3/62yGuFvDJ46oFyDdIbBVdBX48Ug1J7b3/brHZ+UsUxq4s5\n",
       "4KgZiSFBogM+1Qw/xQs1hT6Ybe6Vl6nMO5BexDWET5WHabk02rxnK7hZ22/1r8WGN0bW4mejmv7B\n",
       "hZyMY3gsdF74Gu3RIM2Syrd4Adi73kvjZd5ikh6PnATuAKMrtlAxmxDN5JUzRdoaGposva1I9raC\n",
       "wYA5hlNgOfG4jZ973GmfOJj+zut8+xmAYPyU3ZG2Re7ECQgxg+oAsNEu56FMVa6p0mfmWeu8Gr1e\n",
       "BeFsB6CUBrGGgAMy9cdMK+Xn0swPQQ4bFcKJWODzWH7sqB5vVAcec9U8WJYyXXVx+0Rg2EfN6u5y\n",
       "eybjyH4O4kAKUs3j1G5OqlexJ9k9KsmdAztN7PJHeHumVoycnIOSuFCu0R0F3ztFzlvgazga4zUH\n",
       "mBUjdczgrfLJzB3oeOf+4xk4ktlBT9+FacX6W3Dj81m8oGLz1NifiKexf2CR8p52CetxLimhAAAD\n",
       "lwGfcmpDfwAgtegHNz4ujkFVjZbXHYld91GXQ4ynACWUFJu7jhsD+x7OJpx8J+tAbzZJmlxGTjA4\n",
       "hms7ytZszds0lfv3V+m6nu2DwfoO0p11QvyHMtxrqChVLvKX8cQNZtezuE9bc3YfzBXch9oMs5R1\n",
       "LzEugy577X1GbmK7EGTEG8bTWr8bFlhgSDL177Ul+qIAaIChyxtS2Y/7z8DKhzGr8S5CHPM4SwgE\n",
       "55KAQMvES7SnVoZdza6ZmcMcMlC3wZESPOKfvMLZqU+b82FAk7Mru2pP9u6w/Koa+PrDt7Palksi\n",
       "rKGH0w5ArbEFLT+pstHrJQGnw0PNkhS4DPm5RU+zQh2x4xKZeIfgtEbNWmGKkCP/0gUNYntpxSdD\n",
       "QIjoshsowXzuoEe9BHovQUrrLAaYRUWS2SkAv+Gh1MXggdgmB003+1O4v/J1jsweI4YGZsTH4y0Y\n",
       "BIU/warzJ/Ei4YF0lNtRbMPXL5OvkhG+qdfQBMrCQfYFkyHSrnIysfgndV5Os0yVvEj9+z8+CZ0c\n",
       "gkELT0UWp4DPI2z8hyj1FiiZG2/yhfW4ONWSNccV+ekHMMAvML/OdwDTV7lMiKXLutNZvJc8GoeY\n",
       "XYfHHIUVv/CY6kQ4vCaLh3cB5VARnTkrf4DyBuNjI+rioASogoiKt++3kKNvUoS2ZN30ax67CweB\n",
       "WaOk9gSGTSE2OPdeSMam3sPswwvyX7P1whngTf0hbhkW5Evi5TP6VBxOpAwF+ronyXz88qgshfzu\n",
       "YUU5WQNigLkQyXHMWDcNL3PJQyUaIL0lhySGiQwINKjtO7iW0jybticMA2PyQyGksCQDTeSkOYZt\n",
       "OQpv/5SunztNqAMhe2QO0DJ2g0LfC8myyBwNngsggKOqDaFva3NITXmiG8r2YGsstr9V9VRyuiug\n",
       "bF1pg3asCGgH6/RD+Dr1T2acQgn75uLizZUIkB2W8eLkPtQlY12JWezyl07qKa4aJkeefSAB4JPY\n",
       "gd1nXc+OtOnI0LUjsPny9OuewC0ffHdiYxiym25dIiMNZvCBDYneJ5tttqtaf+fTqLnUbUwSjjkw\n",
       "4HWveBy13LLrAqP6UDsMASEwZ2ZR45/BdzrOykSDX9hvLaJCOj29+FK5N40/bplIBEJmlAwS/t8g\n",
       "c1RzEZ/EQcR2NqDlmxu236xNTF1uH21UHXXGi1f0aEr22Wjy5u40qQxUOrEyjROEvaHW4tuel6uQ\n",
       "qRdyqgQDG+EAAASMQZt3SahBbJlMCCH//qpVADCtvcs7k/FobW2wuXS6AAvrgEsGmMhUb8Gb+L0k\n",
       "erXeUGzn+7SWDwn93FG2j8RbrsSWYmAA1ioBkVKUp3CdQq45+C4YPTZlin10SWPV0Nf7a2Y+MS53\n",
       "/61PY6BzXyg5/sej+uKd+tZkSL3UQWSW69hKhxq16Q9EwfA2YD0Ph1/1GMXl7V0UHkX4yeBljJUi\n",
       "1Xy+O0MYMAMi1UR27HL36bembWrapanzD7BXT4f3E75hClY3QoPF+/JzfrE3LOX3VyGwui/Ok0X7\n",
       "Zt8ZRRgSJZuee27ZgjL4Saw6bqbJfAXNANlSyAEGKg+ISZE1G1DoANLPcvt2Al5WswDy4IFxmQir\n",
       "DCXrv8hjaOpBHsL1SdJHzefaapRN6+hKa26uDxUg9OxjcUOx+cyTxfXE/kF6v79iM+LBO3s1PgEH\n",
       "c/Dtig64ZhzkSayq+393PRV0zkvk3HEfqbBiIeVZDI8GwMVzwYsUh1LB+0HnWVRjpHkf7uD441B5\n",
       "v6leMbKXw5gOTZpJc6AbWzEI2zm/iAFNuZkqyrka1tpHMPQ8utGWvi7N+6AOeL9PaSseIs0Rl/Yo\n",
       "qA2XGiJfGf142K0GycBuz60BYO94XvFREXnKb2l3cANve537Y2z1wcq7XHq0GtuVuFn2QYDbEiKG\n",
       "QuFH6x16pFXwRM/XACBQJ1dXS/OLHNqdhGhdqt2EUlvZOxzdJQ5oSKGXZWGf8bg0QKojPhXy6AbJ\n",
       "CjP+IwxRj+PmWv18YX8DnFdnyRyuF3FSgesjD5i7QBHNb7qsPHrcObtdV2aYxSh2fJbLrHh0PDeN\n",
       "be+T5CyZrwxa7G1RRNfXmR6qQ1hT6tm1NvRMSvECHLh5kxVs4aMMEovLP1qb16c4aH6i4e1af7W4\n",
       "ppZlUHihHTiRd6Nr9M8/8gmrtj+j6mzhBzI8Xb9cHJOm2lSK6Z577DE7IO2gtM3Sy3S5/j72A/92\n",
       "rLv/Mx130tS4w33GmIiPVMIi2FQPCofSumGH/M6tn+cigjobmTLWeAyBg+0nmv1NETYadohrPhCW\n",
       "YWA2s77CfHP1JekP16UY4P0lz1aMqxThVWltu7ivj3WF2Q922sLIKt0PuHBU7JEKesWYcCOawZJv\n",
       "OyRKqqu7zesS9A9gmTMzjoJnDyfUP+dugxjSm5x920f8vOWe2RUdeTMGhjudfJMAwOmGAunwMTSJ\n",
       "UYsvevUQ1kQEYmI9jTr+yZOBee79vAkWxHJ8IOUAMt6lM/9q/IW7eBJyK0MV2HCJy2oDM8NosVbb\n",
       "t1kBAY/k+dCYFBAM5uZhqVRgpGMwsDt5tJjGDT3i+00Zg5qqCF1XqEqCA1ItVxppbOzP+2YP0y83\n",
       "tptNSSyhZlNXXPzkhrBJS0PpcirXssG7cHuvsiNKcVXh2Ad7yg6mKa6yem23J1iUs3etMfvBn905\n",
       "CQ0UphCI12ndEhxSvcDPEyCMDfjhuOBkChphk2L5YkUUkQcpR/F1nHTtGX2sTZYCDRgeOA02xaVv\n",
       "saIpZ7hUpCJbOgBewfBuDXBmPVnd/HUkE0AguH8xQa7iSGOyAAADN0GflUUVLDv/AM+kDQVXoONg\n",
       "BbILsPzC/IaiI38yIuAoVjevKt/wIDRHOhFFepc+SUq01WDe5Xbg/qjtfLkv/Bz1La988pylz6yW\n",
       "QY1RcG7m6SnPJZmV82jbpWtVyLl+yYz41V7eUIJavjUXf/Q929VwvLtS5acT+F3q5nucRbEWD5UA\n",
       "8Kgd4Qz8EjX6GVzPB1M7k13X8kdYVmQBRSF5adL525unDDQ/jqyT+HsgvUIgicDj91FQuW3fe4ZV\n",
       "tXAAeuRDmax2It19ClkeVSjPnGp7xd6tb81iYW/RyshpR1wYDEWHlAT1TeGxgV7oEHySvZdnxbTP\n",
       "kbE+C3DdvCN3xxoK6jedWJKElU4HlnBq9CHI3Q7LhdwEV+ZQI4aD9Vpx6soFitGJlkK4vKL84Wx4\n",
       "QQeAyh9dK5CCcpbVUpzxdNPF7FmTMwg5+HItWKzzinJo7C+ySLmQxGNputWdjbyjBfQtSC4ioHMP\n",
       "Zztkju7kTitM6gwCBPmeUQdSJcglicmhCJ6Ywj4NRZbjOD9uiTApB1O0SEfO9cooa0doglmMLM6r\n",
       "36A3/fXSbIstj6u/bw/5+m4CiquuyK3vY8g6r+SBnRRTTyUe+0qsziVw3LtRH99m2u/kcERqke16\n",
       "ACV/CeCTowO5KwL0PGSOSbmN3hrYu7bSoreZlsTYdazQMKQ+l/6+TfKohtxgSnw29sELdwRJI7vs\n",
       "9fNQ96vPLUn2DNOpFeC0Ucif1KBwtSMLPSPxZTtH8lPrhcXmZlbszcEjlO0DL/quqRhvT9S8g9io\n",
       "qCyXCEqOSIR436EPMOmYZaHB8OeAT/jWr+WPLcrFL0AQURBXV05mPN+IEFGNFkxUwY5VGTFgUqlW\n",
       "cFowKOdmslE07EPAeJNo2EGiZumIGJ1uw85X+jtXZZawzBS+OJ1I0XRGy9LEaZpmWuV/QIBLplBr\n",
       "NebhdufvBSBkc9N6YQgsvAzNpkm4zPkRkE1W7burHUqyWurji/iNUhpuyOX/Xo552VHuoeVRCMY5\n",
       "Ljq2a4T8jw4SyMVRmBSQ6yG6nVE9goh7GnDcA8jVwLRu2kAGWF+2tENMxlg6KsNKCf08zoEwfgg/\n",
       "AbdwhigZCQMAAAMkAZ+0dEN/ASfv+Hx17dq8UbAj0iz985NIAW9Khdxj0cbeTUrNboAFn6hRWao0\n",
       "5bKOT+aXZnqi+UspgWDR1/KYyCflDRLn0lC8EIDpvOmFoNSQT4h8Invi6ztkegePxRRnMPHxQ8l8\n",
       "oA6C4GNuMQ+kr6gOpcW84vFmWGiiQJwBd017uvk8J1jbnmH8X74e/czdJkYI8XPSfXCfgvqQLEbd\n",
       "gvGIcAjW/OteP9x76nFl8SGkkwvceAbAkyKY4KigY0hnXMPABUMgxybf5AcbK8p5lmRXgq6lpkqs\n",
       "L0MrA91BCaefnjWKpTTKmGBFTCRvx7VGRRmdcrNf4uMru9h5I0VHAzLyheSlPluZX0nncS3gtiOS\n",
       "KydvOsekSexO3bOqRMq5dcUpIlrJSQjV5QBOwdI29TVF9hbB9WJDsSb1CYQq2M4uSP51Ga7I6YCl\n",
       "rZ5VQmU9V0KAicfMLiSyolHfsYSLXoz6xvbv4q8FBWY3g64jd9xTILKYuQ5rBe4QBWm8rKPzPxYe\n",
       "Q7l98si12YVH0KM7rU1UC48Uf9TBgPf14VZZIaaQKHn6cvSk6aGXLyPSEpsTH5kVBTDqhhTwjZ79\n",
       "DRkoeusCPKDPY9UG+FYGr6w1n94OedWtfI7fPUqZ79OCJM6PgGRGLjc5SUQpyhHkAvMwSm5UXP4X\n",
       "e/ud+amRDtovlwvksc0zhdimNd/WDfgIx94gXGN7PdgFz8LXg8XKLXSlYd6Tc0BVJ+KtnttcDNUt\n",
       "72W156rSw8vxflPzlUAavlPlRUG/+LlYrVpuq3NjP4f/eCF18i0PtRZ3Eh2fvRr4QquGr8TOUp0o\n",
       "1jeAgmJhcyO2UfxUiMQUhNopx92eKR7RaVUz+a6WyG1vxD/w5vRfzjw4vXeujRywkIdt2WhWF130\n",
       "PBJyS4/evWJXaK418YtNQsP17swoteeNR1cIOrlDLcPYNJws69rmxupiZZpPKPCZI1qHhwZKr0Fe\n",
       "OiLsJ4TJGppSMN1enZLo1qWWP+NQpGQAymyzS4sbksCPnyVR+qjKeX9tVXmrEL1Q+GxX5g5Upa42\n",
       "nzaAR8L2iu2UvwACtiJ/GhtAAAADUgGftmpDfwEnlJ551gIKlnwrMToABdUS7J1u5rnAfdctollt\n",
       "FzXz77E9D+Iq/IXknDi4pX5ngsf+M5b4qc972pjKqICycnCaeBjv6ALwFJg1QrGnf5P5qQmgf+Ak\n",
       "zMLD6fdl5hxTVGq7otiyJwBDo8Iqh3lwAGHl8T4ywRNDw+OypBdUzDWjZFvH+iAIYarMjbj8xnsv\n",
       "n6DfDsePop7vvl3vrZRLFXHXiSNFwAPlXmPvbB1HeLeXbuOeU0T5wpeQgCz6lTJ8+v+CuYlGpBnS\n",
       "67PO6BG6bdFxw9U/dMDz1RH2YMyqgSqd4Pp5h9hwuo4KcJNzByk7YrnDXwgjbNJpf9t4EpWWegjA\n",
       "PaA2fob4fiaFDAWIVpnD2SYMC9k/fSKI20zUHgdf6o+DmJX6wZzEx4gTGDh+W/qCpdihp4+EcOE0\n",
       "JB5A1WYTEOO2ZL6tUHj70yE47fMMeZOTa1kOrZzY4pGBaqPxm0qRpRh0+kg1GcUuunwlHf36jt9M\n",
       "j5HxNtn7zSZEEu/iBqYmXwSdWqjF7vqt4YRIPEGqH6FXf02syIOCs/uJeVPSi0ezGgpQITk2bGYA\n",
       "Fv1q+3sVNloFZotKcQN63OohGpVptRtIdDCWTFZjjwGs2NyDHtEJ6VCyJzj6nyxuPTpdQtws4Xpt\n",
       "Qwv60GkoXEm2AsKljfplup8yZ/04b3xd6H4kB9k3asX7X4tnuM42HyPhdroX2OTDFTLlDe4NcRty\n",
       "g/c2IwogNe6z3DFZPYtv/sFSwDTkGlVI1WIXhU4WNMQboHsRuAm3nyCeTdtZIpMc6btEtGBAwAgM\n",
       "ItdzaRerncCeEdMApDz9gF+t5028vknLJD1WbH4TKOGv53wMj9iKziq8xqA/DPluGJZDbnKuIBQY\n",
       "CxyLfWigHt7kHIa1RFCXWvjlnc6sQoBEZufQT/XeFQoy4Sdim2Js7Bt50bd4TdFuErOZmibvidm0\n",
       "N1F8sQQdyDWTTEYsOLbZUTqKHkY8RKIlyexJU3FLJ1oMEVOlsTju1wJM5vgkh1hkX7c+UR92sFcq\n",
       "VRNS2dWjdDu/YQtzr3qzfkZkQfvgjhxhJTPKFk6ubshcehgkzbSaPJDngM3lvdaUPLzL2vtGmrtw\n",
       "x7ysaJ3WwFrxdv9+SNDPqx0AAAQ0QZu6SahBbJlMCCH//qpVADcWZ/8KPkoAjXwFMBg3AyvUBNJc\n",
       "SLDM7onwleoAYfE2n62m3uScGpQZWjF71VFocO8ghiEwNXCpJv4oWsiwkYcWFS8eiWeaKTSDnJEF\n",
       "fiTeZHurPysQKtuXE1i34LnJuQzOj60eKT2E2Hy9xN4ZNNiGn+x+hoVPtJq2XoSxICY00vtij9t3\n",
       "xfIMu9oJsErRUUZBZ6akCwSjFCmM6B6A423RxtLArJ9RJ/oAlWcr7KobA/1QHvG7TN6hLijsxNrS\n",
       "0CoeYeYWkhMt5EXr96IwA/yF/pOvpdjs0Pbhg5sVBr+3T55NTt6tsIicvVbmaYbkLq/6pffMD59n\n",
       "2mT6NLDzPc77W6UvPAPZu5FkYMgBgVnhcP2SUarFrH2fv0H1RO6oBqprlyc5vevF48FiCtz7rLYM\n",
       "3R8TUy1LyMm6//nKtio/l5WXIGM4uluCMMIHijwESSvZBX4tHE2970Q2AcQXDU2YUfzEV+vASxG8\n",
       "mhtnRusNNU6VqyXrKQH932u+5trVNGuMJhi4if/DByfu/OuNLbbsjIIt5HmCyGsg7xhUehKywzem\n",
       "bhBNl2inB7dBhAljc01sYImUmNanCFieJQh4Gp8HSbiXOe5+7MAwiz8Bb0EYycRFl5WF4AAVWkCE\n",
       "e43TAHCgBxmD11abvuFicDfysTPkEHJYgg40Tuwyr+cNfKn9bcZqIPfIDa3rQxUgIRfv+bR3oqKA\n",
       "0BYUoTYgV0mQx2RKDNT30jD4yTKpvZCUi4clLjlOwCxCjNkXg7cMvzfbJ1uLaTAKpBKdXI/Xf3Or\n",
       "sSsM6IZerz9h7QEg2c0HkxHj/+TVSG1rN8rk2udWuBhLFJD00zJ+E90KhGROzei5TrhMJsI1sWV5\n",
       "nKXU2ndHA0hiQjp+4YMq4fb+CIysLfcR6BkESyZMfY23Pa8amlTk7fYt2kr1pB24Ms+3y5mQbGVL\n",
       "OpiYl3k7eIxJEZXFsIYTyOAsqLIxPEVXMv93JAZuubmxFoOnXfQSra0Hrqy0NJ9aYyfU0+r+pVsy\n",
       "OWp3/s7yCoDQs6C8XOWeY+AQGJ+HeBfReHeD+yCoKz4tHAdDjeOv/7vbb1GIhfApVt0ZVvOnatX0\n",
       "Hhn9ISAliiHjDDH9iBA1fP5oBozPk3MQZUCNv2I5S1+fbF7oewDQ+qoxEnMyeUtzEBBXkwPDmZeo\n",
       "9WRviRuUqzNdjzOks2OMsOsn5EaXkHZLjYM6jVZxDMduF8MWpiWPa1QaQOnUynHM9w2jpMC2XxE7\n",
       "5bDYW7sL5HOtVJ5ITHNh/G7lXl1lDH6ipxeig2QsLiP/x40VcCmzWAKVGc5LH3ZGs2DYR2uJqfBa\n",
       "XLtKqY174CYylsClh5FuxE7bOhZxuyeWm+1jm/LchLIy86p6L1jR66nCvh/EEAFqFACsfsA6avnY\n",
       "6QbAd6GkBgV8Hnw/NtUAAAPSQZ/YRRUsN/8BJ8pLFXSoMdHIo/+RsiyACsmTRMgEAAP79/UTruu5\n",
       "FVsGKxiz+n21FCK7HPNhfgj3jhz18+GAZxF+8oJCcBPvk8R2+NdsMJHljNzuJ7P8B0Ls2Geicie5\n",
       "M4UEE6KNaIpa1SX0FEe4GHiefuiEYbVN46kllaTVpE8qN2kLBJ7eo7yLagaSU8jq+41EWAh0x0I4\n",
       "g/VoDnHQrwDBCbaAOZH5c3UiSDEhOic+g63bjmf8D9sLBbJ2toOCnuI/BfxvSGYwHc/yu1yfnwJd\n",
       "yw5MgDe4mJmO0QLIuUxE2Gz3zHpyz72lRT8D0JCW4Nap0Dnunax0/oS4ESQhw4zECnXOyoV1JrB5\n",
       "YyBom/hMx/IxQIJlbgLZzaUCToE/g5Wbrn3z43nbyMuDld+TaUYig5GECJs4DNcYc17KwPDl/xND\n",
       "kJcWMXmzTmuM/RPjbpJfH+qNzgqv3tA0c5cL1sFmimYeGNU1aXTO5FdAUpnyYFgL2iVb2b9PNHUZ\n",
       "cwGFmBTRoYRINbX8AnlF/eqgzRZCsOUAKXphqApNB73/jm9KymPI7ifBNDsX9+e2EA//GA9TYSOl\n",
       "6GX9hRBouLrTRi5ttUMTKrtkwWfAz3JVeOygvjN7bhoKZmhT4HgHMKfjd2ILqSDP3iRIq9J6QemQ\n",
       "Nb9jNXn6EcU4SOVzoWx30WDKI0Z43LlwUFg2F5XbLNx7aOOfoqZIodtyzxfis7kj+naAg/04kawp\n",
       "Qix4tDHxl1fwi9wcG4/HnPm9/pdSBfmFSKhSk+MR7bBwy43AuL9CQ+291GbqqBbuw5+tCNEH5zJj\n",
       "T1s3QcIQ/FZR9gxUqsBcJP9it/2EDmQtOR+Yfi5LTL1aaM9meAf5iKBJIQidHeOyl0iDwT3RuyX4\n",
       "ZKoEy7B/j/sVes+SVZ8GKmCDMvquVheDaZELeFh8NVo0jilj7jqyExAccxVPe7P0IT1pAmLMKaFt\n",
       "suVjAU1pnWNpC8Lj6S6RYE0Hm/axWPkQRUSCJ/2+vwHykFfMZLhANiJHRAqiqIigOet4A2O147ck\n",
       "nE611FtllF5KBRE8jCHkpCSSCBRbs5C7kRjGvU8bmu1dFJKg28ez28hbBPu9gD5nWFWIUp9zs0YS\n",
       "YJ1agL3wPwOLVKF+3qjw8BqBTMvetP1JUCJAxzAyc34L6xYwKIpbJNPQgna6ovq335v0rC5qg8Xc\n",
       "ce6Rrf8lXC4on/OSdPjUdl/Man2VbnDUPc5zOjZ06CMWwgC1w1637/ZAv71/lFhQk5REjAEERhvo\n",
       "wk0klHjpySpuyShroShQt9iu23j3nwDODSUwAAADQQGf+WpDfwCLV5+IUGThbnzGfADjxLvyGRaf\n",
       "VcnYX9vhmAqHGCjZYs+tIPtKHD7fWoSeDNJPV7WBNxD5O36M2kikmE9kuAHa7KHwwwBs+d/YfUJm\n",
       "QxzyVd5yYrG+WzwTFlrnLDAz/MQbWYCzNiSOeax+BFGw+UGMTVCrpJcHSKXaWZQSdk3CX/oCOtQM\n",
       "Fbt/NNW5mYnta7qQSVDTH5O7d8rM8NpUebefRsqgzbWBKEXEl91N9dImEMCpNNtiyfvSpx78twf4\n",
       "LODHtELcuPhOivQVqROlW8lpqRYSzF6/QJAcKQcsb7jIj4Ss5/dGeneIAieSPLz4cYfhM8Dbto85\n",
       "W4ZpLyeRhG9gyOENL7J3twgZRrUrrf5HND08d655Gb/8/OSC1hGzw3bPPX2wqrWNDqUt8FcTUee+\n",
       "aZ/AX8KP3KwNhFawIgmzmNEDjnWtSS0IIxLdWZINkf1Q2ds8DzKJBF/u9NkG2GLYK96DalMt2MHs\n",
       "DxCvR5zFK5D2xEpO68Cm+mVJNsdHPZ0N82ktdm7HWX+WmprkCBst8Amn1MicXs687357F/DehjnH\n",
       "8wyPCsrSIfH0/1Roj5f5L7q7WWBxf0Fxyi7jRX0L44FrdyqfRtqGRFxWWc7/MgbccU/gIVB6KaMX\n",
       "7uZLJIbEx+RmAZb1KD0Bm8kvsfDtWkUokofK1RgvPS3e5jgsOd0Us8O5Ul50oZqFal8w2og705Ib\n",
       "aqXIBIsYBwaD8cnwdHb+/AkavD6XsSzdappCQUhjR2RWQxWrenHu62GGpPfzcByBmXXyf6eghKNP\n",
       "iPcOeFEQ+Q0q6kMCjdQ+j3MqB0KKUVqcWQS/eYfgNtWEVByTtVGwC1R9azN2E5YVEpDyTZTASGxu\n",
       "aESXBjgPGUgf51+wzv0WsFDwKSQ74S84tK0t0jhX1EX5zisZ+jdhzYPthsTjjsbKnTFoQWreSErW\n",
       "rauyQHgc6ZuDjyPkRkO9E3JntH9dH6Q7/0tiihPpBRN/a9tgCp9+qvGQyi4owxIQEaZlCGSS/Fad\n",
       "S4Jlj4w9ZFDWymyNOo0gSMkg5r2MiS5x8lVYeIETNYWcKdcqixpBEgxUF/cPUTnCeEBjEdd3WyNC\n",
       "XZ1p4Slh+gsJAAAEc0Gb/EmoQWyZTBRMEP/+qlUANHBZb/UBGAA7MEfQ2u0H/wt1S83Rv819fh60\n",
       "LOwInRfyB3nA/eaj+SiNo6BhucLTH5uP/CEF/tgdMtj5F9NoX4ZxePGt32nPfH+XRSh5IPXCmek2\n",
       "JGE8qt4N5nGmRejffqVFQIiSugDS44o4crHFuod0MZynszR97ZRwLLR/omXd/ccQbkfOeAOMdsMM\n",
       "vfxmNMnI27JElgj0xg3HlflHc5y6WZ7bRFpA9awEShqbDlwmA7IUtL4Zt2r6+6NB1atteNiWvv8R\n",
       "VjtpEnUb+LWLoDB/v03YpuFPx+oaLbNhVmDSa+Vdp4GzIdnGeil0paYVgq6fLbuTMP+DnWHxIa4/\n",
       "9gAxD2hGbsOwMqeZwLwnnS15j67aTEiwT6JktcUrUbBGYwuASascbYfJOCZm6KS8UtCdlPbYz2lz\n",
       "fyKafds3eCkw8GAfuDPYqxaKsIQaDNREXx+AShM+4/zpIAZpoNM0Zfz0W8v4r5o3jYi+WrwoCkSt\n",
       "Wo2E3RclrKe0LBEWsz0oU35+E9vnvnoecyXvGHMpAniuNzvdB2j2ymkmXdefg6s+p4meyDPN4OZk\n",
       "dS7pw3jf6xT1zaZWO4ZXUK50ajXT5g9PTdp0WHE8kBwS6+O/H5HfNgdQis09sHM12PbKFHrmhfIK\n",
       "UkhwuLjxkJR8XjhxuaN5V99Bo348JpxCsQbat4salbFEdFR2ILx6JxuMDxjEXlspv1ZmPYRoOuY9\n",
       "AKbnecitq3rak52brlOPIXh26drJ4jkTmc5XMLInytGD+X3g7nVg4betKkdRfCCwHk9O2peNWu0U\n",
       "RVYVC4B11Vzc0iJ9//L+Pj3Aw/FuU3/Pi/za+oPA8tCLkV5zXsIpSlDev6l8H1JRDbdTcbVrignQ\n",
       "tezcKTXqcOiXIi+izpym7eggvBDL7gdNnDAPc4o3qN6ktUo59/CYXyx/9nlDd+0iu5zZNepVVAhU\n",
       "N1eaR/dcMii4hZ2LUjGk3zP1L54Mgg7nqo4bEfeFmG3iYam5rf0lyNju5SVVc7vywxUOTRb3v6T0\n",
       "83rEzyZ9N0iMAKw8rVLFfqt0LkQgNSZd6E5FZcyOYxbu2OzNUpv6Z5EUZJvLqOpaKbUS5sBDPtGt\n",
       "/VGchr51McNQm9xq86yiy2EcsWtmifZrxj4sNIhSBKP8PapLdtVy61znVgLgOg4ys/GdVm1oYwoz\n",
       "Oi8N88eyD+RME+K+QPaorcJ20lX773wFLdQMBapzLjRxCbRkxWOF0E44rUUUMZz5qS3E8Odi5tO/\n",
       "u75zTPlDS0RM/36W3YeZNtfFvKDmhNeUWF5e0wIxnYfEDqb5X8FRlnHZ2nCEgnKR1ViMJoEo1CmH\n",
       "Dql0d9NU7wzCMUwp7RHMG8dhkk/AyvAn7eYdJAp731iWfMcy5i19BXx0ijaO5CDr4QrQ1f5x5rvJ\n",
       "xlFrVX5/T2JA58P9tlMafYuZC5ua8n9EQ3iv5FgJD0F36A1fA2IPrgZ+uB9ONy5KlB3SjG7QvLNr\n",
       "OojkwYxo3PdLtVqAAAADFAGeG2pDfwEn8bAqXA2VyzZmAMAHFG9bUW2ZGqjn+hDwG56nD/8SRpBw\n",
       "MCFKVyV3z4ULu+R3X29KdPEuDLk1rY50ci64GJcrKgIdEdLOEDXIhJ7ov3lixTYaNTrberWjOFrE\n",
       "DAYhfLI1dZzdK7I3ct3mK+A15iLzyH1bDDw7/NI+H3T/vMAEAs79oXy9PZ7Ri8fm2Gy7KaKpAzOZ\n",
       "r6aUBYYiGlH5CvjGnSCj9xxUhejkQOc4XVn7Z6vHqgwwRzmoq2cKliyx9ehUJ03aflSKfJKUTbpy\n",
       "JeoQKG2U+DSRb3PNYj/jiAFpue9QOZO4FsqZPGGCgqHE0q8ASDokJuwupuTA0AUR3LR+/2RTvpE8\n",
       "by52yX/JczqhOVpKuxal2jAh0097cNQKdPGCvVgT6UmldyYJ0PdIsM7dqm2GIzuALe8E7MCcXrYm\n",
       "lKXdwGUnsos72J/A1Yvquuj5l4dyiDNU3eOfMot2dlM7GLF/Yz8pH+Yo97nY0SuO5g0rA9oFUqnh\n",
       "5fysJRbuziHSOifC26FMXS1KJtB8pRxJQ3TatyG7yKRHQeMQU6hx7hlf07BRwlXl4wbEuxc7CoBh\n",
       "/xnok6R5FNVI0W7yXOcqgWImYq4xIYnVCONT2Nz7EHqBGtciY0ehZzdALPBcYLWIBSvqskpdDOIl\n",
       "GECKFjBpGMGKJL/8AWiSKnK9pFNwTPpAOTTjUMhwRNFGj36S82a9OheqeK2XlhkdnpTVu1To2/oA\n",
       "SYtfVD0KH3EqrX2e3YcrJv6RsaGT4+DNXDr05jfydxdalsVDWsgN3th5LVGq1Avi8M/vJOTXr/4Q\n",
       "iW+iuKp8aEWe+o/2jVMNIAI9TEjSVs1BMmmst855l9Sq1gvgzF2X6BpV1dNeUdoEuQzJ6Pc55vbs\n",
       "r91czpCm+gPjZnZpWLppLzxUdtwY3atYafiLoT4c7GxFHtLhoDvrlf6au+/C5iPXBy3T/PlStDFX\n",
       "3GZdfJ7r3yVTWfkIbV915EsLw6HOBPXkDs+Wy9z9s4FgdtB7tg8aKLliLh0qELuPyJsmP76JyVnA\n",
       "FxtEhJcvAAAD/UGaHknhClJlMFLBD/6qVQA2msXJBh4jSr76FABshQmkR57HLRrsyMJ+evUGeb4V\n",
       "0Jxnx6bMH4MuwZG4s2+xQzRFFscg/2eQAtyvdzdRNIY9Vp7GV3CJFqLGaX8vlQ8yfG4boxNqbsor\n",
       "KsgzfQ05g/50cmwlL6CLKju3WfGvR5JJvYtm/IQhOT7Nfj424UG3Z7HwxdVeOQbq6ss8oxMRP9Fs\n",
       "/f8V2R0xOpjsOj8HlaBRChsdWQXNN++6kprwh81xlK/lzeCUg7I//5o4VAooza4TtuJfei+fmX48\n",
       "POmgoC2Ovutues+XCRYcJrHyYrLwRu++dhl73jCbpQg4bTMgFeAC++QkoRNzLIB4M+wP11qAfQ+j\n",
       "/7j9ymekj9zFvi9q/jdizKCgSRrsZWOBLCxwrk0ZWW0rXWVKz5WKBLkBJtHXBxV+iNP1NTUr6Kte\n",
       "IoeVR98BtwkEbUE7gxIjWUyhCrdkHLdAIuYdvUcBkgSbumvkOcXAHsfNRfo37PDavgDo1JRxMgRt\n",
       "+F+GBsZ30y6J5VhvUDSMh85vhmtfinjfnZLjbdhxFWDObh6NlPDbd/i1fqT/03CxtpGIQ7UbRYZj\n",
       "J8OakZL6SM0dw1x0XbYoFa+SIUnYSd51yN82vp/+liGGlKG6/t+92y2Z8/Q72mwiHrNFhJP0t9Cz\n",
       "IGzOrNJbUqb7g/W34hse0p4ped1DfpDPE1/XNTa9mIVzUyFK8zEv0RjXm0pFFvt7FvQiMfUnxeCx\n",
       "Q+KZQrM9bZdvAkACUHI0COXUnTFGnUcexmnxAannc1tKo56W+4rAArm2DBEwMEBFdwmxB9SSrVwz\n",
       "8kwkMkZcSsJytfg5K+q83pk7Ct0/N09aunWuxGuKQcEwSHk3IXVqZ3Mp7ABs7B/iDf1R3jHCjesQ\n",
       "AraowAvltqu0JY0Cv9bbqckmUh9sEg+ZqhJzNgegV8476jm2RjHtDa6JPzhjRJ/CxEwU4w/3g5le\n",
       "EmLsNirRwrReRzsyFyXsF3rJVGmviNmLmmupM/2fqlDuMp/nOVixc1h8clWFUTQESZmwrDg8d4sb\n",
       "zMr5dAZpV0sQ9fJBWVy0s5JSVyvvOm0JW2i5+y0QBwuG977mbkoIprIDcGn8cPvau7/sLzd2mVX+\n",
       "wk2L5U/BWREoh56pQqsFsgXZY48s/FCIY5eLulQFKKz8waiQUawPZK1RcGRlb+8GJYLUPbND20hK\n",
       "aaa/nPBAMzqPhaEHJIaNcOtgACAV7/GHC+AgfoE8O06kNJXAWqqeYeTWfiB2C19yZGO7srn7HK+P\n",
       "1ZdsdvEp5MV3g46Xgb0knPT0A9o3+HBMD3X8pEhmCjsVIK0l0X/Jab9kXPB1X/yV+R4W/yGBfCLy\n",
       "uUCLT4EAAANVAZ49akN/ASeUvAT52VgupMAoxdc0QcIAAOqDpkjgz2UkuaZ8wGTnohJqe544+u7h\n",
       "Kitgf/ir7897KGMwTNaEUZ55VyizUItC4JX9kkyImo8to/T/dT3D/uZD2bxm5r2o2Ghwc9d4pFkp\n",
       "dzx1ZRXizYdXI8R5fiOCeQRsh0tPubDlQWr9JospY98oeCxgVzLO1P25c1RqH2pgKi4XbPiBosw6\n",
       "4Q//gIw1XLzfioHPO0DAURncX3R4aEgrN4P58UEem50f4P726yaDxQc2rcQqt9Zh/1Rf4clLSmwH\n",
       "k+fVGihgke3JzhMlQ9CXwaGn/xMQFFFN+VzO9aaISyp41flDnepy6xF6xJvtUB+xaYAY2ZQNzs+S\n",
       "Ad/CH+rXk6/HAym4ngI3r4cpznNVEEO+rkxgc1qhuviBwpWT/KqSIM3/11mB1WJBqtR6W3swB9Ne\n",
       "+EKh/RbdG3ZVCzsPzZ6GELLlA6JgUVH6mAgcKgEnWjo/e3ltYmhQcUA/XroNyZ5k3g8hbnb7PR6o\n",
       "yJHDqQQVop24haQ6y0okoDoAv+CiRiz8zmooQUMYE7GXE/KHiIKK2f44s+jn6Q/fZAt0SMC8I3za\n",
       "7Hgh+xldsJ4EI4TXbAJaKaQG2fuLDxcOgcfCosCH+/zGuAEz5AmnIJOFvpmkYgcInq59OJrLbgg4\n",
       "uF2IWFTjnFEUvGvD7kGiv//GcX40tzT7nLcTLwWKBCcE5nzBa+KZ7K4P6Teoeqq1h8zhhYPH9BUZ\n",
       "n/inxph/frCwqNE2f0WOgABEn7AteUcyqO4c3Tnzzt6VT01xkNJIPfoBk9l12a4hsYe/4JzJdvsB\n",
       "ugE4A9mikyV5hym9fTi/r9/bfiJjWLy4kPjM7sM7kf3DlQvB1UBtMxnuuYsaJCD+wKESMfSKPxtO\n",
       "owdj1BOpk1OOgn6Pr0nBbvDt988wKKiqFngLonxj5+HKeXIscC+Lb11NmklvBiYwPZK8mKGn3FNa\n",
       "Iu/F50DuK5dxZbZ+g+jP5sNOB2jXVSINx2aSr74pZbnVpR6uepYKuOMdgQnVkZ3bvfwMucm25ojo\n",
       "N4GWel4x8tcCXvXZBcWk2+iQIkYTwPAszekffYOgAIemlpQtm4Ulg/29NxEk19/w5kWUs9UNzbUB\n",
       "RW8VpxAzgAAAA8BBmj9J4Q6JlMCCP/61KoAZRWXkD18aqABo3//RPJKSimrSC03/4Rn95Y6SmEj5\n",
       "H2ID7Tawi1e4kHZhPuevxVAl03g7s5xxEul6uuZ2EoLZVXGCYWd+VNJ9yopV0KGmtp0r5zEX3WXZ\n",
       "0GoMuO+KJYPrMPCioFPATiGZurYOmRULnyrLkBJyljP49KBt9ofcaQLBYAfOujE89AbSPExl1s0L\n",
       "0bq9EGwlBHosmF6btWsL4T1Tp7hwW97vG2LRSKe7snvcZl/oqU4/VC7EdzmaOkXkCJ9cIv9yhU6N\n",
       "/CmFxvvH5sWb/uujnNHe/RLRtqWbfG2XPCGHH6zYpLr+w95ZucLKIBAPelJszb2b+s1rt5IFb49w\n",
       "tpJZOKpSIGpWZ3fAUTm3mZBU3bZyIYQOOfbN/lGe4UJtU1hSxgmP3x1fti7DTdg2KtJZEwkw4n3R\n",
       "6mhcuCiJeWNgnNjkLZxjpPgcX/Cbj0bsOwQGe2dxQtInFBhtq87nwHhYUqswzONqBO9gc/N7RUhP\n",
       "7h8pwKB1kHsBzJT3m34n9L3bLyZoDCx9Z4yL+et5qkGhkLmRX3grXpOYtWlNuARjFKL0ciG9QNaB\n",
       "NttLKoGByn1bDUvi3Wg1NIaxhmO7cpq0UxTHP5NI72/EwzlEUNyFyJZs/oEP3BUPBK+9jA9U+/cz\n",
       "Ox5KbHS8Un8D0GVqXJ1m4+E3lVOoEdmfud9XHRodhqMb/4AdT2h3RQ0GMj5lmYDRRuAUhwFNXXj2\n",
       "GKdbM7EBt6W6nAkbU0PPYvZrg2DT8Svuhny/E6Iq4jt1UYsxc+3ftGoBRrgAfa27DG8MgYaMGtyP\n",
       "Fr3bZNIPlUc8nAcNZ3w6k86R1bN0iw2ZUw0wUuf4y4/vs5OgJSyInNTVGfK6nOL8uB+KCZsEAGi2\n",
       "VVaqwATi8KpZrVfJdSHO4In+V1J9MMYAvKmoLVo8uNQOvx67tHgjQ97sBwR70AYkphprn9m3BpLN\n",
       "lvu1pchxV8V0XrYj2SBuIaj/kQYfhWkpqNEbGr9ItaLrTUuuQbxzw1lCUHq9y2OqJV7o2coEfm8k\n",
       "PS9tPZz7sTlyn37ZuI6djhtkNuYun545IjZk6fcyf5f9t16pZncFlw1lXvCSHNnKRWh/cRxRtRr5\n",
       "s7QKBkSH9H+3NDhgtVj187/ajkhJ2EyHQdRHvNeJNKDWRM8Lr2OP5GOoC0E0Jd0BGgVs6EyxJIsW\n",
       "cULHPkiH7l/sddi/Ra93Di+Mwr6ykpfeZsokrn0LhGKj1OunFRVKB5oktt/1KhSW5V+mCsWarm0/\n",
       "zqsAAARVQZpDSeEPJlMCCP/+tSqAGUVr8ULhhzBB5sXM53OKrgA5c/hkXXwLLXZAnxqyr9CYv7aA\n",
       "uYfz0YiiPVr4PJQg/v0Tmui7Ejfg2O7bZAyimrYgfWFXO76DsWvuBMG5vPXmps6N1o2jbjG1Wj5O\n",
       "jnSFosXwe8d/iHqLWNxowkvu+0eUzjMPv4Oc9rw6w1EGZcGvItU+vkoC4Z7hrKrD2b3S/WHV7NSl\n",
       "IY9wF8TsKL3Nj4iSK1K8D0p7O2S7/2nMvq+jxcOix8rw97NDNFZ5u+VDMMQKRTbYjj+KYvrXlGmF\n",
       "9SZOVtgnnDFRJO/9C/lX7OzP5o2/30ZP9WgUu9vIruCKmpurglQneJV/c878pcDMrKzKMowFbJl0\n",
       "6xq4etQMhVBXWQQKsRAEHF9bSFEvdbb0fjp+5GOsEhwUMfiU6vE3yoOoe6GRkZBw9pbIg+OEn0PK\n",
       "4CBqvrh6GVShhsE4ngPQKXIrfAX/eBqXptz9216CYoN0bGjwCyteMF6TpuEq2U9Fbp1FQ0UeEKRp\n",
       "IOIDrhpErtHkobsEvNdohQMCsE0qQBj+8hkqSv2m3MB4SQh4YTCT9VyKB3/U3PAlzZ7oEeLpf8HT\n",
       "0N7wkObIb0fC6jPz8vPIO17oZB1zejD5safVfmLOjW3R1VgSQYDyG/1PFadi/ilAA3KYquaJElbV\n",
       "0bubruC14LqU1mF9R2qAH1gzI4zxdDxWh5C3sRz7RzNmzsVnL5Hs8awsreze5U1UCfeZ0cOkxHOm\n",
       "6jdP79mE+g5rNvQDOFq0RWWlYUrCQgg0RcfUnft+QudMtLyOFSC3uEOJv5RONOkj5+RcpX+wYd4S\n",
       "qRtxbHS2RQX0h5lXVTz30tkyYbFWZU8N4GIP78oQITPB+q5X346TPLUj7pcfDwJz5HuaJ5I6gZSD\n",
       "BOjSOMCHCurUaYAhzETyrEBUmzCbVPAngkkw2St/ykfE/k29nFxlEsU9GtYPrKbepd7X8IYgHp1K\n",
       "sZkmUoO6AY/Uw9m2uWstSjGwdKXC1NHGwAEVv1lIpaIHvJFQOFVS8xLDd3zT94xrfJHRzo7NKzsb\n",
       "PoT7mDJ3kW55jLvTcyB1j7kQ68jtd+icEhByTBRkxfQDURmBPbMgVLkBKyHB4TYyPLCVzA8B7I/z\n",
       "Ohm62ph34CcKX/5M99ymUS3H/4a2pY2UarNCcZ75Jq0Uujh5M7WbJuyO/4Osv+fvKlXaWuWXVK/a\n",
       "1/PYhAUn4bnHG9/+S1dBknm3U+xssi+haQ+LgHXafJvTEpnfbbNNzt4i4m0mU4A9xBDuVweQybbv\n",
       "tzGaMuQ97vSjPoe0VUgmKLY26qBgnmiYRUvOc2fZBDTE2ZKSkzorXNZVgNEukv02KGmEBmU2Vh31\n",
       "pLXS459ZaCtVJJSUMs/XweXMLrj9y2oYp4zPvP04bXpO0GnoL8rf1Kij2Ae7Gidkvl7l/4M5iBj1\n",
       "rZYy6eFQrNskVgC9VIZLGP7zv5WHf9XWarLq+AjJ1G0AAANaQZ5hRRE8O/8Az24N6d+NPvBHgWYI\n",
       "AMLcCEI5QtN8FeeajchKDvNwQS5ySC0cXH/5N8W4wbjRSFlfAJ3yrCLRx28zm/lq6/LzIe/T4kAl\n",
       "MaVRWSOl5SUX+/MI6P9ELsFenrFIECiL1bJgbnrUYXwoUyKcllcnZHcrKmBEkd43xP7VPhDWMwu6\n",
       "6tulrCruU6NgsI47SKY472G6jI0YcvPwNSmyW626F6F8AkqMh5gUI4W/hZI/9V1lNT40MbHD9nqq\n",
       "JXqlIIK6KbQJazEwqnhorrRkX5Dz7Kpn/lmR+Yf0l9lzd5wXBSHmIrRNICNShp0ruYDijk9xRny4\n",
       "yxq3H8c2y3XjEpptqPuF/U0QEG2N2GraYXgdt3OKpjcYoZn7j4rTPdF6v9f3L36MhgZ523m7pJpO\n",
       "sbcQeS9SV/fIZCKaa5+cyFWgkRu7fhGswmYUagnd9H7q0ZJzJQc2zn5Qeva2G/MmN6ylC6O34c3d\n",
       "fdGFNIO9QcxnEOjjXw6nWLW+TAovvnI1n+5fzatPC14WY/8wMJPP1gKsT/63yrfPcdzNSRjTjJzb\n",
       "Ito58nTxfD06AdS/SJdvN8ZYKV7x8yUf/JEkPHNMOmA0a7+T5ch+TOVuyaUI9gQeP90g4ZY7MEaB\n",
       "LeYjSbkIBqzBpOev6BVUhHvPrcEKhd6RsRLIzFQ4t9S6eq2RJEx0AGbovI5yeLeQQuh/XP0nbAaE\n",
       "oWpc8VBa/Th6aYv3WozutCtiO7W37TwsUUaBQIaU6kMlm8DSLipRZKTDymAh6RutYhK9P371HhyV\n",
       "mmxoOceaxrUTJCKyhBZdD47wpYH3nCruG8CgN1M8pNh1EbRf4+7xKJ1SaKufqEmJu7x75uC2IjxO\n",
       "SuUUY9v2qlodiCecX52lgBFd9Owo6cZqLEsqu4KrMdpMqYRgVguTR8rLdUvK4/t8bISvqdEmNbqf\n",
       "6GOJy41+t7Xx2NgNF8y9+KniFKolQCymTz7qilQUpenyAu5aSe2wXEpYsTxL5uW2waqy+j02TuBu\n",
       "EJZWUhGHC50FyW89vkZj1tK7VDFScCbcltBohWX8CoE8wLwZ3C2T9ZF9AqXviqxjPVN8AspklJmN\n",
       "lw5JtRSW2xhmGpX47FCBJZEgRgQP3fTBpfdgG3P66LHZLbCOLgmwAAAC8AGegHRDfwEN8TGsn8is\n",
       "00TAAOQ/xyjYBdQ2C/AHS1N4ourV7twJbnj+u5HWfpHJSArfAqAOOyIBfp4WYlKFjRNsuyd08fsO\n",
       "2iZ3CU34+o11cn5WxSckYj2Cq6qCa5t/rALmwEO0HcqZAR1nmp6fLI1AmQIMrkjfrVMmYpx4naXg\n",
       "g81iXds+A/1GDB/8/uE0qeYPaf1Wjd/LIQ8jwRAQLWAaFcfSnAHoEA4gKXUrcqmU0YZWzRmAqO7g\n",
       "zgb6wEsIHd2kXuNfsH83qZSfRFwXxEEsDA9AtPdTFDAovfYSfuiRPrMOb/1jjdN8yWi+sLHhe+vJ\n",
       "L24LNDv0Mzb1q1dcvsd3HdHeubpEHklWAuIirtO1+lKorpEiY/UaH2iXqETY4l4wLq9ZtC9eEkmd\n",
       "sQWt3VrqMJF6/o9/PawMCjs2cedVadJ97idgcvFcedAXpX8XNILZ8WOgRhqa72qrgLW3jaeyg80m\n",
       "O8uXo2v7fR7fUvwJIBItSn04a1lB5moknQ6PKm0hwbLOgRLiTUosVNwXAEXT4huyMh25qReyhW9o\n",
       "PT+SdqQ/90OMdnUW/Gey0ioikm+2Bqnu92c80ZPMgsYplVAJLvzHBUnADEbiLm7ihseci20HfWvc\n",
       "yXjK4jt90qrWB2+SwwWe2AUDTGEktaJADzZH4sZxRdNgaU9Lm6yMiOgAJwMY+wXQP3Ir+8EyZk5x\n",
       "4NH0/PtnMOdpnad0XXmF3N4xZVnZZlEFn4OSsG9kAoSkbN7ADkZQvVoSCvnWbawfh0mtANijfWe1\n",
       "s/WvnRCmHDZ2jT1928UOZSCxrIrFYDSgPGcvgSHFqlaNVjeLt0ViteH4wlwMHLMOBPq/wyedczlw\n",
       "5NNsHvcCFOQy0/wVCF/Y5AJeJnhwVBQSZfu/qD5sRfNfzPvvdX8OIPESLxnG6pvkMKUFM8hJtliz\n",
       "110VNkPPhZMYwIPY/SEfKZQwoNPTsr+XQ2sApVyFC0AqdZ+Bos2zthACOEg32kxGJ0ocMFSBAAAC\n",
       "5AGegmpDfwENpNpBCjpbYYAOXP9lVBgUec8Sslc0bP86HTHqQx1wmNtttomwPCVh6s8WbWP+oEpP\n",
       "0LhJwHeUlySBUCCxeN6Ix/YlkDXJhUkLK7FLeNRlOBP1bTLWLUxektiIRPwshbYl1wPVReHxU5v+\n",
       "Ps/N2+VP0R/V7PQ9mIeKyCJrrx98HVRlqredFLpfeF39yzb3q0njkFklz47aMh6evAN173Rdn/Bu\n",
       "//TZbY0+fOMAFTr4OqYXuU1um+9DA5sIHCeo9vghDX0KJEZU3q96pzmkr6PPZZmMLu19Mz0gZudS\n",
       "m5N60tjbdaLmKkJmEW/GgkNgGZf0NSPhviR1paEBgIFQTe/qPz1+vFt0kdmQRFHTVByxh5XHi9pH\n",
       "H4a8Lf0o3MdPkaIqMa7rtUrdAGtM7BUBdvOCsFGoNs+lFKpa6fLKEdgMIpFgXDRzJ8n2h/ef4FVj\n",
       "ldbhRkcFMTT2KakylIlO7Sa61v30tA8Nms6U+y+Gv9dRVpZC+IkEoU2Cpuz64RYYqyKY0wQGOgYY\n",
       "GHpIZFTRhNCp/FnGyNfDtpw25z0hl+LFt2ITWvptG/x69cqaWLMXU2kEv9D7vfHeDbrqwySpb1M7\n",
       "r3Y0e9QU+6xPxQs+IA1Q/Efc0z7JLqyExu+fUY4bjnvnCphnQELSuu5werkM05gA8aWw36I2Da9t\n",
       "zmmFE3bIrqDuddVNRZGH/fFf4jyLlGzNCbRhyx+E1SPv9PLDBKv/LQeG9za/hXCp3xe9odf2uWsf\n",
       "L2/Q4No4AG9oTX7oM0GK+91K/73pCymphsv56Uti1M934ueiv/ZZzQpStxh4b+bCMxzdBQka9cKR\n",
       "7EqMB+Mn9AJ90J3vaP4M4KDZ/BywWN25UDF+6xTKhnswUkaF1d41sGAYbAL5FPcs4YwQydZDT44g\n",
       "fcrB5xnS0cDRstfxG4ISvqYRC7eixUnssKEHnq60RwjuRLCZuP4Mn9E0nKQ/gFncehganfI3OBvw\n",
       "AAAEE0Gah0moQWiZTAgh//6qVQAYC8XMOWG//DzNcAC6rzkpx3zCwV2ikNz5RJzYw2PMlmDhpWLI\n",
       "KZi5vQzKr6KjymNN+DAOMydw3voGKldroOmv14kNUQbtehIj07CeEo3SPFCjURF7f2qnoFtzxABd\n",
       "8haWw0GnEsrB6Sj2NOapS70myhirYoauA3CgAUnTJNDKsS+1NkdSU48Dh7kNzo/ZA7bTbxWkTk+4\n",
       "aBIpMBWKIY/y3Wlkor4rzJ6EKHS+ol4nMnBw+rspUu/hMFvlUkpCqX6WB5ysRHP/waJDZ+or5LZQ\n",
       "8cDTqVGvEvjT0UfYUb9gtdJuTZba9y/fQicnqGiXAW/aHI0whu6XKhyUuAyzarKiGd3pT8PHhWvM\n",
       "UmUijB5/3OvgKfumro0rpQKeubhkOIMGcmzuN4guDhrwcljjCh3IOD/sU6mtjAgRjomV8dRfleEP\n",
       "+chq0FMOjORRD2EmqV/Ni3vex0WfJ8wWjiw9NB96l6aZNN+S+dXg6YtR2rjWLJZlBcPMOfaDHH8H\n",
       "bUE8PgrukR08eFsjKWlSmbXNZmiebIcf+Az64TYPlWQqC7WVJGkRq02NHNqomJbnHl4ybzrExxEI\n",
       "DmN0laPhDC0m1RSH++eTBhAxUI4M0DkzVsPVT4LpuV0GGNalinyKiBm4mhz9rVEgoo5ox3tDfRK7\n",
       "WgfFDqa5Mi+1KgwBvEDlyoP4z6CLxqXCyR50fw1vsrZSZgP0DLJwcdwsmEm4thKqHFMnh5t+RrGe\n",
       "gztwIL/kb9z30Bi3hqRv11iRionHrtqXwn7h87tjustq/1lcYLULLx1tQAFOEO8N3LjMAb7JMajy\n",
       "Z9IFb+l08RE8+lJwIvzvHf78+5FsRntxmUt62AuR3cAQEEVOGFlIOcpquEbmeK1BV/092xruNCra\n",
       "/uBkiUh7GbrAc9mfhrG7CadLsgohMcnotRwm7TrfiuOFEqnvVbBELJ2Yd627+HhVYiBnGhfohBkE\n",
       "j157z4OY7mCYZYFhcmvTqCpbKrkTEPirWCfGbIge/6O3K6BvAlXVjpAy9Otng77ja1lJxe4YnnLX\n",
       "5o8KIw4hrplgNId45q1pNn+7W9NZ68hMXVCCbpcxWf9G3kl/pcp2z++NUBy+gS/DfiqknMSumZcZ\n",
       "RLJKaIRs9h3VGFZl5PETDUDwLpVuIV42Bik2T0ELeMALveyvZfbK2+dyvINPsqLm1+eLVTU2zBFt\n",
       "VbIoJ+i788wJ0/PFjLFsFkgMKHI9pKfXXj6wk3KWjEmiiJMqXZa3Ngb+fiGnUcVeFRxplXlYUmn4\n",
       "owUxjIiijEJC9/RSSyEl6I99SZouWl2qtRr15mrElMVQvmw6wuEf7rdhXRDQlHTNmPREKIa21HLx\n",
       "i+Zj+MCyWpDyDNGq/ss6ZXxaj6o5AAADv0GepUURLDv/AM+LcgL7W66Z6adxWs9TSRJAA7S1w1cp\n",
       "G7a9zyYOzLX+tJ+T4PoO3H5z3hFNg3g37WFHbdl8iOX6T/x2edpG9nNewnHe9b+zknRJP1R7HsKS\n",
       "fiEnYGU+6Er6k1v3bcmw5Gfhlwfvfj4iBsz27VjWdAQNWgtJWujcr7MrXjbvVdfplpKKFXqE+mVu\n",
       "hj5WN+0M5ZXetMWLes0i3wRIWiBPnlCQCyzV6U6LsXvrixpXLmOMMVW7XzxC1RpVefOliVF/AHBE\n",
       "rgESqVRFXqX9ESK6avJLfG50D5aI2p1DJDh2rumO88BQZeZlVwTtCbD+ruQct5EkcLnK5z6n6E7h\n",
       "J8sbY4tKXTe5vprMLX0OQxxZ8WwdkX5Sfivsm1n4mgTOmvELZy1xyJX0+pKdkUmOeeegawIUxJWI\n",
       "46nRDZGjn0YV3pyZOdxK44asAzZ5tLWT/XDqCy9heCiPBbZIhKH4leO7JaLRG9/r6KQgcCVvrBvo\n",
       "QIlg/A248RX+tCQK7WkriRiU7OTErew6oW5oWlrcNNE0b+e9a5c92iZcCH+Tog8//QUPmHe/vL+y\n",
       "GbeuWy6qObek2hBKH3QCi+7jAP3RyquWRwxLQ8ohp5OhJ1npoWs0VDlDAAiA+wUUfxPETJ6NuZ11\n",
       "1mc1P2h4TTVnEhWf4g/cb6jZpAsQaUEwbhp6wVhgfJ/1Fv1IunJ/3G6fWlJtw22V9m81pgYZaOfM\n",
       "dWRxDCDTdU7o2cZKNxcanT5q72oe9TGRiF1ZUEsubZ1t8dafkP9IGJ4RKw4WA8xK7YUl9F/hh+tM\n",
       "jSP4h8rYU5fBsR23JhO3frh1fyPwN76cE8VIrguk3tq7Pcbi56dyuwcSPj8HNuZR4uBd+rdQ98gB\n",
       "WR+oX4WpAeeIh/FSVXXfE5uaBJu6T1mHvvUX8qugDeIrWLcZRoyzfC9NqqC0DikJNKqgUfoFcXHC\n",
       "D2prCYSllzE1qLAGzniGPxwR4g48tg5qT1ym0DV1Q2bKyOryf6YBZFxCU/145/gMcBfAUqrSvhTz\n",
       "4nNyti/m43xKnh2o9iQhrwiFeKwkv9aLr8PJSgNkXDlUinqVtMFT0xFNdxaH++NC5/4bMfblfkXn\n",
       "l0rGkgeSlTRyyreQDZ6cGhm3PZx0dSeSV7CAGX1a1fG6uoTNtR+FshXu/tede8NpXHx+fgFKurNk\n",
       "eeFMUC/0DVy7lQVwEe1y/MVTesA4lpKOqRe8jaQK8aXmVcqOqQlX3WmkaK5s63m6ykDdQCgvjfD2\n",
       "uuOpzJ3PcOA/Kj+mazBBAAADAgGexHRDfwBBcoKfsgBuyCkQqWhfQADsEiL1Mt2j5oPt7Gxj4l2d\n",
       "9lQs4Jnymx7/bu4wLiaa9cBbJUu8wXdCSCgxm+0nJBRPrv3fH3RCiMWwkQ3bWfTPlK+wxsAcY87C\n",
       "fcX9TXVDJ7aDKrFIFeCAdDbHF+OASgNOPg2uot4uHSiSkkMMJFbXc2EHsqy8NEKGSBFX1CWsM/HF\n",
       "576JMktzOIAyJmgHXsNDmGBD70Dt0qT+2EAAY/U7ff1t+oZ0BAA3kzFa1KAjwHVpPlcIpzSVMw4e\n",
       "1y9VVyvVrlHA1W8z9iNAbsZ/8+NyqhccoBBA+kQ0u71/CejagmJCfTU/c8i/v7d3+j/jCfh9aeWD\n",
       "BXN+OK43hsyLU//3MXoZMqbkK7kAikZiDtdYTXoqVed96QM6IZSK9Q9Ie1BXN6kHt0DMGK5VkCGC\n",
       "WdFuxqSdCqwDq8mm4EHYRH9gf2u4yVR+Gr/TJZ0nuvblSmWmNY1FmHOAqNjls++3iR3Y5Xm7JumM\n",
       "HbBxPeyKX88EcQYyTZv7KgFD/XR2qVWKS58OO6Eosb09CYpERohFK8bNir9RT9blg5ZJ4J28/vYc\n",
       "f5TYYMrrHdA6psMhn6il3Gr1IGX9YBffPQ8D2r33FdK/uaZUb6t1UQNarFxZCrYQ6thIjILB7bMf\n",
       "AaaLvPg5AYt44ZSS5fcJfi2DCptBBo2ZtjkdKJjxWDOeOIzD2f9IKCXLn7AS1WtI9sNLJ+KNPAVk\n",
       "/ivB0TOGaUqBFouBGMWTYlR5WTSQZXVorR1rutU/D8rrnnefS/PHdpMm4rIdv7t3JaYv5LlZ+8H6\n",
       "Z5JDvzGJIfwxtFqh2qd20ZasgBqBuLanVfPJd/9l3DOqV3pSAf5hDetPnhIUoKAhkClcsV2xVa04\n",
       "jaJk69nnYXLhBBqHYStkZ/u4AIK/CIETF+ys3AtkRcX/yOCaEipoZxO4eI53t/+cZ6dct/gAeHdy\n",
       "dGdqPApjz8DaaY0eVbhuksvJWnjvc+kBLcFtZ4ZpTELxsFBG5XdN3kau+OVBPUCxAAADOgGexmpD\n",
       "fwCDoTAAHHFzPtDXALtD25bSwnAsQ+zoMf7WdqnV0t0cwX5TIquDGv/chh2rGmsRq1M5LhDfSVlC\n",
       "EpAXIKk999jjAySw+5cva+GKnNkr7tvAdLfshIShFPzy3FiWdT1I7fiY6WkKtyo2FQbhxB2scTuq\n",
       "4iuAf11faEfTOi0oIP5jOuDG7PJHP600KoMVgQkstcDstiETWjaIijYpUniPuaRE4MET5HsfCbLe\n",
       "4FsqjRgt6UZKLP8Goh5mjTg37188Nohgcn4hfMO8NlYET2ZRysVamtd2D+xAKXVS2duEk5wUHuxO\n",
       "6g0O1IAsTfS2A9Ui2ZxeUTwtetDzBcRe2Y1SVzrlzFNtvGYNDNB8UBnv9rbHiE2n5/jGcAzSKjjZ\n",
       "R8/EVXUEoHE5RRvuOJjtD4BHI0N+l4+iyRuXri4LR9yw8Pz7BJCAaj1UkmwFRnQvC38ENDGQ770o\n",
       "2iBgCMRB2GFk6qLp3MIZhHnlRIvEYJDHyTnp/4Quk09gqpYvLy8DjFgcbBlAByJx13KQnfoYdpYg\n",
       "rbuh56FuZytaWuB49OtPjpxsLW9uZVLIytPlCbo2RiOkn6wuoVmHd7fkxjmTbHCNFVYn0uKaFved\n",
       "R0W/7HuUCceqmIQijoRHfrTDYBfV+n24FrmqbV9iieGaVU2CPJtLw1C/uDl1B5IB5Gospcs/EJOz\n",
       "eXFUjlVrH8Aw9e37cCRCNDhF6e0D9ZZJUtdV5LY3UVMX1E4yoS4G+xRvP7RCu/6Pd4Gs2cywwzBO\n",
       "Tolr2HtiGfE3UimHw4S/4xR9z73AKEekcb33kUlFjpney7GRvZgIPcavmRJ8owoilt3OUmCtOflm\n",
       "vJ4c277Ul98AqkjJ57qKFY+jjvpGovBgOjaqcdA9d7u6Kp+hL3pnP9swHsMNdj0wJGqE9xUGlRau\n",
       "Lsoi9/gu/REg0WLi0oQWdRIBZV0NtmHNo5Ex5p4yhmhg3VO1kycorZtrMuRAUghNT1cLTLiNczMb\n",
       "xHpPi0iUAE9HQ+zper6x3o3H/pH8Lcrt6QFgZ372c3w3YJpFoICDsDAwgFyUlRJGbXh+BlFYYdVC\n",
       "nnXVY8smIY4xj/FxquCzRAheRrjwoQ8AAAMmQZrKSahBbJlMCCH//qpVABgvjoIV7f+iMSyrEZn/\n",
       "OVvrrDBiIXbBckNvfgUnPzEf2z87OwHEd+989w+PbdE3uxbSgxxw+GD6C92g8qojZLCvaWQGoirG\n",
       "GMb2hfzjgxlmj7uJnXnLowf9y6ZIwDXfeDMeUIimJ+GlWOvgRzbwAfl/3tLXtuFJZTqmg+x57gng\n",
       "fKdx4RED5L7rCHIdN1qPw2ddCiSLtQZBag1wcvMhekho4jmzGSbIha4l7B3/jx72oixBiUiTGUHu\n",
       "C6uZRYM3GBpB/BKQfgJVprWVgiLdwPtQEdEnrgc9PI72GuOkaS+0H70juDEGCm6gokUFsgmSfcGZ\n",
       "H5Ui/Xk3XBC5bXi4vVQfTwRyfaGk4ETlN7uLArF76ZWTLqsEaN+3D7NLi9VBi9uC0mnv5U+On3gJ\n",
       "oC8uidsPWh5ZZ+IPvrOpWlQXeTMvzWXcz4t2QB/Af2Jbs8jmwn7gjbz6BR3gTxUe9PAGArN8S305\n",
       "vdLdmJowU1jTqTiJ97HqF6jCCa1kLhcBdU2HADU0XK5Hbz6XhgIVEy5q/H7x43qAm/zm27NUaDwi\n",
       "KW9xRdEbA/T4yKEeYUi8JSh9mro41Zo2sCYyOkENFFn4MDD5XeeTSjlZ4yQAF99KE0wzmRpRx5tM\n",
       "wZ6/xzB7RVFItapgl9n9+rIOuXKXu23bVVU2zI8cQXFy++pywRJj2VwmM5iLuPwqFWABYfp/vC0c\n",
       "N01JHMiKQAgN8ZdgR2fBN6KWfbCVSbTYyRrCY7uf5aPZiQ5d7FpD2AqTi8WTDQSZuoEmCvuk34Fh\n",
       "2n0O/ByunINamIQZhe98fdnZ6v7p2fqPaiQt2d+XulJpcrbsd9qRBKMu/Xv1nQPe3Tylb82GXNx+\n",
       "5AjFesEogkVDaXVQZ/wBNDHpgDFG56xgJz+2/teskiwG0mkObxgSSOj6FBZSLaEkwwumPLClM5VL\n",
       "zslXWq9UDsxc8QeEGCI+2uzzz70BXYjSVgJkneHvQjc5iL5+S4pgth1RFj3B6B7xEb5Hy3tgJkob\n",
       "0yBCekTF15vrmsNB97VybOob7JJHx8lvKuxs3M6JTIoRRqgAAAOLQZ7oRRUsN/8BJ/GwKlsw2JVq\n",
       "uixieGlPogBUALtuhgbgWyIAW6ibk4eGFqb5U+XneRN+54ksK9Tw1SQgHhXkBfY8X0I+RpER9WIx\n",
       "z1l/QOUzUn5GVxVqsPsSg25tWrn4x2tWMoEn1HXM/BLgLTaObRNWscGxROccgSiHrCk5d5a2qT4h\n",
       "ipXACV5WbPWnDJSykgfl9z/YrVvhIouuRpYkdAeRnTqYXBTxdIo8JdydU+Wu/ENj1Usk9+XGIooN\n",
       "PnfmsGfrDfnQdUFSLEIxOLBPMQ75/wUaMMwR2BB0isOHQlKB+6cgDg1KIZ7ttfizRvCPECGzNXva\n",
       "vwhJ4+1YA2AIg8V6dV1Tx2lGIj2Vw2NbeuL1T4jyyVQHr+QHX46jZKcaTG5qSBnxepALcGxG2gYD\n",
       "bzs2qnh0Zk1d/8TYJHBXKKGL88mtIQqe/wkDAIm/OAaAM9KF/uan1RbCtBqWY1Dgjphpj5Wog8H0\n",
       "6WD9YFkbJHkjm2dO2wIo42AhyRHlCnzwjJZDjK/gy+py/4LX9tRvi6YwxT+dZDaa8M4rXsAjK8Ne\n",
       "IXFslPH4hGsBnyHTQhF9udzRNR5bv2LqlTGl89GLtnKdoky3Pw+2uxGAFoaNNg2Bxw57qcxe05zl\n",
       "ntaCpX19ik8IBSJ4wpn1SiRX/cEIxVOTTlpMmhxtOg196/px1o+NsZltm6+FTkALWLjzk45SEYyf\n",
       "mP86jNKsM8ZCusIgg2cd0QqixIBwH/DQSCuZfkTUdXcAjDRX3dQdCU86aRIaovkHfX58h3xRROvz\n",
       "5/4OGxgzIVpaiw8N01TwkTHUMxHz+uWs4tMGcJ9EzNuwKi3ZFWiP/ozdwprF4ADoyXd5x/DgUHmk\n",
       "2B+jzVnkTCAQyeANcvrxkb5taHSGP5ZSoUuT3rInip/CagNawxxA+QcwjWy91FefCDaCiVa+MvYW\n",
       "EyVBQqUmP54QpP6Bok3UyJxAJpt08OhvyvZljWrDdPpVPb0AdOni0elNzT02lZWIJtC9LsiKs6ti\n",
       "sH7YlB66+XJasNsD0NRss6GdvFFrLl5J5mkexeMvL9X4dGOs+spoKku96XKRV5HeP0/BC6jbDQ78\n",
       "6AqhSDhGTh50Ew5RdM2Dysvlf1j/zYz2OMlSpihdEIkd55MkArh/vWy/HqVxLInrAvtD/4IxLl3f\n",
       "uD0+H75Sehh6nXowK9+oBXmcosXNNHrneImx9h1NnTeRNwAAAzsBnwlqQ38APMUHxHgQ6S/IGhRw\n",
       "a58USAEqqZACJbfuDcXI9yECS4jKAKuTy956CTTKyk5iOxs0bZ4vqoVDOZQBdinPn7lIPTs2YBmW\n",
       "VtWa8sCgjMTbkVzDA0cN12dbdnoED+SgJ/f4CWXMLK+ttuszHIv8PU5WwbXbMsSUs7xvEXKdfWtD\n",
       "kkli1/9+nFbjkgRr/6lm4DC1qeeg3vPNR9wGf2QtBlZrC9kSiDtWM3Wu1bsgfnc6QdJymSbKWWI0\n",
       "w81ALFCx+1opaihxI7NAF/XEvvQXIEXoHoVku9hZJ7FyexDipoI3vpjfvQsAl62OUVVO6XdF5dHR\n",
       "VNe9izoR+GZHqpCYftiwCPy2k2ShQqnTzXtBUqV88mI80QBq/MyrXUaY+4Q313bqnfJ9s8eaTg09\n",
       "zcEdxIAuaMia97n4pacZmeLS5siSoRplnhO95zMDlAiaLUsLbTM2BGiRVpEHfUfgsNzUlETP68/d\n",
       "87wusLOHFlKMFN4ss/WFTmLrGYNGv6j2a0ewivjz30eUuKN5xsRdPxbwhcZXZOUqNcgBgSBHwW5E\n",
       "zz2GProfpEIBFG+liGjPmzkXjCYPcQuYasTlkpILSacYmtBOg0wtWM/mnYgXQiTKycawiZxK522G\n",
       "WpfWU88mENhk2UpkCSMvv7/Z05cMnEC+/eeUMvXkbCQDCKPn2kaD0dRFskJ33IiOfXVBiHSkP/1O\n",
       "qclq33hP15ikyyWjPZ7ho/XKKDbVUqWj97+8HwVofHJ373dHInEHnxUGeGZV/jR/QPFEG6/j6WNB\n",
       "qeZZpCkgpDjEXf3LSDr8EIhe7IloADJgPuJQMUyBxJ9TrTfCZEmXvE2JLm330nPM/wSRoX5X1iZO\n",
       "sgtNKaupQL5IGsoEJwx7QCtVWzByDnxMc+XE7RR+DgKA2lE0dp51fMLjYMcogukNdd+ukDsImnFv\n",
       "ZBOhVBWon1Kzm66lMNL8bMAOtOFovPR7om5GuccQaElteQ8SywiKn6uFChByj6f91xqe+hwEzZIW\n",
       "gy1F2oeIIIE2q1VozRfbQeYbOqDqePvQOQXV9Te5J7J3CrMOUPtxTPnO2tYvZv3kDXkxK1WDVwsK\n",
       "2gGTSon5lSrV1QAABEpBmw1JqEFsmUwIIf/+qlUAMvfT/4rjHFABzl88g9pKjsu7H+pK5zq8/czo\n",
       "PDKL6BN8+l1xjmzjs73tbA0YvRZr9TdS91vyDvjndO84acidKPEgcT7f8gVTrwQ1rj4DGgymG0zh\n",
       "BP/xBX3sX0RN/kbHwIoByZwSVB1lDBavdddOVHxaxM7S0gff7dO1FeZ6Q8jDD8X620BwEQ1x4Pmi\n",
       "Ojer8Uk/hnOM/zqnVCfPyppVxriHswhgTG5aVxqmTsr2k1Zn1FnYvFdm8VudttPuTqUbYHSWnEiJ\n",
       "8E4GAmdRX3XFrRQpBAg3PAZ5OISYN6blgBF+o3Z1enXpk/lTm2lhswBN9RPE4pifGsxbnwgxLfEg\n",
       "u5eKUMiE1Oq1lMxNP7UFjg2olf2gUBrupT+R3/iA0k1xdGSHdNruf4uO4voRPTHE4D9LJFKq2fMA\n",
       "TvEJfUvGDq+scH8Ou8qO2oLmbKtLVE21xMd6fDWOohI6f5VnijVj51BCz+W4bgQwattcjNQYjLD8\n",
       "+twmzYdvfCOV8Mu1ThHAnxBXE37WP+I+9F36vmeuQL+gsrNVH9upddenotU2pjxkqcIdTHfWzjRc\n",
       "d43MGRfqLcASTEUN9FlNeFd3h4ElKpA2RsDjxc6ViZAlt0BU7GBDHy0gOHtSABXuC5VBNVbECRVY\n",
       "WN7lSmZWD3ZEjE3gHtcA9P5K2dPz2g3jg8JkuWY11wvF64T9XHQ8QTHLmrGl4GonQ1c7AZOKlA80\n",
       "wONXwue0ykwuSu9uKIRXtxU0twAkdVLE29m5ehPwZC3VDNePBU5nM7Gwe3Yl/39E6GQymMB4POdZ\n",
       "5ZhDPCvDF873Z6vgejJFw1m+UPPqaUTmXlQnbtr2t0q7I1kWlcoKtwsdyH+IGVhUtexxYuY3o4M2\n",
       "wjubi09Otizd+6CqTGrgwRgkT5kSf4jAwnSVYQPMUsN3koABdSPcw2y7sCRvuAOKvAvz07xB5doK\n",
       "0vLKftdPVSLyKq+UApAlwLjTExYZqW7uHaKCPG89g5CjA9PSTztMsAprum7YQLDOD6s1fXsrFor/\n",
       "993xko1hBjEQ3LJpjhto3lrXpKaJnTHZzgnhPDRTfs0vClRqO7Ll0en4yJuRrIRhIr92FsCuDBk4\n",
       "AGj1SCir2V/e/Ap8nmw/PsyI9u+LJtOjijUPuWD0CU008S557wbR72PhbXTHr5aSKDhex+RlcR8R\n",
       "nn8eBhlcPpdi8PJiN0WVLSxo/TytDaapiagKSxoy884avnE7KHDqGcfF+eKR4+0JWCFG3gzhhJfl\n",
       "ZXEodwJvmU8dkUUpuIbel0VloW5m1xi7m+M2ewVa5n9ktBCvwjowuS2twey4zdDP+49jcM8NTvTZ\n",
       "GJdfSECpH5xmk5ktFLzSAPMtL2cK12FZ96J7DmjWMIFOz4u1g+BydwAaoTzDMRKO4Fg6XID/geLi\n",
       "J2TdOtZjoJ8yOkZMB1nFf9t9srye+iN/iG5btYAAAAOPQZ8rRRUsN/8BJ/GwKluetXKB7PoALfCX\n",
       "I/zp10zY7+YpU0ntNfO8r6W1jYauLEX1bcI/tqo62G6fG8rhkSyBzVuNhh7eNE2xy3QAM8uEhReP\n",
       "/uPwDyFvgcE0tnEYpy2//mdViGL2vgcsWy3bVyNcXDEymj52tqPhEE55LMiGmcoWKtESfdhGQySN\n",
       "S8aZA04XzCAvkP47zi8/iGdLlMbrlz4WvVfJy9RzRCBK799hChPf84xt7k8qlLZ+sHPXwgYF1twN\n",
       "J3HAwh7ltWhcx9KKuPAf42mtGD6K8W9AsXAEazQj6rGRXcPapiTDhABSmQLgoE/Qm+VqwxCwE6FP\n",
       "fsIiyf0ctBvO7iNcAeEGsKqyJfKNY8vKgBlLotpsJl71aCb3tYbJ/makGFzS6XS+vdJ2mMywX0iR\n",
       "b65tmTVY90S4pmLUKEtWfFC6xiZ5g4d5pkfqK9T3GHkbbvag84nlvJVXsalAo47XjS8De6lSmfFQ\n",
       "90Vr2jS38LrWZVCAPZPIbVGJH5A2AV0B0EAj5h+EDsu5lMKytBN0WMkY3Euhuw1+VnWW32KSAiAM\n",
       "TDPq6Ut5fsIPEGjYjiS1ALu+2O94cvLaIfRkLZ2qUSQ2NXVd2iQuVc1q2M9vgXay+1pRrQyTVDmB\n",
       "G7ELvD4iImW6ZAa8l2NzLJXnOpAceeLXf9ErT/01QcTSbmhBo4guwo2dqdG0bgsylsZr/Txz6l6i\n",
       "p8jj3se1hMEo0WFArEhlDwi02ln/2ENqPC8ZOI8H1CBDD5Nzu5dfTbTrUKJZ7E2IETog8cDbp1G0\n",
       "ImYW7WQQeAaUsNZ4Kb7F/zFAkMdxQgI61CR8RR1A6FJFYZ/MXIOWoZ69kiErSJlvrGHa4jjubW7d\n",
       "fuuIDt0SRZiFRSyeceaceymgCJkS5zgAThvZGaMeOwNy+3oLwHsipEz1P3+4Tq4u0E/zbwZv5IKj\n",
       "Wa0SvHvMIeH8WrLxoHIyTMjG2USf8YVzhVMMBqtQaoZxxUEBxx/07QnB6yq4/5LB7GJB7kD+lCeP\n",
       "ZdQNKzC+KFMt0HUFjbkJvOurCquuBGMeT0gn1KsMB4Heu1Z36YAmTKrH4LfGwJ5On6uGJ1NbnfVv\n",
       "Nw0AI0bQwNdT/bg54/AHQCD/ae+EGma18l6G4izKGFtfZB+GdyKxBH2xPX8sYOm8qbRF6vJi4CRo\n",
       "F4rnpCKAYitwCabdofvVCDyRTNdolKVA3f8ZW6fiK7gAAAMfAZ9MakN/AINXlyuuAsiXWAC9QaFY\n",
       "m7kf/62tI/Gq9ONJe+aZGj8ADfGnS//xcwKdqgmzHw+LyWgnzysPyf9b+Eyn1h13+uVsV0V0+G2y\n",
       "3/thFbt7TcoMlaDjYC8Z/qLABsPtFy+OLS5xcvOPubqTvEqxRTpp3MEq2NR7NG9O8YqKqXpNYNaW\n",
       "ZSgcTU9ZyM/xbplOTnyg/nFm+OF/0stJf0WF+v2Kif8wtDvsLeo5hD6PeGB2+ORyQZiS2U5UOFAC\n",
       "PbFVWcJs3U5v4QW2i8+D03YpTp6J5o6Wqi8NgIJFmtRwf/GDMr8PLW23Gaxs2Knm/bgL1CgAws5h\n",
       "6FG4Q+yr4xs8ipmnBMqwrxUVIoCeY3oX1TCe5R3I/bzsHvsOeUi7LOIINVFGu2ZXb/M1bPa2iUkq\n",
       "Qk0H/2i6TSNA1+BsbZZe6j+vERSDq5qmRdcxCwvO3og7cICOhAyQ4pDxCaZ1vUhhXOr6AvPnTeQB\n",
       "Zt9tBm/cU6YokGrl2irK80wShOyLd4SHY3zughNuOfzB4cX3O0QOWWzeLFlnHArd12zOyhvK3pdq\n",
       "/PKrelu/xD8y59PZGCqdii8lKwvfU1KRaEvYIdgtpc8KgUxZhuQB9wULMdiRl51Pmnxe9/ne9Qdh\n",
       "pKz7Ur7mPSN3zXDYJ0rjMvYJD2N97x8EpBasu5iL17wRUsezBTrV5Mwhxaxq4KXzayhFqebSnZDu\n",
       "CuNI+3mbexDd/gQWYTR+O6CKlp8uGP6wnHFjehup870Rav9qq47+dQbZziY51dccwfUZoBAWQcp9\n",
       "MUnrlt7j+SGf04lBI/MHL7l00qCyYlOV++IBpgupWTsps6gcKiDEVy0qQuGZLXGn6WswihrijNXE\n",
       "AZcDODQBwI/JnhZgabto47aJHArZDPsxiT4dAooIFfH0k8QrPdQM0KAIp5J3vFsdDTOYQo0/WXXk\n",
       "2nxV4lP1LH1+mzNMS6e0Hde1xVt7gmw8sXfL161hFo9ACJklnz1q5ciPUd5d0NyBPKXpPF3MU5sk\n",
       "mjhagEmgfS7q+zHoR1/WwM3M5WUdX7HmxiP1ko/H8UH5280EFQAAA/BBm1FJqEFsmUwIb//+p4QB\n",
       "gZgQp4AA3z+AFtFsibpATK3Pn8jSX/pX/kS67p+5r6NDUw2uOOoL8gPf/MkWqKp2KOmd5QZDH/Ru\n",
       "bsoI/DeMoAkDjkom9D3Do7BkSTsCOibuihTck1WgVD/P+CCxesuNgL9v5FBEwLPgKFyE8zuL54Ac\n",
       "LwJOEjEvx3AthhemtZk8JwW4zJrg0k3Z9TD6RuU+72A7Hyonnt79F1qU38jmTZZ72NUnvTar++Y/\n",
       "YjWFr4ecVDhuw33D2aS4iJnfX4iwqqSSiVNtgVuMEU5OQYpXOZOxDn8df+R43wZe/cUa9DKiq23t\n",
       "SFPB9eoAhgv0WbYf+EJykXYMWTDtUvfS1eUBEOc9dBQiPe24EP8LjpD/Ep1AfNp4y3YKv4TUYewL\n",
       "aQ5no+mRHL0FtyKERIupvcGh6HotH/StHKtnlhY34/FmzL58yBhLCb9AesviLo3jqsVs2DWeYsYE\n",
       "LK75SJ9XAH9myevslvop0N0fuyBnAW6xnRrIyAevES4RR8T/RPkVmJFUG7ZO5xEG25f7XrAQfHKO\n",
       "1EdPBGeF4s8xcFZ9nxntzF9JPTp7qj/SVOiRJD8FtYlhrNsAMHM7VztWxTaVVN7yhYsRn9CQtwSg\n",
       "V/Y1M6653HDR63+Acd9gIfIJOSZJ1+1/wOTODOWS5Cy2Y13+4tktZCt8gtDUloET7zM99HikZ0kU\n",
       "D7rOaQb7WNJMLb0WsBziGAUBMs5rPqV0I92GhigE2p1fkJwyvuHmSZQhDfKROD4VbKWsTx0/c8uP\n",
       "+80Op+oAc3wIM6eUzPpMahgnxaaFC2VtsV3+Dlo+XU7h1XWz/ETvhdeFj61SdJixSzdUpRLNkksR\n",
       "DO2mNGz4jQo5AaRRolSa6tySavnnSgF5hlbXSl7S3shynpU5w4PB66Wbzwt9UcnkUjFoKcknHz+f\n",
       "Q3sE/1nCii55SmrAtGrCOpblD39jnx9h5/UbsUmbOgKVTkAjsd326R9NEeKpXE0ros2dMsxsyf1X\n",
       "Nwtb8NNlLXmVz4g9AfqavLpn7L/m2lslmkII9o8a5by/KH6tx8kOQ8O1s4A+jE1YxRAiC7pwody0\n",
       "K7IJtCj2bkJxupHC1KRkgJT9iXG78ltvLjC0HM+HBddRp6Hq7MoqlT6xYlwxupvG5X0HoEDW3lea\n",
       "8ujiSWcndoRSMY6GM1T0XGvc1oivGuAx6ulNJT8WptoFzAvRp/rhyses4dj4/5R+td/KUsHPOqyH\n",
       "HTn/ZWxLARX5EUpoRJhn5o9OUB5dbwIKwT8oi6c6K8Uf26p34BPF1wIR7soQh7JwSR6r+Z4Fgga+\n",
       "rV9qsgDbT5nALknCOWK8LlY/kBAMFHcAAAN7QZ9vRRUsO/8Az6P2lWkBhJeHOj6DsQAZHv/kKZ7a\n",
       "6EymXxk5RXKp8vBmSorpDbOq/AwaNWtVRaHbX+EeqkdkliKqNHYo4Ej/Rb5AZyOs8Xo53VT68SEa\n",
       "wJOiAn1uWiCZ5h8sn6xsQMcA1g+bLo1xXXbSDV0DbPQwagAwD0krnxq1u2Y+ofcmsvp//PQEi3o3\n",
       "dtDYBu5rvpUnwaSct9r2r6xUP2vAazfke17yzcr7+2J8cHE7hvJBbd2au1DLTlYuLC8vDF0UwBlI\n",
       "qMxIs6QA/t5ypg+saORZ0OLFCdnDNmojJqk9MrwnDP/Ty2XqAm9ZVqblBxE+JrBBS+Fh+iGFtgk6\n",
       "c2r+gn6o2L75HpoP5Pk2QSs2Q0mS/mc1q9NUywayPcgXWIjPYBzoDo3LWaeQi/itE9A3t7owUYYj\n",
       "X35xjeojD1DuQqazqxJrGoETM69xzODQdv4+QWQPaIt9x9C9w/lkdfsw4qQ42ge/se+IB53Et7+2\n",
       "C1wkRU16BS8yR9bpUeetVzSJPlshbHR+XIJR0tAlxfQ5MBVDDYn8OVTQE8VaUd+YUeRZh+8f/Tee\n",
       "F7MVXtIWX/BqaxxH5gDqnNMwv5jgM2l6sQke678jiC4ui43o16u+iIO180uDlYMhweK2kMb/8d0Q\n",
       "c0yi5GhP//ywuJBEnnC4pr7CTHKzyvJM+tIt67mQvjELfLcaXGIFflt2CqCDIvU86a6yY/elwSIj\n",
       "kpxrvVnOnx+duJcVQeGjAR5jizotsfRfmFshLRK7DsbkOxwuBsgSEkFYe1dFbYMFNVqRQPMRLkZZ\n",
       "8ErwRAia2OOGAF3tAZxFxN25eDIwC4FqmKe7akkcppQGcoW0BbH1fCJdkjzFznz+eSeitbYr37c/\n",
       "tJTPJdAEAJsueDgLrtXMLmRqu0oTCLq1Co8SlzYZ061jlczEQqepOX4Q1UMtfYSlCrSmN3pjp2fP\n",
       "g+kJKtsVy0XDzDGYtxIdKlW2RistZAKZJqSPHvUSF5+1sS/31uJgYff5XLB+iL4cNu0h0n06WSNn\n",
       "2Tk2+1u4geTbLiYs8LtTeCG36MbJqfG9e4BhG+UtEg0dEUopJKJQcowXkXr0QZ0uXlSDaO09sR6r\n",
       "UXoJ1XCQO4Apb2gUUDRsZnSuS5yFuGlPkGXe17p691AUwjcvn7tzmyAa/egLHDWNZHx062sVJJv5\n",
       "hwPXe3QRAAADOwGfjnRDfwCLAhaDadkJtuvAAdmi2joHAy7SVUeWwM9z5JrVwHVmKLQySHimer6M\n",
       "5ULAwnFHmvdNhJ23K/+JR/o6Hn1gDCq8BblDCcDfM85jQfdZH/nPsEjJSg6c3cCWbLowuyoiasHy\n",
       "iB9WI9lqEX4K2U+vGxdVTmcAQSs44R7P6Q0sOTK5sa2D0zsliiqP5ypZclZX9zhI96X5hqy+z1o4\n",
       "I1N8ozv5JpKyIQpDokC30NAi1/mtNcA5bYAJRSD/tzA6KRkg6eHbhwz4GziVGUoMLwdeioYbLz73\n",
       "WAuYd1rFS45eU4ej1j1mGhS6HowPsh2ks2+OHkgwdg4QmYV5apLhKN+SUF10hB6iyiMwV3QZb1uV\n",
       "4VtUfgUZ+w0UWvPImfL5CKMhmMvIlD6NAXGZQRV3ZgPDgmjZxD/pwWPIMKxKEPEufPVYJ8H+GyXy\n",
       "YqsGyjKEpX7S/i+cPzXwMwVfsTV42eR42qt4f/I+gF1lKleRO/M13HfRGqQwpSPoCAnc1p7zPPhp\n",
       "8E0hxb9odn7qAonl8KM1PsgyPJHiBXZMR5Gi7u9kTTlmFmdEuaTO41JmWu2b39LWaVEzznNPwyFz\n",
       "m4dbhcz6FB6i1yeuhkRPnwqXwgcS292M9j/T9DbkcjL2g/S/oO2pvOKYsdUhum7tcrjYVqJkC9R5\n",
       "panCLZU6pUxkbsL7IiYcqVct6OKSEsGFcfQCY01wKbfEW1e1YXpkZwH9dNfFrPQRHAlMc5xbz6ES\n",
       "2nJTd9Y3fxozNP6kKY6YJ2F9UOv7vg0lWgGcO0ukUgqnZkBru52KZwqBuweqhRqWzMc06/XhDw6p\n",
       "Y5SBL3Um6667Z91+G5ide7MdSWTz6CQoJdfGcjiFrpb40Oq5NYeYi5QrZLIGhhnZ+EOV7Em4BLyT\n",
       "mljMTBasR3Oc6nmWBx4vBaE/1vMCIk2dA5rDcr5WM7/oQhoTpFSU8W4/GuX9IrsqEEmSEeQ/qBaX\n",
       "eS7QYTpM0yAJJikpGhBrroSdTa+HnC0WJ/U7QKXaon+oEgFMMuHGtIwYBysXGWFk0kFZ6zidYRtQ\n",
       "BY1DiMvVB+2eEKt3agFuIww1tUXRqC9FID9BJkQJ7Jryl/9z9ufQAAADJgGfkGpDfwCLC85bhfxV\n",
       "NwNQAXCiTPr3gQbZeHFYr5u2YiD1VVnakUcfLGllNe8Ywv1tJC5s1o29/0l3JM2HoDK3vgvPrA+V\n",
       "5LvOVtOhyb9jXXinc1URY8GZB0SoXVWxxyPrxDQHTpmyZtCK9A2pJ1v3IqGhXzr9n4zeO8278fm6\n",
       "5MXuIToW6B2Vp6flj0ollLX5TD0fqg4xsFiQyx7iLDY44JWEc1yhXVHMGKFG7Tiwei9tXolk5Ojq\n",
       "6gOBqrZaokrT5cFwC3nZzu16riOJ0w3d2NKyh/Fa1BMYbLHa5WJ9lV5gUCsFXFVIhPEDdUvTwU+O\n",
       "mhen2DdCux9HS9Nrk+jbMBwfQjwwJHXA5h8gwCl7TJs9aEW9HVE0zEaCrNd8usv0LJICXy8ldY0+\n",
       "iVMvjJjgkeDqLV5PxTxDLAX4goIaByG02G7S8m9Ee0g7rmT4ADX3b08yrfBwNVwMX6asmTOsWWow\n",
       "4ByBWKv/ciwDHtNoyUswCFocXc+899qN0Roznd4kZd0KD0pRZCjKXoDQOWGfU4wqyj4Ofe4IncwV\n",
       "t+Hj1MXXrEU5iKnpUJlW4w7Qc9Atun0Y0LOQnVP7lsyaciqpyyswiPOQWfpeCENNrkJcVlB2Wmh0\n",
       "XKrpofoI7UkSkoe/vgPLJA1G2Mr24X/m8jrm3woQksnyBBdRtGqtugRBdd5AP9xAhAUlWlDTncdz\n",
       "a6N3v8LRX+HbCIir/c/CQ0lnY2mJ93uNiuleyU8u8L5BdPqrBlW1nD47oYQltIu54hu+c/E5GEDl\n",
       "2hNywNEfRcTrs0TxrQB82qTuwN7eFOiYIwXSV2hALIWt84LcgNNr5O5OT8pbFAX1gywjyD7ikP3e\n",
       "CkGW7wKxjL2klZg+WbZIHRPro+JLR2dvIh3zGffFBE5t9mb6DKsUylldgjJQD1anwEOH5obcp5YA\n",
       "elDwiGIhN9AZb6ooBY7NBeGQtiOMaVlARXo33WgOTidqHz5zxN/wFKmZzAkQbgtbr9IDZsj/LtOI\n",
       "IUA994t5HRC7vElGolneUK4ek3te4TqXG4fFE9NsREJGoQ4PwlPLOZLWgj4ow7yTptxQAAAFam1v\n",
       "b3YAAABsbXZoZAAAAAAAAAAAAAAAAAAAA+gAABOIAAEAAAEAAAAAAAAAAAAAAAABAAAAAAAAAAAA\n",
       "AAAAAAAAAQAAAAAAAAAAAAAAAAAAQAAAAAAAAAAAAAAAAAAAAAAAAAAAAAAAAAAAAAAAAAIAAASU\n",
       "dHJhawAAAFx0a2hkAAAAAwAAAAAAAAAAAAAAAQAAAAAAABOIAAAAAAAAAAAAAAAAAAAAAAABAAAA\n",
       "AAAAAAAAAAAAAAAAAQAAAAAAAAAAAAAAAAAAQAAAAAGwAAABIAAAAAAAJGVkdHMAAAAcZWxzdAAA\n",
       "AAAAAAABAAATiAAACAAAAQAAAAAEDG1kaWEAAAAgbWRoZAAAAAAAAAAAAAAAAAAAKAAAAMgAVcQA\n",
       "AAAAAC1oZGxyAAAAAAAAAAB2aWRlAAAAAAAAAAAAAAAAVmlkZW9IYW5kbGVyAAAAA7dtaW5mAAAA\n",
       "FHZtaGQAAAABAAAAAAAAAAAAAAAkZGluZgAAABxkcmVmAAAAAAAAAAEAAAAMdXJsIAAAAAEAAAN3\n",
       "c3RibAAAALdzdHNkAAAAAAAAAAEAAACnYXZjMQAAAAAAAAABAAAAAAAAAAAAAAAAAAAAAAGwASAA\n",
       "SAAAAEgAAAAAAAAAAQAAAAAAAAAAAAAAAAAAAAAAAAAAAAAAAAAAAAAAAAAAABj//wAAADVhdmND\n",
       "AWQAFf/hABhnZAAVrNlBsJaEAAADAAQAAAMAUDxYtlgBAAZo6+PLIsD9+PgAAAAAHHV1aWRraEDy\n",
       "XyRPxbo5pRvPAyPzAAAAAAAAABhzdHRzAAAAAAAAAAEAAAAyAAAEAAAAABRzdHNzAAAAAAAAAAEA\n",
       "AAABAAABgGN0dHMAAAAAAAAALgAAAAEAAAgAAAAAAQAAFAAAAAABAAAIAAAAAAEAAAAAAAAAAQAA\n",
       "BAAAAAABAAAUAAAAAAEAAAgAAAAAAQAAAAAAAAABAAAEAAAAAAEAABQAAAAAAQAACAAAAAABAAAA\n",
       "AAAAAAEAAAQAAAAAAQAAEAAAAAACAAAEAAAAAAEAABQAAAAAAQAACAAAAAABAAAAAAAAAAEAAAQA\n",
       "AAAAAQAAFAAAAAABAAAIAAAAAAEAAAAAAAAAAQAABAAAAAABAAAQAAAAAAIAAAQAAAAAAQAADAAA\n",
       "AAABAAAEAAAAAAEAAAwAAAAAAQAABAAAAAABAAAIAAAAAAEAABQAAAAAAQAACAAAAAABAAAAAAAA\n",
       "AAEAAAQAAAAAAQAAFAAAAAABAAAIAAAAAAEAAAAAAAAAAQAABAAAAAABAAAQAAAAAAIAAAQAAAAA\n",
       "AQAAEAAAAAACAAAEAAAAAAEAABQAAAAAAQAACAAAAAABAAAAAAAAAAEAAAQAAAAAHHN0c2MAAAAA\n",
       "AAAAAQAAAAEAAAAyAAAAAQAAANxzdHN6AAAAAAAAAAAAAAAyAAAH8QAABNUAAAQyAAAChwAAAroA\n",
       "AAP6AAADqAAAArMAAALdAAADewAAA5MAAAN+AAADFQAABEQAAAL9AAADJgAABJgAAAOuAAADjQAA\n",
       "A5sAAASQAAADOwAAAygAAANWAAAEOAAAA9YAAANFAAAEdwAAAxgAAAQBAAADWQAAA8QAAARZAAAD\n",
       "XgAAAvQAAALoAAAEFwAAA8MAAAMGAAADPgAAAyoAAAOPAAADPwAABE4AAAOTAAADIwAAA/QAAAN/\n",
       "AAADPwAAAyoAAAAUc3RjbwAAAAAAAAABAAAAMAAAAGJ1ZHRhAAAAWm1ldGEAAAAAAAAAIWhkbHIA\n",
       "AAAAAAAAAG1kaXJhcHBsAAAAAAAAAAAAAAAALWlsc3QAAAAlqXRvbwAAAB1kYXRhAAAAAQAAAABM\n",
       "YXZmNTguNDUuMTAw\n",
       "\">\n",
       "  Your browser does not support the video tag.\n",
       "</video>"
      ],
      "text/plain": [
       "<IPython.core.display.HTML object>"
      ]
     },
     "execution_count": 33,
     "metadata": {},
     "output_type": "execute_result"
    }
   ],
   "source": [
    "def animate(i):\n",
    "    im.set_data(canvases[i].squeeze(0))\n",
    "    return (im,)\n",
    "\n",
    "anim = animation.FuncAnimation(fig, animate, frames=no_frames, interval=100)\n",
    "im = ax.imshow(canvases[0].squeeze(0), cmap='gray', interpolation='none')\n",
    "HTML(anim.to_html5_video())"
   ]
  },
  {
   "cell_type": "code",
   "execution_count": 34,
   "metadata": {},
   "outputs": [],
   "source": [
    "anim.save('./real_anim.gif', writer='imagemagick', fps=10)"
   ]
  },
  {
   "cell_type": "markdown",
   "metadata": {},
   "source": [
    "#### \n",
    "#### Generate a dataset of 100,000 animations, each with 4 frames:"
   ]
  },
  {
   "cell_type": "code",
   "execution_count": 36,
   "metadata": {
    "scrolled": true,
    "tags": []
   },
   "outputs": [
    {
     "name": "stdout",
     "output_type": "stream",
     "text": [
      "0\n",
      "500\n",
      "1000\n",
      "1500\n",
      "2000\n",
      "2500\n",
      "3000\n",
      "3500\n",
      "4000\n",
      "4500\n",
      "5000\n",
      "5500\n",
      "6000\n",
      "6500\n",
      "7000\n",
      "7500\n",
      "8000\n",
      "8500\n",
      "9000\n",
      "9500\n",
      "10000\n",
      "10500\n",
      "11000\n",
      "11500\n",
      "12000\n",
      "12500\n",
      "13000\n",
      "13500\n",
      "14000\n",
      "14500\n",
      "15000\n",
      "15500\n",
      "16000\n",
      "16500\n",
      "17000\n",
      "17500\n",
      "18000\n",
      "18500\n",
      "19000\n",
      "19500\n",
      "20000\n",
      "20500\n",
      "21000\n",
      "21500\n",
      "22000\n",
      "22500\n",
      "23000\n",
      "23500\n",
      "24000\n",
      "24500\n",
      "25000\n",
      "25500\n",
      "26000\n",
      "26500\n",
      "27000\n",
      "27500\n",
      "28000\n",
      "28500\n",
      "29000\n",
      "29500\n",
      "30000\n",
      "30500\n",
      "31000\n",
      "31500\n",
      "32000\n",
      "32500\n",
      "33000\n",
      "33500\n",
      "34000\n",
      "34500\n",
      "35000\n",
      "35500\n",
      "36000\n",
      "36500\n",
      "37000\n",
      "37500\n",
      "38000\n",
      "38500\n",
      "39000\n",
      "39500\n",
      "40000\n",
      "40500\n",
      "41000\n",
      "41500\n",
      "42000\n",
      "42500\n",
      "43000\n",
      "43500\n",
      "44000\n",
      "44500\n",
      "45000\n",
      "45500\n",
      "46000\n",
      "46500\n",
      "47000\n",
      "47500\n",
      "48000\n",
      "48500\n",
      "49000\n",
      "49500\n",
      "50000\n",
      "50500\n",
      "51000\n",
      "51500\n",
      "52000\n",
      "52500\n",
      "53000\n",
      "53500\n",
      "54000\n",
      "54500\n",
      "55000\n",
      "55500\n",
      "56000\n",
      "56500\n",
      "57000\n",
      "57500\n",
      "58000\n",
      "58500\n",
      "59000\n",
      "59500\n",
      "60000\n",
      "60500\n",
      "61000\n",
      "61500\n",
      "62000\n",
      "62500\n",
      "63000\n",
      "63500\n",
      "64000\n",
      "64500\n",
      "65000\n",
      "65500\n",
      "66000\n",
      "66500\n",
      "67000\n",
      "67500\n",
      "68000\n",
      "68500\n",
      "69000\n",
      "69500\n",
      "70000\n",
      "70500\n",
      "71000\n",
      "71500\n",
      "72000\n",
      "72500\n",
      "73000\n",
      "73500\n",
      "74000\n",
      "74500\n",
      "75000\n",
      "75500\n",
      "76000\n",
      "76500\n",
      "77000\n",
      "77500\n",
      "78000\n",
      "78500\n",
      "79000\n",
      "79500\n",
      "80000\n",
      "80500\n",
      "81000\n",
      "81500\n",
      "82000\n",
      "82500\n",
      "83000\n",
      "83500\n",
      "84000\n",
      "84500\n",
      "85000\n",
      "85500\n",
      "86000\n",
      "86500\n",
      "87000\n",
      "87500\n",
      "88000\n",
      "88500\n",
      "89000\n",
      "89500\n",
      "90000\n",
      "90500\n",
      "91000\n",
      "91500\n",
      "92000\n",
      "92500\n",
      "93000\n",
      "93500\n",
      "94000\n",
      "94500\n",
      "95000\n",
      "95500\n",
      "96000\n",
      "96500\n",
      "97000\n",
      "97500\n",
      "98000\n",
      "98500\n",
      "99000\n",
      "99500\n",
      "(100000, 4, 32, 32)\n"
     ]
    }
   ],
   "source": [
    "no_anims = 100000\n",
    "no_frames = 4\n",
    "shift_time = 20\n",
    "n = 3\n",
    "velocity_min = 20\n",
    "velocity_max = 30\n",
    "dat = None\n",
    "dat = np.empty((no_anims, no_frames, small_canvas_dim, small_canvas_dim))\n",
    "for i in range(no_anims):\n",
    "  positions, velocities = random_init(n, velocity_min, velocity_max)\n",
    "  positions, velocities = step(positions, velocities, shift_time)\n",
    "  for j in range(no_frames):\n",
    "    dat[i,j,:] = draw_canvas(positions)\n",
    "    positions, velocities = step(positions, velocities, 1.)\n",
    "    \n",
    "  \n",
    "  if i % 500 == 0:\n",
    "    print(i)\n",
    "\n",
    "print(dat.shape)"
   ]
  },
  {
   "cell_type": "markdown",
   "metadata": {},
   "source": [
    "#### \n",
    "#### Plot sample animations:"
   ]
  },
  {
   "cell_type": "code",
   "execution_count": 38,
   "metadata": {},
   "outputs": [
    {
     "data": {
      "image/png": "[encoded data removed]",
      "text/plain": [
       "<Figure size 432x288 with 4 Axes>"
      ]
     },
     "metadata": {},
     "output_type": "display_data"
    },
    {
     "name": "stdout",
     "output_type": "stream",
     "text": [
      "\n"
     ]
    },
    {
     "data": {
      "image/png": "[encoded data removed]",
      "text/plain": [
       "<Figure size 432x288 with 4 Axes>"
      ]
     },
     "metadata": {},
     "output_type": "display_data"
    },
    {
     "name": "stdout",
     "output_type": "stream",
     "text": [
      "\n"
     ]
    },
    {
     "data": {
      "image/png": "[encoded data removed]",
      "text/plain": [
       "<Figure size 432x288 with 4 Axes>"
      ]
     },
     "metadata": {},
     "output_type": "display_data"
    },
    {
     "name": "stdout",
     "output_type": "stream",
     "text": [
      "\n"
     ]
    }
   ],
   "source": [
    "for i in range(3):\n",
    "  ind = int(no_anims*random.random())\n",
    "  imshow_list([dat[ind][0], dat[ind][1], dat[ind][2], dat[ind][3]])\n",
    "  print('')"
   ]
  },
  {
   "cell_type": "markdown",
   "metadata": {},
   "source": [
    "######\n",
    "#### Save the dataset:"
   ]
  },
  {
   "cell_type": "code",
   "execution_count": 38,
   "metadata": {},
   "outputs": [
    {
     "name": "stdout",
     "output_type": "stream",
     "text": [
      "Saving...\n",
      "Done!\n"
     ]
    }
   ],
   "source": [
    "print('Saving...')\n",
    "np.savez_compressed('ball_collisions.npz', array1=dat)\n",
    "print('Done!')"
   ]
  },
  {
   "cell_type": "markdown",
   "metadata": {},
   "source": [
    "###\n",
    "#### Ensure the dataset loads successfully:"
   ]
  },
  {
   "cell_type": "code",
   "execution_count": 35,
   "metadata": {},
   "outputs": [
    {
     "name": "stdout",
     "output_type": "stream",
     "text": [
      "Loading...\n",
      "Done!\n",
      "(100000, 4, 32, 32)\n"
     ]
    }
   ],
   "source": [
    "print('Loading...')\n",
    "dat = None\n",
    "dat = np.load('ball_collisions.npz', allow_pickle=True)\n",
    "dat = dat['array1']\n",
    "print('Done!')\n",
    "print(dat.shape)"
   ]
  }
 ],
 "metadata": {
  "environment": {
   "kernel": "python3",
   "name": "pytorch-gpu.1-10.m86",
   "type": "gcloud",
   "uri": "gcr.io/deeplearning-platform-release/pytorch-gpu.1-10:m86"
  },
  "kernelspec": {
   "display_name": "Python 3",
   "language": "python",
   "name": "python3"
  },
  "language_info": {
   "codemirror_mode": {
    "name": "ipython",
    "version": 3
   },
   "file_extension": ".py",
   "mimetype": "text/x-python",
   "name": "python",
   "nbconvert_exporter": "python",
   "pygments_lexer": "ipython3",
   "version": "3.7.12"
  }
 },
 "nbformat": 4,
 "nbformat_minor": 4
}
