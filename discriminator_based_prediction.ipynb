{
 "cells": [
  {
   "cell_type": "code",
   "execution_count": 39,
   "metadata": {},
   "outputs": [],
   "source": [
    "import torch\n",
    "import torchvision\n",
    "import torchvision.transforms as transforms\n",
    "from torch.autograd import Variable\n",
    "from torch.utils.data import SubsetRandomSampler\n",
    "import numpy as np\n",
    "import copy\n",
    "import matplotlib.pyplot as plt\n",
    "import torch.nn as nn\n",
    "import torch.nn.functional as F\n",
    "import torch.optim as optim\n",
    "import time\n",
    "import os\n",
    "import torch.utils.data as tdata\n",
    "from PIL import Image\n",
    "import random\n",
    "import math\n",
    "from matplotlib import animation, rc\n",
    "from IPython.display import HTML"
   ]
  },
  {
   "cell_type": "code",
   "execution_count": 40,
   "metadata": {},
   "outputs": [
    {
     "name": "stdout",
     "output_type": "stream",
     "text": [
      "cuda:0\n"
     ]
    }
   ],
   "source": [
    "device = torch.device(\"cuda:0\" if torch.cuda.is_available() else \"cpu\")\n",
    "print(device)"
   ]
  },
  {
   "cell_type": "code",
   "execution_count": 41,
   "metadata": {},
   "outputs": [],
   "source": [
    "epoch_time = -1\n",
    "epoch_space = 5\n",
    "def is_epoch():\n",
    "  global epoch_time\n",
    "  curr_t = time.time()\n",
    "  if (curr_t - epoch_time) > epoch_space:\n",
    "    epoch_time = curr_t\n",
    "    return True\n",
    "  return False\n",
    "\n",
    "image_time = -1\n",
    "image_space = 5\n",
    "def is_image():\n",
    "  global image_time\n",
    "  curr_t = time.time()\n",
    "  if (curr_t - image_time) > image_space:\n",
    "    image_time = curr_t\n",
    "    return True\n",
    "  return False"
   ]
  },
  {
   "cell_type": "code",
   "execution_count": 42,
   "metadata": {},
   "outputs": [],
   "source": [
    "def imshow_list(l, scale=1.0):\n",
    "  if scale == 1.0:\n",
    "    fig = plt.figure()\n",
    "  else:\n",
    "    fig = plt.figure(figsize=(scale*7,scale*4))\n",
    "  for i, im in enumerate(l):\n",
    "    try:\n",
    "      im = im.cpu().detach().squeeze()\n",
    "    except:\n",
    "      pass\n",
    "    im = im.squeeze()\n",
    "    plt.subplot(1,len(l),i+1)\n",
    "    #plt.tight_layout()\n",
    "    plt.imshow(im, cmap='gray', interpolation='none')\n",
    "    plt.xticks([])\n",
    "    plt.yticks([])\n",
    "\n",
    "  plt.show()"
   ]
  },
  {
   "cell_type": "markdown",
   "metadata": {},
   "source": [
    "#### \n",
    "## Load and process dataset into loaders:"
   ]
  },
  {
   "cell_type": "code",
   "execution_count": 43,
   "metadata": {},
   "outputs": [
    {
     "data": {
      "text/plain": [
       "torch.Size([100000, 4, 32, 32])"
      ]
     },
     "execution_count": 43,
     "metadata": {},
     "output_type": "execute_result"
    }
   ],
   "source": [
    "arrs = None\n",
    "dat = None\n",
    "\n",
    "arrs = np.load('ball_collisions.npz')\n",
    "dat = arrs['array1']\n",
    "arrs = None\n",
    "dat = torch.from_numpy(dat)\n",
    "dat.size()"
   ]
  },
  {
   "cell_type": "code",
   "execution_count": 44,
   "metadata": {},
   "outputs": [],
   "source": [
    "class GeneticBalls(tdata.Dataset):\n",
    "  def __init__(self, dat, train):\n",
    "    self.dat = dat # I think need to convert to cuda here\n",
    "    self.train = train\n",
    "\n",
    "  def __getitem__(self, index):\n",
    "    if self.train:\n",
    "      seq = self.dat[index].to(torch.float)\n",
    "    else:\n",
    "      seq = self.dat[90000+index].to(torch.float)\n",
    "      \n",
    "    return seq\n",
    "\n",
    "  def __len__(self):\n",
    "    if self.train:\n",
    "      return 90000\n",
    "    else:\n",
    "      return 10000"
   ]
  },
  {
   "cell_type": "code",
   "execution_count": 45,
   "metadata": {},
   "outputs": [],
   "source": [
    "def make_loaders(dat):\n",
    "  train_set = GeneticBalls(dat, True)\n",
    "  test_set = GeneticBalls(dat, False)\n",
    "\n",
    "  batch_size_train = 128\n",
    "  batch_size_test = 1000\n",
    "\n",
    "  train_loader = torch.utils.data.DataLoader(\n",
    "                   dataset=train_set,\n",
    "                   batch_size=batch_size_train,\n",
    "                   shuffle=True)\n",
    "\n",
    "  test_loader = torch.utils.data.DataLoader(\n",
    "                  dataset=test_set,\n",
    "                  batch_size=batch_size_test,\n",
    "                  shuffle=True)\n",
    "\n",
    "  print('==>>> total trainning batches: {}'.format(len(train_loader)))\n",
    "  print('==>>> total testing batches: {}'.format(len(test_loader)))\n",
    "\n",
    "  for seq in train_loader:\n",
    "      print('--- Sample')\n",
    "      print('Input: ', seq.shape)\n",
    "      break\n",
    "      \n",
    "  return train_loader, test_loader"
   ]
  },
  {
   "cell_type": "code",
   "execution_count": 46,
   "metadata": {},
   "outputs": [
    {
     "name": "stdout",
     "output_type": "stream",
     "text": [
      "==>>> total trainning batches: 704\n",
      "==>>> total testing batches: 10\n",
      "--- Sample\n",
      "Input:  torch.Size([128, 4, 32, 32])\n"
     ]
    }
   ],
   "source": [
    "train_loader, test_loader = make_loaders(dat)"
   ]
  },
  {
   "cell_type": "markdown",
   "metadata": {},
   "source": [
    "#### Plot sample animations from the dataset:"
   ]
  },
  {
   "cell_type": "code",
   "execution_count": 103,
   "metadata": {},
   "outputs": [
    {
     "name": "stdout",
     "output_type": "stream",
     "text": [
      "   FRAME 1  |  FRAME 2  |  FRAME 3  |  FRAME 4\n",
      "\n"
     ]
    },
    {
     "data": {
      "image/png": "[encoded data removed]",
      "text/plain": [
       "<Figure size 432x288 with 4 Axes>"
      ]
     },
     "metadata": {},
     "output_type": "display_data"
    },
    {
     "name": "stdout",
     "output_type": "stream",
     "text": [
      "\n"
     ]
    },
    {
     "data": {
      "image/png": "[encoded data removed]",
      "text/plain": [
       "<Figure size 432x288 with 4 Axes>"
      ]
     },
     "metadata": {},
     "output_type": "display_data"
    },
    {
     "name": "stdout",
     "output_type": "stream",
     "text": [
      "\n"
     ]
    },
    {
     "data": {
      "image/png": "[encoded data removed]",
      "text/plain": [
       "<Figure size 432x288 with 4 Axes>"
      ]
     },
     "metadata": {},
     "output_type": "display_data"
    },
    {
     "name": "stdout",
     "output_type": "stream",
     "text": [
      "\n"
     ]
    },
    {
     "data": {
      "image/png": "[encoded data removed]",
      "text/plain": [
       "<Figure size 432x288 with 4 Axes>"
      ]
     },
     "metadata": {},
     "output_type": "display_data"
    },
    {
     "name": "stdout",
     "output_type": "stream",
     "text": [
      "\n"
     ]
    },
    {
     "data": {
      "image/png": "[encoded data removed]",
      "text/plain": [
       "<Figure size 432x288 with 4 Axes>"
      ]
     },
     "metadata": {},
     "output_type": "display_data"
    }
   ],
   "source": [
    "examples = enumerate(test_loader)\n",
    "batch_idx, data = next(examples)\n",
    "\n",
    "print('   FRAME 1  |  FRAME 2  |  FRAME 3  |  FRAME 4')\n",
    "for i in range(5):\n",
    "  print('')\n",
    "  imshow_list([data[i][0], data[i][1], data[i][2], data[i][3]])"
   ]
  },
  {
   "cell_type": "markdown",
   "metadata": {},
   "source": [
    "#### \n",
    "## Training an autoencoder on the dataset\n",
    "#### This will later be used to parametrize the dataset"
   ]
  },
  {
   "cell_type": "code",
   "execution_count": 56,
   "metadata": {},
   "outputs": [],
   "source": [
    "class P(nn.Module):\n",
    "  # Predictor\n",
    "  def __init__(self):\n",
    "    super(P, self).__init__()\n",
    "    self.fc1 = nn.Linear(2*16, 128)\n",
    "    self.fc2 = nn.Linear(128, 128)\n",
    "    self.fc3 = nn.Linear(128, 16)\n",
    "    self.leaky_relu = nn.LeakyReLU(0.2)\n",
    "\n",
    "  def forward(self, x1, x2):\n",
    "    x = torch.cat((x1, x2), dim=1)\n",
    "    x = self.leaky_relu(self.fc1(x))\n",
    "    x = self.leaky_relu(self.fc2(x))\n",
    "    x = self.fc3(x)\n",
    "    \n",
    "    return x\n",
    "\n",
    "class AE(nn.Module):\n",
    "  # AutoEncoder\n",
    "  def __init__(self):\n",
    "    super(AE, self).__init__()\n",
    "    self.fc1 = nn.Linear(32*32, 128)\n",
    "    self.fc2 = nn.Linear(128, 16)\n",
    "    self.fc3 = nn.Linear(16, 128)\n",
    "    self.fc4 = nn.Linear(128, 32*32)\n",
    "    self.leaky_relu = nn.LeakyReLU(0.2)\n",
    "    self.sigmoid = nn.Sigmoid()\n",
    "    \n",
    "  def encode(self, x):\n",
    "    x = x.view(-1, 32*32)\n",
    "    x = self.leaky_relu(self.fc1(x))\n",
    "    x = self.fc2(x)\n",
    "    \n",
    "    return x\n",
    "    \n",
    "  def decode(self, x):\n",
    "    x = self.leaky_relu(self.fc3(x))\n",
    "    x = self.sigmoid(self.fc4(x))\n",
    "    x = x.view(-1, 1, 32, 32)\n",
    "    \n",
    "    return x\n",
    "    \n",
    "  def forward(self, x):\n",
    "    x = self.encode(x)\n",
    "    x = self.decode(x)\n",
    "    \n",
    "    return x\n",
    "  \n",
    "  \n",
    "mse = nn.MSELoss()"
   ]
  },
  {
   "cell_type": "markdown",
   "metadata": {},
   "source": [
    "#### Load previously trained autoencoder parameters (if exists):"
   ]
  },
  {
   "cell_type": "code",
   "execution_count": 57,
   "metadata": {},
   "outputs": [
    {
     "data": {
      "text/plain": [
       "<All keys matched successfully>"
      ]
     },
     "execution_count": 57,
     "metadata": {},
     "output_type": "execute_result"
    }
   ],
   "source": [
    "ae = AE().to(device)\n",
    "ae.load_state_dict(torch.load('autoencoder.pt'))"
   ]
  },
  {
   "cell_type": "markdown",
   "metadata": {},
   "source": [
    "#### Autoencoder training: (do not run next cell if using preloaded parameters from previous cell)"
   ]
  },
  {
   "cell_type": "code",
   "execution_count": null,
   "metadata": {
    "scrolled": true
   },
   "outputs": [],
   "source": [
    "ae = AE().to(device)\n",
    "optimizer = optim.Adam(ae.parameters(), lr=0.001)\n",
    "\n",
    "for epoch in range(1, 300+1):\n",
    "  for batch_idx, data in enumerate(train_loader):\n",
    "    I4 = data[:,3:4,:,:].to(device)\n",
    "\n",
    "    optimizer.zero_grad()\n",
    "    out = ae(I4)\n",
    "    loss = mse(out, I4)\n",
    "    loss.backward()\n",
    "    optimizer.step()\n",
    "\n",
    "    if is_epoch():\n",
    "      print('Epoch {} ({:.0f}%) | loss {}'.format(\n",
    "        epoch,\n",
    "        100. * batch_idx / len(train_loader),\n",
    "        loss.data.item(),\n",
    "      ))\n",
    "      if is_image():\n",
    "        imshow_list([I4[0], out[0]])\n",
    "        \n",
    "print('Done!')"
   ]
  },
  {
   "cell_type": "markdown",
   "metadata": {},
   "source": [
    "#### Autoencoder evaluation samples:"
   ]
  },
  {
   "cell_type": "code",
   "execution_count": 110,
   "metadata": {},
   "outputs": [
    {
     "name": "stdout",
     "output_type": "stream",
     "text": [
      "  ORIGINAL   |   AUTOENCODED\n",
      "\n"
     ]
    },
    {
     "data": {
      "image/png": "[encoded data removed]",
      "text/plain": [
       "<Figure size 252x144 with 2 Axes>"
      ]
     },
     "metadata": {},
     "output_type": "display_data"
    },
    {
     "name": "stdout",
     "output_type": "stream",
     "text": [
      "\n"
     ]
    },
    {
     "data": {
      "image/png": "[encoded data removed]",
      "text/plain": [
       "<Figure size 252x144 with 2 Axes>"
      ]
     },
     "metadata": {},
     "output_type": "display_data"
    },
    {
     "name": "stdout",
     "output_type": "stream",
     "text": [
      "\n"
     ]
    },
    {
     "data": {
      "image/png": "[encoded data removed]",
      "text/plain": [
       "<Figure size 252x144 with 2 Axes>"
      ]
     },
     "metadata": {},
     "output_type": "display_data"
    },
    {
     "name": "stdout",
     "output_type": "stream",
     "text": [
      "\n"
     ]
    },
    {
     "data": {
      "image/png": "[encoded data removed]",
      "text/plain": [
       "<Figure size 252x144 with 2 Axes>"
      ]
     },
     "metadata": {},
     "output_type": "display_data"
    },
    {
     "name": "stdout",
     "output_type": "stream",
     "text": [
      "\n"
     ]
    },
    {
     "data": {
      "image/png": "[encoded data removed]",
      "text/plain": [
       "<Figure size 252x144 with 2 Axes>"
      ]
     },
     "metadata": {},
     "output_type": "display_data"
    },
    {
     "name": "stdout",
     "output_type": "stream",
     "text": [
      "mse 0.001094\n"
     ]
    }
   ],
   "source": [
    "ae.eval()\n",
    "\n",
    "examples = enumerate(test_loader)\n",
    "batch_idx, data = next(examples)\n",
    "\n",
    "I4 = data[:,3:4,:,:].to(device)\n",
    "out = ae(I4)\n",
    "loss = mse(out, I4)\n",
    "\n",
    "print('  ORIGINAL   |   AUTOENCODED')\n",
    "for i in range(5):\n",
    "  print('')\n",
    "  imshow_list([I4[i], out[i]], scale=0.5)\n",
    "    \n",
    "print('mse {:.6f}'.format(loss))"
   ]
  },
  {
   "cell_type": "markdown",
   "metadata": {},
   "source": [
    "#### Save autoencoder parameters:"
   ]
  },
  {
   "cell_type": "code",
   "execution_count": null,
   "metadata": {},
   "outputs": [],
   "source": [
    "torch.save(ae.state_dict(), 'autoencoder.pt')"
   ]
  },
  {
   "cell_type": "markdown",
   "metadata": {},
   "source": [
    "#### \n",
    "## Train a simple feedforward predictor\n",
    "#### This is to show limitations and to compare with the next approach"
   ]
  },
  {
   "cell_type": "code",
   "execution_count": 68,
   "metadata": {},
   "outputs": [],
   "source": [
    "class Pred(nn.Module):\n",
    "  # Predictor\n",
    "  def __init__(self):\n",
    "    super(Pred, self).__init__()\n",
    "    self.fc1 = nn.Linear(3*32*32, 512)\n",
    "    self.fc2 = nn.Linear(512, 256)\n",
    "    self.fc3 = nn.Linear(256, 32)\n",
    "    self.fc4 = nn.Linear(32, 256)\n",
    "    self.fc5 = nn.Linear(256, 512)\n",
    "    self.fc6 = nn.Linear(512, 32*32)\n",
    "    \n",
    "    self.leaky_relu = nn.LeakyReLU(0.2)\n",
    "    self.sigmoid = nn.Sigmoid()\n",
    "\n",
    "  def forward(self, x1, x2, x3):\n",
    "    x = torch.cat((x1, x2, x3), dim=1)\n",
    "    x = x.view(-1, 3*32*32)\n",
    "    x = self.leaky_relu(self.fc1(x))\n",
    "    x = self.leaky_relu(self.fc2(x))\n",
    "    x = self.leaky_relu(self.fc3(x))\n",
    "    x = self.leaky_relu(self.fc4(x))\n",
    "    x = self.leaky_relu(self.fc5(x))\n",
    "    x = self.sigmoid(self.fc6(x))\n",
    "    x = x.view(-1, 1, 32, 32)\n",
    "    \n",
    "    return x"
   ]
  },
  {
   "cell_type": "markdown",
   "metadata": {},
   "source": [
    "#### Load previously trained feedforward predictor parameters (if exists):"
   ]
  },
  {
   "cell_type": "code",
   "execution_count": 69,
   "metadata": {},
   "outputs": [
    {
     "data": {
      "text/plain": [
       "<All keys matched successfully>"
      ]
     },
     "execution_count": 69,
     "metadata": {},
     "output_type": "execute_result"
    }
   ],
   "source": [
    "pred = Pred().to(device)\n",
    "pred.load_state_dict(torch.load('bottom_up_predictor.pt'))"
   ]
  },
  {
   "cell_type": "markdown",
   "metadata": {},
   "source": [
    "#### Feedforward predictor training: (do not run next cell if using preloaded parameters from previous cell)"
   ]
  },
  {
   "cell_type": "code",
   "execution_count": null,
   "metadata": {},
   "outputs": [],
   "source": [
    "pred = Pred().to(device)\n",
    "optimizer = optim.Adam(pred.parameters(), lr=0.001)\n",
    "mse = nn.MSELoss()\n",
    "\n",
    "for epoch in range(1, 100+1):\n",
    "  for batch_idx, data in enumerate(train_loader):\n",
    "    I1 = data[:,0:1,:,:].to(device)\n",
    "    I2 = data[:,1:2,:,:].to(device)\n",
    "    I3 = data[:,2:3,:,:].to(device)\n",
    "    I4 = data[:,3:4,:,:].to(device)\n",
    "\n",
    "    optimizer.zero_grad()\n",
    "    out = pred(I1, I2, I3)\n",
    "    loss = mse(out, I4)\n",
    "    loss.backward()\n",
    "    optimizer.step()\n",
    "\n",
    "    if is_epoch():\n",
    "      print('Epoch {} ({:.0f}%) | loss {}'.format(\n",
    "        epoch,\n",
    "        100. * batch_idx / len(train_loader),\n",
    "        loss.data.item(),\n",
    "      ))\n",
    "      if is_image():\n",
    "        imshow_list([I1[0], I2[0], I3[0], I4[0], out[0]], scale=2.0)\n",
    "        \n",
    "print('Done!')"
   ]
  },
  {
   "cell_type": "markdown",
   "metadata": {},
   "source": [
    "#### Feedforward predictor evaluation samples:"
   ]
  },
  {
   "cell_type": "code",
   "execution_count": 140,
   "metadata": {
    "scrolled": true
   },
   "outputs": [
    {
     "name": "stdout",
     "output_type": "stream",
     "text": [
      "FRAME 1 (INPUT) | FRAME 2 (INPUT) | FRAME 3 (INPUT) | FRAME 4 (GROUND-TRUTH) | FRAME 4 (PREDICTION)\n",
      "\n"
     ]
    },
    {
     "data": {
      "image/png": "[encoded data removed]",
      "text/plain": [
       "<Figure size 856.8x489.6 with 5 Axes>"
      ]
     },
     "metadata": {},
     "output_type": "display_data"
    },
    {
     "name": "stdout",
     "output_type": "stream",
     "text": [
      "\n"
     ]
    },
    {
     "data": {
      "image/png": "[encoded data removed]",
      "text/plain": [
       "<Figure size 856.8x489.6 with 5 Axes>"
      ]
     },
     "metadata": {},
     "output_type": "display_data"
    },
    {
     "name": "stdout",
     "output_type": "stream",
     "text": [
      "\n"
     ]
    },
    {
     "data": {
      "image/png": "[encoded data removed]",
      "text/plain": [
       "<Figure size 856.8x489.6 with 5 Axes>"
      ]
     },
     "metadata": {},
     "output_type": "display_data"
    },
    {
     "name": "stdout",
     "output_type": "stream",
     "text": [
      "\n"
     ]
    },
    {
     "data": {
      "image/png": "[encoded data removed]",
      "text/plain": [
       "<Figure size 856.8x489.6 with 5 Axes>"
      ]
     },
     "metadata": {},
     "output_type": "display_data"
    },
    {
     "name": "stdout",
     "output_type": "stream",
     "text": [
      "\n"
     ]
    },
    {
     "data": {
      "image/png": "[encoded data removed]",
      "text/plain": [
       "<Figure size 856.8x489.6 with 5 Axes>"
      ]
     },
     "metadata": {},
     "output_type": "display_data"
    },
    {
     "name": "stdout",
     "output_type": "stream",
     "text": [
      "mse 0.026425\n"
     ]
    }
   ],
   "source": [
    "pred.eval()\n",
    "\n",
    "examples = enumerate(test_loader)\n",
    "batch_idx, data = next(examples)\n",
    "\n",
    "I1 = data[:,0:1,:,:].to(device)\n",
    "I2 = data[:,1:2,:,:].to(device)\n",
    "I3 = data[:,2:3,:,:].to(device)\n",
    "I4 = data[:,3:4,:,:].to(device)\n",
    "\n",
    "out = pred(I1, I2, I3)\n",
    "loss = mse(out, I4)\n",
    "\n",
    "print('FRAME 1 (INPUT) | FRAME 2 (INPUT) | FRAME 3 (INPUT) | FRAME 4 (GROUND-TRUTH) | FRAME 4 (PREDICTION)')\n",
    "for i in range(5):\n",
    "  print('')\n",
    "  imshow_list([I1[i], I2[i], I3[i], I4[i], out[i]], scale=1.7)\n",
    "\n",
    "print('mse {:.6f}'.format(loss))"
   ]
  },
  {
   "cell_type": "markdown",
   "metadata": {},
   "source": [
    "#### Save feedforward predictor parameters:"
   ]
  },
  {
   "cell_type": "code",
   "execution_count": null,
   "metadata": {},
   "outputs": [],
   "source": [
    "torch.save(pred.state_dict(), 'bottom_up_predictor.pt')"
   ]
  },
  {
   "cell_type": "markdown",
   "metadata": {},
   "source": [
    "####\n",
    "## Input gradient descent\n",
    "#### The following function performs (deterministic) gradient descent over the input space of a given function:"
   ]
  },
  {
   "cell_type": "code",
   "execution_count": 18,
   "metadata": {},
   "outputs": [],
   "source": [
    "def input_gd(x, f, steps=30, lr=300, momentum=1.0, verbose=False, zero_grad_f=None, threshold=None):\n",
    "  x = Variable(x, requires_grad=True)\n",
    "  lr = lr*x.shape[0]\n",
    "  optimizer = optim.SGD([x], lr=lr, momentum=momentum)\n",
    "  if verbose:\n",
    "    print('GD iterations:')\n",
    "    \n",
    "  min_steps = steps\n",
    "  if threshold is not None:\n",
    "    is_thresh = True\n",
    "    steps = 10000\n",
    "  for i in range(steps):\n",
    "    optimizer.zero_grad()\n",
    "    if zero_grad_f is not None:\n",
    "      zero_grad_f()\n",
    "    out = f(x)\n",
    "\n",
    "    if verbose:\n",
    "      print('i={} | err={:.6f}'.format(i, out.item()))\n",
    "      \n",
    "    if threshold is not None and out.item() < threshold and i > min_steps:\n",
    "      break\n",
    "      \n",
    "    out.backward()\n",
    "    #x.data = x.data-lr*x.grad.data/torch.norm(x.grad.data)\n",
    "    optimizer.step()\n",
    "    \n",
    "  return x.data"
   ]
  },
  {
   "cell_type": "markdown",
   "metadata": {},
   "source": [
    "#### Test the above function on the task of reconstructing a frame $I_{2}$, using the previous frame $I_{1}$ as the initial guess $x_{0}$. <br> The function used in the minimization is $MSE(x, I_{2})$."
   ]
  },
  {
   "cell_type": "code",
   "execution_count": 111,
   "metadata": {},
   "outputs": [
    {
     "name": "stdout",
     "output_type": "stream",
     "text": [
      "GD iterations:\n",
      "i=0 | err=0.115033\n",
      "i=1 | err=0.089960\n",
      "i=2 | err=0.061517\n",
      "i=3 | err=0.039662\n",
      "i=4 | err=0.025158\n",
      "i=5 | err=0.015870\n",
      "i=6 | err=0.010175\n",
      "i=7 | err=0.006740\n",
      "i=8 | err=0.004652\n",
      "i=9 | err=0.003362\n",
      "i=10 | err=0.002552\n",
      "i=11 | err=0.002022\n",
      "i=12 | err=0.001690\n",
      "i=13 | err=0.001470\n",
      "i=14 | err=0.001265\n",
      "i=15 | err=0.001162\n",
      "i=16 | err=0.001095\n",
      "i=17 | err=0.001028\n",
      "i=18 | err=0.000984\n",
      "i=19 | err=0.000942\n",
      "i=20 | err=0.000898\n",
      "i=21 | err=0.000889\n",
      "i=22 | err=0.000863\n",
      "i=23 | err=0.000830\n",
      "i=24 | err=0.000827\n",
      "i=25 | err=0.000811\n",
      "i=26 | err=0.000785\n",
      "i=27 | err=0.000781\n",
      "i=28 | err=0.000774\n",
      "i=29 | err=0.000760\n",
      "\n",
      "I1 (INITIAL GUESS) | I2 (TARGET) | RECONSTRUCTION\n"
     ]
    },
    {
     "data": {
      "image/png": "[encoded data removed]",
      "text/plain": [
       "<Figure size 432x288 with 3 Axes>"
      ]
     },
     "metadata": {},
     "output_type": "display_data"
    },
    {
     "name": "stdout",
     "output_type": "stream",
     "text": [
      "mse 0.000652\n"
     ]
    }
   ],
   "source": [
    "ae.eval()\n",
    "\n",
    "examples = enumerate(test_loader)\n",
    "batch_idx, data = next(examples)\n",
    "\n",
    "I1 = data[:,0:1,:,:].to(device)\n",
    "I2 = data[:,1:2,:,:].to(device)\n",
    "\n",
    "gt = ae(I2)\n",
    "\n",
    "x = input_gd(ae.encode(I1).data, (lambda x: mse(ae.decode(x), I2)), steps=30, lr=300, momentum=0.5, verbose=True)\n",
    "reconst = ae.decode(x)\n",
    "\n",
    "print('\\nI1 (INITIAL GUESS) | I2 (TARGET) | RECONSTRUCTION')\n",
    "imshow_list([I1[0:1], gt[0:1], reconst[0:1]])\n",
    "\n",
    "reconst_err = mse(gt, reconst)\n",
    "print('mse {:.6f}'.format(reconst_err))"
   ]
  },
  {
   "cell_type": "markdown",
   "metadata": {},
   "source": [
    "####\n",
    "## Parametrize the dataset\n",
    "#### The first half of the autoencoder (the encoder) is used to compute and save the compressed representations of the last frame input in each animation in the dataset ($I_{3}$) and the expected output ($I_{4}$)."
   ]
  },
  {
   "cell_type": "markdown",
   "metadata": {},
   "source": [
    "#### Load previously computed parametrization (if exists):"
   ]
  },
  {
   "cell_type": "code",
   "execution_count": 176,
   "metadata": {},
   "outputs": [],
   "source": [
    "codes_dat = torch.load('codes_dat.pt')"
   ]
  },
  {
   "cell_type": "markdown",
   "metadata": {},
   "source": [
    "#### Compute parametrization: (do not run next cell if using preloaded parametrization from previous cell)"
   ]
  },
  {
   "cell_type": "code",
   "execution_count": null,
   "metadata": {
    "scrolled": true
   },
   "outputs": [],
   "source": [
    "ae.eval()\n",
    "steps=100\n",
    "lr=300\n",
    "momentum=0.5\n",
    "codes_dat = torch.empty((100000, 2, 16+1), device=device)\n",
    "for i in range(100):\n",
    "  print('i = {}/100'.format(i))\n",
    "  \n",
    "  I3 = dat[i*1000:(i+1)*1000, 2:3].to(torch.float).to(device)\n",
    "  I4 = dat[i*1000:(i+1)*1000, 3:4].to(torch.float).to(device)\n",
    "  \n",
    "  # the following trick further improves the parametrization achieved from the autoencoder by\n",
    "  # using the input_gd() function to refine the encoded representations by minimizing the\n",
    "  # reconstruction error given the ground-truth\n",
    "  x = input_gd(ae.encode(I3).data, (lambda x: mse(ae.decode(x), I3)), steps=steps, lr=lr, momentum=momentum)\n",
    "  codes_dat[i*1000:(i+1)*1000, 0, 0:16] = x\n",
    "  codes_dat[i*1000:(i+1)*1000, 0, 16] = torch.arange(i*1000, (i+1)*1000)\n",
    "  if i == 0:\n",
    "    print(mse(ae.decode(x), I3).item())\n",
    "    \n",
    "  x = input_gd(ae.encode(I4).data, (lambda x: mse(ae.decode(x), I4)), steps=steps, lr=lr, momentum=momentum)\n",
    "  codes_dat[i*1000:(i+1)*1000, 1, 0:16] = x\n",
    "  codes_dat[i*1000:(i+1)*1000, 1, 16] = torch.arange(i*1000, (i+1)*1000)  \n",
    "  if i == 0:\n",
    "    print(mse(ae.decode(x), I4).item())\n",
    "      \n",
    "print('Done!')"
   ]
  },
  {
   "cell_type": "markdown",
   "metadata": {},
   "source": [
    "#### Plot sample reconstructions from parametrized representations using the second half of the autoencoder (the decoder). <br> Note improved MSE errors over the initial autoencoder reconstructions."
   ]
  },
  {
   "cell_type": "code",
   "execution_count": 177,
   "metadata": {},
   "outputs": [
    {
     "name": "stdout",
     "output_type": "stream",
     "text": [
      "==>>> total trainning batches: 704\n",
      "==>>> total testing batches: 10\n",
      "--- Sample\n",
      "Input:  torch.Size([128, 2, 17])\n"
     ]
    }
   ],
   "source": [
    "codes_train_loader, codes_test_loader = make_loaders(codes_dat)"
   ]
  },
  {
   "cell_type": "code",
   "execution_count": 178,
   "metadata": {},
   "outputs": [
    {
     "name": "stdout",
     "output_type": "stream",
     "text": [
      "  I3 DECODED  |  I4 DECODED\n",
      "\n"
     ]
    },
    {
     "data": {
      "image/png": "[encoded data removed]",
      "text/plain": [
       "<Figure size 252x144 with 2 Axes>"
      ]
     },
     "metadata": {},
     "output_type": "display_data"
    },
    {
     "name": "stdout",
     "output_type": "stream",
     "text": [
      "\n"
     ]
    },
    {
     "data": {
      "image/png": "[encoded data removed]",
      "text/plain": [
       "<Figure size 252x144 with 2 Axes>"
      ]
     },
     "metadata": {},
     "output_type": "display_data"
    },
    {
     "name": "stdout",
     "output_type": "stream",
     "text": [
      "\n"
     ]
    },
    {
     "data": {
      "image/png": "[encoded data removed]",
      "text/plain": [
       "<Figure size 252x144 with 2 Axes>"
      ]
     },
     "metadata": {},
     "output_type": "display_data"
    },
    {
     "name": "stdout",
     "output_type": "stream",
     "text": [
      "\n"
     ]
    },
    {
     "data": {
      "image/png": "[encoded data removed]",
      "text/plain": [
       "<Figure size 252x144 with 2 Axes>"
      ]
     },
     "metadata": {},
     "output_type": "display_data"
    },
    {
     "name": "stdout",
     "output_type": "stream",
     "text": [
      "\n"
     ]
    },
    {
     "data": {
      "image/png": "[encoded data removed]",
      "text/plain": [
       "<Figure size 252x144 with 2 Axes>"
      ]
     },
     "metadata": {},
     "output_type": "display_data"
    },
    {
     "name": "stdout",
     "output_type": "stream",
     "text": [
      "mse 0.000539\n",
      "mse 0.000534\n"
     ]
    }
   ],
   "source": [
    "examples = enumerate(codes_test_loader)\n",
    "batch_idx, data = next(examples)\n",
    "\n",
    "print('  I3 DECODED  |  I4 DECODED')\n",
    "for i in range(5):\n",
    "  print('')\n",
    "  imshow_list([dat[int(data[i,0,16].item()), 2], dat[int(data[i,1,16].item()), 3]], scale=0.5)\n",
    "\n",
    "err = mse(ae.decode(data[:,0,0:16]), dat[data[:,0,16].to(torch.long), 2:3].to(torch.float).to(device)).item()\n",
    "print('mse {:.6f}'.format(err))\n",
    "err = mse(ae.decode(data[:,1,0:16]), dat[data[:,1,16].to(torch.long), 3:4].to(torch.float).to(device)).item()\n",
    "print('mse {:.6f}'.format(err))"
   ]
  },
  {
   "cell_type": "markdown",
   "metadata": {},
   "source": [
    "#### Save parametrization:"
   ]
  },
  {
   "cell_type": "code",
   "execution_count": null,
   "metadata": {},
   "outputs": [],
   "source": [
    "torch.save(codes_dat, 'codes_dat.pt')"
   ]
  },
  {
   "cell_type": "markdown",
   "metadata": {},
   "source": [
    "####\n",
    "## cGAN-style discriminator-based prediction\n",
    "#### Except there is no generator network. Instead, predictions are generated at each step by minimizing the discriminator value using input_gd() over the $I_{4}$ parameter space."
   ]
  },
  {
   "cell_type": "code",
   "execution_count": 155,
   "metadata": {},
   "outputs": [],
   "source": [
    "class D(nn.Module):\n",
    "  # Predictor\n",
    "  def __init__(self):\n",
    "    super(D, self).__init__()\n",
    "    self.fc1 = nn.Linear(4*32*32, 512)\n",
    "    self.fc2 = nn.Linear(512, 256)\n",
    "    self.fc3 = nn.Linear(256, 32)\n",
    "    self.fc4 = nn.Linear(32, 1)\n",
    "    \n",
    "    self.leaky_relu = nn.LeakyReLU(0.2)\n",
    "    self.sigmoid = nn.Sigmoid()\n",
    "\n",
    "  def forward(self, x1, x2, x3, x4, activation=True):\n",
    "    x = torch.cat((x1, x2, x3, x4), dim=1)\n",
    "    x = x.view(-1, 4*32*32)\n",
    "    x = self.leaky_relu(self.fc1(x))\n",
    "    x = self.leaky_relu(self.fc2(x))\n",
    "    x = self.leaky_relu(self.fc3(x))\n",
    "    x = self.fc4(x)\n",
    "    if activation:\n",
    "      x = self.sigmoid(x)\n",
    "    \n",
    "    return x"
   ]
  },
  {
   "cell_type": "code",
   "execution_count": 156,
   "metadata": {},
   "outputs": [],
   "source": [
    "def evaluate(net, verbose=False, num_show=1, threshold=None):\n",
    "  errors = []\n",
    "  for batch_idx, data in enumerate(codes_test_loader):\n",
    "    verbose = verbose and batch_idx == 0\n",
    "    \n",
    "    I1 = dat[data[:,0,16].to(torch.long),0:1,:,:].to(torch.float).to(device)\n",
    "    I2 = dat[data[:,0,16].to(torch.long),1:2,:,:].to(torch.float).to(device)\n",
    "    I3 = dat[data[:,0,16].to(torch.long),2:3,:,:].to(torch.float).to(device)\n",
    "    I3_x = data[:,0,0:16]\n",
    "    I4 = ae.decode(data[:,1,0:16])\n",
    "\n",
    "    f = (lambda x: -d(I1, I2, I3, ae.decode(x), activation=False).mean())\n",
    "    x = input_gd(\n",
    "      I3_x, f,\n",
    "      steps=steps, lr=lr, momentum=momentum, verbose=verbose,\n",
    "      zero_grad_f=optimizer.zero_grad, threshold=threshold\n",
    "    )\n",
    "    prediction = ae.decode(x)\n",
    "\n",
    "    errors.append(mse(prediction, I4).item())\n",
    "    if batch_idx == 0:\n",
    "      print('\\nFRAME 1 (INPUT) | FRAME 2 (INPUT) | FRAME 3 (INPUT) | FRAME 4 (GROUND-TRUTH) | FRAME 4 (PREDICTION)')\n",
    "      for i in range(num_show):\n",
    "        print('')\n",
    "        imshow_list([I1[i], I2[i], I3[i], I4[i], prediction[i]], scale=1.7)\n",
    "    \n",
    "  err = sum(errors)/len(errors)\n",
    "  \n",
    "  return err\n",
    "\n",
    "\n",
    "def save_state(epoch, model, optimizer, train_errors, test_errors):\n",
    "  torch.save(\n",
    "    {\n",
    "      'model': model.state_dict(),\n",
    "      'optimizer': optimizer.state_dict(),\n",
    "      'train_errors': train_errors,\n",
    "      'test_errors': test_errors\n",
    "    },\n",
    "    'discriminator_state_{}.pt'.format(epoch)\n",
    "  )\n",
    "  \n",
    "  \n",
    "def load_state(epoch, model, optimizer):\n",
    "  state = torch.load('discriminator_state_{}.pt'.format(epoch))\n",
    "  model.load_state_dict(state['model'])\n",
    "  if optimizer is not None:\n",
    "    optimizer.load_state_dict(state['optimizer'])\n",
    "  \n",
    "  return model, optimizer, state['train_errors'], state['test_errors']\n",
    "\n",
    "\n",
    "def plot_errors(train_errors, test_errors):\n",
    "    epoch = len(train_errors)\n",
    "    plt.plot(range(1,epoch+1), train_errors, 'b')\n",
    "    plt.plot(range(1,epoch+1), test_errors, 'r')\n",
    "    plt.legend(('train','test'), loc='upper right')\n",
    "    plt.show()\n",
    "\n",
    "    \n",
    "lr = 0.1\n",
    "steps = 30\n",
    "momentum = 0.5\n",
    "threshold = None"
   ]
  },
  {
   "cell_type": "markdown",
   "metadata": {},
   "source": [
    "#### Load previously trained discriminator parameters (if exists):"
   ]
  },
  {
   "cell_type": "code",
   "execution_count": 157,
   "metadata": {},
   "outputs": [],
   "source": [
    "load_epoch = 300\n",
    "d, _, train_errors, test_errors = load_state(load_epoch, d, None)"
   ]
  },
  {
   "cell_type": "markdown",
   "metadata": {},
   "source": [
    "#### Model training: (do not run next cell if using preloaded parameters from previous cell)"
   ]
  },
  {
   "cell_type": "code",
   "execution_count": null,
   "metadata": {
    "scrolled": true
   },
   "outputs": [],
   "source": [
    "d = D().to(device)\n",
    "ae.eval()\n",
    "mse = nn.MSELoss()\n",
    "optimizer = optim.Adam(d.parameters(), lr=0.0002)\n",
    "train_errors = []\n",
    "test_errors = []\n",
    "\n",
    "start_epoch = 0\n",
    "if(start_epoch > 0):\n",
    "  d, optimizer, train_errors, test_errors = load_state(start_epoch, d, optimizer)\n",
    "  \n",
    "start_epoch += 1\n",
    "\n",
    "for epoch in range(start_epoch, 300+1):\n",
    "  errors = []\n",
    "  for batch_idx, data in enumerate(codes_train_loader):\n",
    "    verbose = is_epoch()\n",
    "    \n",
    "    I1 = dat[data[:,0,16].to(torch.long),0:1,:,:].to(torch.float).to(device)\n",
    "    I2 = dat[data[:,0,16].to(torch.long),1:2,:,:].to(torch.float).to(device)\n",
    "    I3 = dat[data[:,0,16].to(torch.long),2:3,:,:].to(torch.float).to(device)\n",
    "    I3_x = data[:,0,0:16].clone()\n",
    "    I4_positive = ae.decode(data[:,1,0:16])\n",
    "    \n",
    "    '''\n",
    "    if epoch <= 2:\n",
    "      I3_negative = I2\n",
    "    else:\n",
    "      f = (lambda x: -d(I1, I2, ae.decode(x), activation=False).mean())\n",
    "      d.eval()\n",
    "      x = input_gd(ae.encode(I2).data, f, steps=30, lr=100, verbose=verbose)\n",
    "      d.train()\n",
    "      I3_negative = ae.decode(x)\n",
    "    '''\n",
    "    f = (lambda x: -d(I1, I2, I3, ae.decode(x), activation=False).mean())\n",
    "    x = input_gd(\n",
    "      I3_x, f,\n",
    "      steps=steps, lr=lr, momentum=momentum, verbose=verbose,\n",
    "      zero_grad_f=optimizer.zero_grad, threshold=threshold\n",
    "    )\n",
    "    I4_negative = ae.decode(x)\n",
    "    \n",
    "    optimizer.zero_grad()\n",
    "    out_positive = d(I1, I2, I3, I4_positive)\n",
    "    loss_positive = -torch.log(out_positive).mean()\n",
    "    \n",
    "    out_negative = d(I1, I2, I3, I4_negative)\n",
    "    loss_negative = -torch.log(1-out_negative).mean()\n",
    "\n",
    "    loss = loss_positive+loss_negative\n",
    "    loss.backward()\n",
    "    optimizer.step()\n",
    "    \n",
    "    errors.append(mse(I4_positive, I4_negative).item())\n",
    "    \n",
    "    if verbose:\n",
    "      print('Epoch={} ({:.0f}%) | out_positive={:.6f} | out_negative={:.6f} | mse={:.6f}'.format(\n",
    "        epoch,\n",
    "        100.*batch_idx/len(codes_train_loader),\n",
    "        out_positive.mean().item(),\n",
    "        out_negative.mean().item(),\n",
    "        errors[-1]\n",
    "      ))\n",
    "      imshow_list([I1[0], I2[0], I3[0], I4_positive[0], I4_negative[0]], scale=2.0)\n",
    "    \n",
    "  train_errors.append(sum(errors)/len(errors))\n",
    "  d.eval()\n",
    "  test_errors.append(evaluate(d, threshold=threshold))\n",
    "  d.train()\n",
    "  if epoch > 1:\n",
    "    plot_errors(train_errors, test_errors)\n",
    "    \n",
    "  if epoch % 5 == 0:\n",
    "    save_state(epoch, d, optimizer, train_errors, test_errors)\n",
    "    print('Model Saved.')\n",
    "  \n",
    "print('Done!')"
   ]
  },
  {
   "cell_type": "markdown",
   "metadata": {},
   "source": [
    "#### Model evaluation and samples:"
   ]
  },
  {
   "cell_type": "code",
   "execution_count": 163,
   "metadata": {},
   "outputs": [
    {
     "name": "stdout",
     "output_type": "stream",
     "text": [
      "Epoch = 300\n",
      "Train MSE = 0.070007\n",
      "Test MSE = 0.077818\n"
     ]
    },
    {
     "data": {
      "image/png": "[encoded data removed]",
      "text/plain": [
       "<Figure size 432x288 with 1 Axes>"
      ]
     },
     "metadata": {
      "needs_background": "light"
     },
     "output_type": "display_data"
    },
    {
     "name": "stdout",
     "output_type": "stream",
     "text": [
      "GD iterations:\n",
      "i=0 | err=59.787682\n",
      "i=1 | err=58.391357\n",
      "i=2 | err=56.410812\n",
      "i=3 | err=54.189434\n",
      "i=4 | err=51.837364\n",
      "i=5 | err=49.364742\n",
      "i=6 | err=46.814075\n",
      "i=7 | err=44.183033\n",
      "i=8 | err=41.506260\n",
      "i=9 | err=38.827072\n",
      "i=10 | err=36.162399\n",
      "i=11 | err=33.522095\n",
      "i=12 | err=31.004303\n",
      "i=13 | err=28.631927\n",
      "i=14 | err=26.426752\n",
      "i=15 | err=24.340006\n",
      "i=16 | err=22.382435\n",
      "i=17 | err=20.579321\n",
      "i=18 | err=18.900333\n",
      "i=19 | err=17.314621\n",
      "i=20 | err=15.837305\n",
      "i=21 | err=14.482753\n",
      "i=22 | err=13.213870\n",
      "i=23 | err=12.035194\n",
      "i=24 | err=10.947244\n",
      "i=25 | err=9.934706\n",
      "i=26 | err=8.975080\n",
      "i=27 | err=8.088917\n",
      "i=28 | err=7.267724\n",
      "i=29 | err=6.500605\n",
      "\n",
      "FRAME 1 (INPUT) | FRAME 2 (INPUT) | FRAME 3 (INPUT) | FRAME 4 (GROUND-TRUTH) | FRAME 4 (PREDICTION)\n",
      "\n"
     ]
    },
    {
     "data": {
      "image/png": "[encoded data removed]",
      "text/plain": [
       "<Figure size 856.8x489.6 with 5 Axes>"
      ]
     },
     "metadata": {},
     "output_type": "display_data"
    },
    {
     "name": "stdout",
     "output_type": "stream",
     "text": [
      "\n"
     ]
    },
    {
     "data": {
      "image/png": "[encoded data removed]",
      "text/plain": [
       "<Figure size 856.8x489.6 with 5 Axes>"
      ]
     },
     "metadata": {},
     "output_type": "display_data"
    },
    {
     "name": "stdout",
     "output_type": "stream",
     "text": [
      "\n"
     ]
    },
    {
     "data": {
      "image/png": "[encoded data removed]",
      "text/plain": [
       "<Figure size 856.8x489.6 with 5 Axes>"
      ]
     },
     "metadata": {},
     "output_type": "display_data"
    },
    {
     "name": "stdout",
     "output_type": "stream",
     "text": [
      "\n"
     ]
    },
    {
     "data": {
      "image/png": "[encoded data removed]",
      "text/plain": [
       "<Figure size 856.8x489.6 with 5 Axes>"
      ]
     },
     "metadata": {},
     "output_type": "display_data"
    },
    {
     "name": "stdout",
     "output_type": "stream",
     "text": [
      "\n"
     ]
    },
    {
     "data": {
      "image/png": "[encoded data removed]",
      "text/plain": [
       "<Figure size 856.8x489.6 with 5 Axes>"
      ]
     },
     "metadata": {},
     "output_type": "display_data"
    },
    {
     "data": {
      "text/plain": [
       "0.07781821638345718"
      ]
     },
     "execution_count": 163,
     "metadata": {},
     "output_type": "execute_result"
    }
   ],
   "source": [
    "print('Epoch = {}'.format(load_epoch))\n",
    "print('Train MSE = {:.6f}'.format(train_errors[-1]))\n",
    "print('Test MSE = {:.6f}'.format(test_errors[-1]))\n",
    "plot_errors(train_errors, test_errors)\n",
    "d.eval()\n",
    "evaluate(d, verbose=True, num_show=5, threshold=threshold)"
   ]
  },
  {
   "cell_type": "markdown",
   "metadata": {},
   "source": [
    "#### Plot an example 50-frame sequential prediction given 3 input frames. <br> Note no loss of fidelity due to use of discriminator."
   ]
  },
  {
   "cell_type": "code",
   "execution_count": 173,
   "metadata": {},
   "outputs": [],
   "source": [
    "d.eval()\n",
    "examples = enumerate(codes_test_loader)\n",
    "batch_idx, data = next(examples)\n",
    "frames = []\n",
    "verbose = False\n",
    "    \n",
    "I1 = dat[data[0:1,0,16].to(torch.long),0:1,:,:].to(torch.float).to(device)\n",
    "I2 = dat[data[0:1,0,16].to(torch.long),1:2,:,:].to(torch.float).to(device)\n",
    "I3 = dat[data[0:1,0,16].to(torch.long),2:3,:,:].to(torch.float).to(device)\n",
    "I3_x = data[0:1,0,0:16]\n",
    "\n",
    "frames = frames + [I1, I2, I3]\n",
    "\n",
    "for i in range(50):\n",
    "  f = (lambda x: -d(I1, I2, I3, ae.decode(x), activation=False).mean())\n",
    "  x = input_gd(\n",
    "    I3_x, f,\n",
    "    steps=steps, lr=lr, momentum=momentum, verbose=verbose,\n",
    "    zero_grad_f=optimizer.zero_grad, threshold=threshold\n",
    "  )\n",
    "  prediction = ae.decode(x).data\n",
    "  frames.append(prediction)\n",
    "\n",
    "  I1 = I2\n",
    "  I2 = I3\n",
    "  I3 = prediction\n",
    "  I3_x = ae.encode(I3)"
   ]
  },
  {
   "cell_type": "code",
   "execution_count": 174,
   "metadata": {
    "scrolled": true,
    "tags": []
   },
   "outputs": [
    {
     "data": {
      "image/png": "[encoded data removed]",
      "text/plain": [
       "<Figure size 252x144 with 1 Axes>"
      ]
     },
     "metadata": {},
     "output_type": "display_data"
    },
    {
     "data": {
      "image/png": "[encoded data removed]",
      "text/plain": [
       "<Figure size 252x144 with 1 Axes>"
      ]
     },
     "metadata": {},
     "output_type": "display_data"
    },
    {
     "data": {
      "image/png": "[encoded data removed]",
      "text/plain": [
       "<Figure size 252x144 with 1 Axes>"
      ]
     },
     "metadata": {},
     "output_type": "display_data"
    },
    {
     "data": {
      "image/png": "[encoded data removed]",
      "text/plain": [
       "<Figure size 252x144 with 1 Axes>"
      ]
     },
     "metadata": {},
     "output_type": "display_data"
    },
    {
     "data": {
      "image/png": "[encoded data removed]",
      "text/plain": [
       "<Figure size 252x144 with 1 Axes>"
      ]
     },
     "metadata": {},
     "output_type": "display_data"
    },
    {
     "data": {
      "image/png": "[encoded data removed]",
      "text/plain": [
       "<Figure size 252x144 with 1 Axes>"
      ]
     },
     "metadata": {},
     "output_type": "display_data"
    },
    {
     "data": {
      "image/png": "[encoded data removed]",
      "text/plain": [
       "<Figure size 252x144 with 1 Axes>"
      ]
     },
     "metadata": {},
     "output_type": "display_data"
    },
    {
     "data": {
      "image/png": "[encoded data removed]",
      "text/plain": [
       "<Figure size 252x144 with 1 Axes>"
      ]
     },
     "metadata": {},
     "output_type": "display_data"
    },
    {
     "data": {
      "image/png": "[encoded data removed]",
      "text/plain": [
       "<Figure size 252x144 with 1 Axes>"
      ]
     },
     "metadata": {},
     "output_type": "display_data"
    },
    {
     "data": {
      "image/png": "[encoded data removed]",
      "text/plain": [
       "<Figure size 252x144 with 1 Axes>"
      ]
     },
     "metadata": {},
     "output_type": "display_data"
    },
    {
     "data": {
      "image/png": "[encoded data removed]",
      "text/plain": [
       "<Figure size 252x144 with 1 Axes>"
      ]
     },
     "metadata": {},
     "output_type": "display_data"
    },
    {
     "data": {
      "image/png": "[encoded data removed]",
      "text/plain": [
       "<Figure size 252x144 with 1 Axes>"
      ]
     },
     "metadata": {},
     "output_type": "display_data"
    },
    {
     "data": {
      "image/png": "[encoded data removed]",
      "text/plain": [
       "<Figure size 252x144 with 1 Axes>"
      ]
     },
     "metadata": {},
     "output_type": "display_data"
    },
    {
     "data": {
      "image/png": "[encoded data removed]",
      "text/plain": [
       "<Figure size 252x144 with 1 Axes>"
      ]
     },
     "metadata": {},
     "output_type": "display_data"
    },
    {
     "data": {
      "image/png": "[encoded data removed]",
      "text/plain": [
       "<Figure size 252x144 with 1 Axes>"
      ]
     },
     "metadata": {},
     "output_type": "display_data"
    },
    {
     "data": {
      "image/png": "[encoded data removed]",
      "text/plain": [
       "<Figure size 252x144 with 1 Axes>"
      ]
     },
     "metadata": {},
     "output_type": "display_data"
    },
    {
     "data": {
      "image/png": "[encoded data removed]",
      "text/plain": [
       "<Figure size 252x144 with 1 Axes>"
      ]
     },
     "metadata": {},
     "output_type": "display_data"
    },
    {
     "data": {
      "image/png": "[encoded data removed]",
      "text/plain": [
       "<Figure size 252x144 with 1 Axes>"
      ]
     },
     "metadata": {},
     "output_type": "display_data"
    },
    {
     "data": {
      "image/png": "[encoded data removed]",
      "text/plain": [
       "<Figure size 252x144 with 1 Axes>"
      ]
     },
     "metadata": {},
     "output_type": "display_data"
    },
    {
     "data": {
      "image/png": "[encoded data removed]",
      "text/plain": [
       "<Figure size 252x144 with 1 Axes>"
      ]
     },
     "metadata": {},
     "output_type": "display_data"
    },
    {
     "data": {
      "image/png": "[encoded data removed]",
      "text/plain": [
       "<Figure size 252x144 with 1 Axes>"
      ]
     },
     "metadata": {},
     "output_type": "display_data"
    },
    {
     "data": {
      "image/png": "[encoded data removed]",
      "text/plain": [
       "<Figure size 252x144 with 1 Axes>"
      ]
     },
     "metadata": {},
     "output_type": "display_data"
    },
    {
     "data": {
      "image/png": "[encoded data removed]",
      "text/plain": [
       "<Figure size 252x144 with 1 Axes>"
      ]
     },
     "metadata": {},
     "output_type": "display_data"
    },
    {
     "data": {
      "image/png": "[encoded data removed]",
      "text/plain": [
       "<Figure size 252x144 with 1 Axes>"
      ]
     },
     "metadata": {},
     "output_type": "display_data"
    },
    {
     "data": {
      "image/png": "[encoded data removed]",
      "text/plain": [
       "<Figure size 252x144 with 1 Axes>"
      ]
     },
     "metadata": {},
     "output_type": "display_data"
    },
    {
     "data": {
      "image/png": "[encoded data removed]",
      "text/plain": [
       "<Figure size 252x144 with 1 Axes>"
      ]
     },
     "metadata": {},
     "output_type": "display_data"
    },
    {
     "data": {
      "image/png": "[encoded data removed]",
      "text/plain": [
       "<Figure size 252x144 with 1 Axes>"
      ]
     },
     "metadata": {},
     "output_type": "display_data"
    },
    {
     "data": {
      "image/png": "[encoded data removed]",
      "text/plain": [
       "<Figure size 252x144 with 1 Axes>"
      ]
     },
     "metadata": {},
     "output_type": "display_data"
    },
    {
     "data": {
      "image/png": "[encoded data removed]",
      "text/plain": [
       "<Figure size 252x144 with 1 Axes>"
      ]
     },
     "metadata": {},
     "output_type": "display_data"
    },
    {
     "data": {
      "image/png": "[encoded data removed]",
      "text/plain": [
       "<Figure size 252x144 with 1 Axes>"
      ]
     },
     "metadata": {},
     "output_type": "display_data"
    },
    {
     "data": {
      "image/png": "[encoded data removed]",
      "text/plain": [
       "<Figure size 252x144 with 1 Axes>"
      ]
     },
     "metadata": {},
     "output_type": "display_data"
    },
    {
     "data": {
      "image/png": "[encoded data removed]",
      "text/plain": [
       "<Figure size 252x144 with 1 Axes>"
      ]
     },
     "metadata": {},
     "output_type": "display_data"
    },
    {
     "data": {
      "image/png": "[encoded data removed]",
      "text/plain": [
       "<Figure size 252x144 with 1 Axes>"
      ]
     },
     "metadata": {},
     "output_type": "display_data"
    },
    {
     "data": {
      "image/png": "[encoded data removed]",
      "text/plain": [
       "<Figure size 252x144 with 1 Axes>"
      ]
     },
     "metadata": {},
     "output_type": "display_data"
    },
    {
     "data": {
      "image/png": "[encoded data removed]",
      "text/plain": [
       "<Figure size 252x144 with 1 Axes>"
      ]
     },
     "metadata": {},
     "output_type": "display_data"
    },
    {
     "data": {
      "image/png": "[encoded data removed]",
      "text/plain": [
       "<Figure size 252x144 with 1 Axes>"
      ]
     },
     "metadata": {},
     "output_type": "display_data"
    },
    {
     "data": {
      "image/png": "[encoded data removed]",
      "text/plain": [
       "<Figure size 252x144 with 1 Axes>"
      ]
     },
     "metadata": {},
     "output_type": "display_data"
    },
    {
     "data": {
      "image/png": "[encoded data removed]",
      "text/plain": [
       "<Figure size 252x144 with 1 Axes>"
      ]
     },
     "metadata": {},
     "output_type": "display_data"
    },
    {
     "data": {
      "image/png": "[encoded data removed]",
      "text/plain": [
       "<Figure size 252x144 with 1 Axes>"
      ]
     },
     "metadata": {},
     "output_type": "display_data"
    },
    {
     "data": {
      "image/png": "[encoded data removed]",
      "text/plain": [
       "<Figure size 252x144 with 1 Axes>"
      ]
     },
     "metadata": {},
     "output_type": "display_data"
    },
    {
     "data": {
      "image/png": "[encoded data removed]",
      "text/plain": [
       "<Figure size 252x144 with 1 Axes>"
      ]
     },
     "metadata": {},
     "output_type": "display_data"
    },
    {
     "data": {
      "image/png": "[encoded data removed]",
      "text/plain": [
       "<Figure size 252x144 with 1 Axes>"
      ]
     },
     "metadata": {},
     "output_type": "display_data"
    },
    {
     "data": {
      "image/png": "[encoded data removed]",
      "text/plain": [
       "<Figure size 252x144 with 1 Axes>"
      ]
     },
     "metadata": {},
     "output_type": "display_data"
    },
    {
     "data": {
      "image/png": "[encoded data removed]",
      "text/plain": [
       "<Figure size 252x144 with 1 Axes>"
      ]
     },
     "metadata": {},
     "output_type": "display_data"
    },
    {
     "data": {
      "image/png": "[encoded data removed]",
      "text/plain": [
       "<Figure size 252x144 with 1 Axes>"
      ]
     },
     "metadata": {},
     "output_type": "display_data"
    },
    {
     "data": {
      "image/png": "[encoded data removed]",
      "text/plain": [
       "<Figure size 252x144 with 1 Axes>"
      ]
     },
     "metadata": {},
     "output_type": "display_data"
    },
    {
     "data": {
      "image/png": "[encoded data removed]",
      "text/plain": [
       "<Figure size 252x144 with 1 Axes>"
      ]
     },
     "metadata": {},
     "output_type": "display_data"
    },
    {
     "data": {
      "image/png": "[encoded data removed]",
      "text/plain": [
       "<Figure size 252x144 with 1 Axes>"
      ]
     },
     "metadata": {},
     "output_type": "display_data"
    },
    {
     "data": {
      "image/png": "[encoded data removed]",
      "text/plain": [
       "<Figure size 252x144 with 1 Axes>"
      ]
     },
     "metadata": {},
     "output_type": "display_data"
    },
    {
     "data": {
      "image/png": "[encoded data removed]",
      "text/plain": [
       "<Figure size 252x144 with 1 Axes>"
      ]
     },
     "metadata": {},
     "output_type": "display_data"
    },
    {
     "data": {
      "image/png": "[encoded data removed]",
      "text/plain": [
       "<Figure size 252x144 with 1 Axes>"
      ]
     },
     "metadata": {},
     "output_type": "display_data"
    },
    {
     "data": {
      "image/png": "[encoded data removed]",
      "text/plain": [
       "<Figure size 252x144 with 1 Axes>"
      ]
     },
     "metadata": {},
     "output_type": "display_data"
    },
    {
     "data": {
      "image/png": "[encoded data removed]",
      "text/plain": [
       "<Figure size 252x144 with 1 Axes>"
      ]
     },
     "metadata": {},
     "output_type": "display_data"
    }
   ],
   "source": [
    "for i in range(len(frames)):\n",
    "  frames[i] = frames[i].cpu().squeeze()\n",
    "  \n",
    "for im in frames:\n",
    "  imshow_list([im], scale=0.5)"
   ]
  }
 ],
 "metadata": {
  "environment": {
   "kernel": "python3",
   "name": "pytorch-gpu.1-10.m86",
   "type": "gcloud",
   "uri": "gcr.io/deeplearning-platform-release/pytorch-gpu.1-10:m86"
  },
  "kernelspec": {
   "display_name": "Python 3",
   "language": "python",
   "name": "python3"
  },
  "language_info": {
   "codemirror_mode": {
    "name": "ipython",
    "version": 3
   },
   "file_extension": ".py",
   "mimetype": "text/x-python",
   "name": "python",
   "nbconvert_exporter": "python",
   "pygments_lexer": "ipython3",
   "version": "3.7.12"
  }
 },
 "nbformat": 4,
 "nbformat_minor": 4
}
